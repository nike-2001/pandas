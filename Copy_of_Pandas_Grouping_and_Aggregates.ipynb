{
  "nbformat": 4,
  "nbformat_minor": 0,
  "metadata": {
    "colab": {
      "name": "Copy of Pandas: Grouping and Aggregates",
      "provenance": [],
      "collapsed_sections": [],
      "toc_visible": true,
      "include_colab_link": true
    },
    "kernelspec": {
      "name": "python3",
      "display_name": "Python 3"
    }
  },
  "cells": [
    {
      "cell_type": "markdown",
      "metadata": {
        "id": "view-in-github",
        "colab_type": "text"
      },
      "source": [
        "<a href=\"https://colab.research.google.com/github/nike-2001/pandas/blob/main/Copy_of_Pandas_Grouping_and_Aggregates.ipynb\" target=\"_parent\"><img src=\"https://colab.research.google.com/assets/colab-badge.svg\" alt=\"Open In Colab\"/></a>"
      ]
    },
    {
      "cell_type": "code",
      "metadata": {
        "id": "XtyPJLjoEyUS"
      },
      "source": [
        "import pandas as pd\n",
        "import numpy as np"
      ],
      "execution_count": null,
      "outputs": []
    },
    {
      "cell_type": "markdown",
      "metadata": {
        "id": "9AF3vu8QRfcB"
      },
      "source": [
        "# Downloading and Loading Datasets\n",
        "Downloading all the required csv files and loading the data into the dataframes"
      ]
    },
    {
      "cell_type": "code",
      "metadata": {
        "id": "g3OjByf8RfcB",
        "colab": {
          "base_uri": "https://localhost:8080/"
        },
        "outputId": "783e085c-c0d2-4a9d-ae30-cab1b4011ff5"
      },
      "source": [
        "# eCommerce Dataset\n",
        "!wget https://nkb-backend-otg-media-static.s3.ap-south-1.amazonaws.com/otg_prod/media/Tech_4.0/AI_ML/Datasets/shopping_data.csv\n",
        "\n",
        "shopping_df = pd.read_csv('shopping_data.csv')"
      ],
      "execution_count": null,
      "outputs": [
        {
          "output_type": "stream",
          "text": [
            "--2021-01-25 12:07:02--  https://nkb-backend-otg-media-static.s3.ap-south-1.amazonaws.com/otg_prod/media/Tech_4.0/AI_ML/Datasets/shopping_data.csv\n",
            "Resolving nkb-backend-otg-media-static.s3.ap-south-1.amazonaws.com (nkb-backend-otg-media-static.s3.ap-south-1.amazonaws.com)... 52.219.64.63\n",
            "Connecting to nkb-backend-otg-media-static.s3.ap-south-1.amazonaws.com (nkb-backend-otg-media-static.s3.ap-south-1.amazonaws.com)|52.219.64.63|:443... connected.\n",
            "HTTP request sent, awaiting response... 200 OK\n",
            "Length: 16203132 (15M) [text/csv]\n",
            "Saving to: ‘shopping_data.csv’\n",
            "\n",
            "shopping_data.csv   100%[===================>]  15.45M  10.8MB/s    in 1.4s    \n",
            "\n",
            "2021-01-25 12:07:04 (10.8 MB/s) - ‘shopping_data.csv’ saved [16203132/16203132]\n",
            "\n"
          ],
          "name": "stdout"
        }
      ]
    },
    {
      "cell_type": "code",
      "metadata": {
        "id": "LIYeqaK_M8wZ",
        "colab": {
          "base_uri": "https://localhost:8080/"
        },
        "outputId": "93f7318f-0944-429b-d55c-3e810521d700"
      },
      "source": [
        "# Covid Dataset\n",
        "!wget https://nkb-backend-otg-media-static.s3.ap-south-1.amazonaws.com/otg_prod/media/Tech_4.0/AI_ML/Datasets/italy-covid-daywise.csv\n",
        "\n",
        "covid_df = pd.read_csv('italy-covid-daywise.csv')"
      ],
      "execution_count": null,
      "outputs": [
        {
          "output_type": "stream",
          "text": [
            "--2021-01-25 12:07:05--  https://nkb-backend-otg-media-static.s3.ap-south-1.amazonaws.com/otg_prod/media/Tech_4.0/AI_ML/Datasets/italy-covid-daywise.csv\n",
            "Resolving nkb-backend-otg-media-static.s3.ap-south-1.amazonaws.com (nkb-backend-otg-media-static.s3.ap-south-1.amazonaws.com)... 52.219.64.63\n",
            "Connecting to nkb-backend-otg-media-static.s3.ap-south-1.amazonaws.com (nkb-backend-otg-media-static.s3.ap-south-1.amazonaws.com)|52.219.64.63|:443... connected.\n",
            "HTTP request sent, awaiting response... 200 OK\n",
            "Length: 6619 (6.5K) [text/csv]\n",
            "Saving to: ‘italy-covid-daywise.csv’\n",
            "\n",
            "italy-covid-daywise 100%[===================>]   6.46K  --.-KB/s    in 0s      \n",
            "\n",
            "2021-01-25 12:07:05 (220 MB/s) - ‘italy-covid-daywise.csv’ saved [6619/6619]\n",
            "\n"
          ],
          "name": "stdout"
        }
      ]
    },
    {
      "cell_type": "code",
      "metadata": {
        "id": "pNKwxH46M8lC",
        "colab": {
          "base_uri": "https://localhost:8080/"
        },
        "outputId": "270268e6-4fce-4f1e-8def-5ef172aead1d"
      },
      "source": [
        "# Stackoverflow Survey Dataset\n",
        "!wget https://nkb-backend-otg-media-static.s3.ap-south-1.amazonaws.com/otg_prod/media/Tech_4.0/AI_ML/Datasets/survey_results_public.csv\n",
        "\n",
        "survey_df = pd.read_csv('survey_results_public.csv')"
      ],
      "execution_count": null,
      "outputs": [
        {
          "output_type": "stream",
          "text": [
            "--2021-01-25 12:07:05--  https://nkb-backend-otg-media-static.s3.ap-south-1.amazonaws.com/otg_prod/media/Tech_4.0/AI_ML/Datasets/survey_results_public.csv\n",
            "Resolving nkb-backend-otg-media-static.s3.ap-south-1.amazonaws.com (nkb-backend-otg-media-static.s3.ap-south-1.amazonaws.com)... 52.219.64.63\n",
            "Connecting to nkb-backend-otg-media-static.s3.ap-south-1.amazonaws.com (nkb-backend-otg-media-static.s3.ap-south-1.amazonaws.com)|52.219.64.63|:443... connected.\n",
            "HTTP request sent, awaiting response... 200 OK\n",
            "Length: 94603888 (90M) [text/csv]\n",
            "Saving to: ‘survey_results_public.csv’\n",
            "\n",
            "survey_results_publ 100%[===================>]  90.22M  20.2MB/s    in 5.0s    \n",
            "\n",
            "2021-01-25 12:07:11 (18.0 MB/s) - ‘survey_results_public.csv’ saved [94603888/94603888]\n",
            "\n"
          ],
          "name": "stdout"
        }
      ]
    },
    {
      "cell_type": "code",
      "metadata": {
        "id": "2PuJZuRAM8Za",
        "colab": {
          "base_uri": "https://localhost:8080/"
        },
        "outputId": "9e2d0ad7-1289-427a-b186-e4c007103e81"
      },
      "source": [
        "# Film Dataset\n",
        "!wget https://nkb-backend-otg-media-static.s3.ap-south-1.amazonaws.com/otg_prod/media/Tech_4.0/AI_ML/Datasets/film.csv\n",
        "\n",
        "films_df = pd.read_csv('film.csv')"
      ],
      "execution_count": null,
      "outputs": [
        {
          "output_type": "stream",
          "text": [
            "--2021-01-25 12:07:12--  https://nkb-backend-otg-media-static.s3.ap-south-1.amazonaws.com/otg_prod/media/Tech_4.0/AI_ML/Datasets/film.csv\n",
            "Resolving nkb-backend-otg-media-static.s3.ap-south-1.amazonaws.com (nkb-backend-otg-media-static.s3.ap-south-1.amazonaws.com)... 52.219.66.38\n",
            "Connecting to nkb-backend-otg-media-static.s3.ap-south-1.amazonaws.com (nkb-backend-otg-media-static.s3.ap-south-1.amazonaws.com)|52.219.66.38|:443... connected.\n",
            "HTTP request sent, awaiting response... 200 OK\n",
            "Length: 102889 (100K) [text/csv]\n",
            "Saving to: ‘film.csv’\n",
            "\n",
            "film.csv            100%[===================>] 100.48K   387KB/s    in 0.3s    \n",
            "\n",
            "2021-01-25 12:07:13 (387 KB/s) - ‘film.csv’ saved [102889/102889]\n",
            "\n"
          ],
          "name": "stdout"
        }
      ]
    },
    {
      "cell_type": "markdown",
      "metadata": {
        "id": "rNJ3vB3FasN-"
      },
      "source": [
        "# Grouping"
      ]
    },
    {
      "cell_type": "markdown",
      "metadata": {
        "id": "cqEeCmUgEql-"
      },
      "source": [
        "### pd.DataFrame.group_by\n",
        "* `pd.DataFrame.group_by(by=None, axis=0, sort=True, dropna=True)`\n",
        "  *   `by` is used to determine the groups.\n",
        "  *   `axis` specifies whether to split across rows or columns.\n",
        "\n"
      ]
    },
    {
      "cell_type": "code",
      "metadata": {
        "id": "qIO6ZOi8P-1Z",
        "colab": {
          "base_uri": "https://localhost:8080/",
          "height": 548
        },
        "outputId": "7e007bb0-5541-4f20-f39f-a155939743b3"
      },
      "source": [
        "shopping_df"
      ],
      "execution_count": null,
      "outputs": [
        {
          "output_type": "execute_result",
          "data": {
            "text/html": [
              "<div>\n",
              "<style scoped>\n",
              "    .dataframe tbody tr th:only-of-type {\n",
              "        vertical-align: middle;\n",
              "    }\n",
              "\n",
              "    .dataframe tbody tr th {\n",
              "        vertical-align: top;\n",
              "    }\n",
              "\n",
              "    .dataframe thead th {\n",
              "        text-align: right;\n",
              "    }\n",
              "</style>\n",
              "<table border=\"1\" class=\"dataframe\">\n",
              "  <thead>\n",
              "    <tr style=\"text-align: right;\">\n",
              "      <th></th>\n",
              "      <th>Order ID</th>\n",
              "      <th>Product</th>\n",
              "      <th>Quantity Ordered</th>\n",
              "      <th>Price Each</th>\n",
              "      <th>Order Date</th>\n",
              "      <th>Purchase Address</th>\n",
              "    </tr>\n",
              "  </thead>\n",
              "  <tbody>\n",
              "    <tr>\n",
              "      <th>0</th>\n",
              "      <td>176558.0</td>\n",
              "      <td>USB-C Charging Cable</td>\n",
              "      <td>2.0</td>\n",
              "      <td>11.95</td>\n",
              "      <td>04/19/19 08:46</td>\n",
              "      <td>917 1st St, Dallas, TX 75001</td>\n",
              "    </tr>\n",
              "    <tr>\n",
              "      <th>1</th>\n",
              "      <td>NaN</td>\n",
              "      <td>NaN</td>\n",
              "      <td>NaN</td>\n",
              "      <td>NaN</td>\n",
              "      <td>NaN</td>\n",
              "      <td>NaN</td>\n",
              "    </tr>\n",
              "    <tr>\n",
              "      <th>2</th>\n",
              "      <td>176559.0</td>\n",
              "      <td>Bose SoundSport Headphones</td>\n",
              "      <td>1.0</td>\n",
              "      <td>99.99</td>\n",
              "      <td>04/07/19 22:30</td>\n",
              "      <td>682 Chestnut St, Boston, MA 02215</td>\n",
              "    </tr>\n",
              "    <tr>\n",
              "      <th>3</th>\n",
              "      <td>176560.0</td>\n",
              "      <td>Google Phone</td>\n",
              "      <td>1.0</td>\n",
              "      <td>600.00</td>\n",
              "      <td>04/12/19 14:38</td>\n",
              "      <td>669 Spruce St, Los Angeles, CA 90001</td>\n",
              "    </tr>\n",
              "    <tr>\n",
              "      <th>4</th>\n",
              "      <td>NaN</td>\n",
              "      <td>NaN</td>\n",
              "      <td>NaN</td>\n",
              "      <td>NaN</td>\n",
              "      <td>NaN</td>\n",
              "      <td>NaN</td>\n",
              "    </tr>\n",
              "    <tr>\n",
              "      <th>...</th>\n",
              "      <td>...</td>\n",
              "      <td>...</td>\n",
              "      <td>...</td>\n",
              "      <td>...</td>\n",
              "      <td>...</td>\n",
              "      <td>...</td>\n",
              "    </tr>\n",
              "    <tr>\n",
              "      <th>186493</th>\n",
              "      <td>176554.0</td>\n",
              "      <td>Lightning Charging Cable</td>\n",
              "      <td>1.0</td>\n",
              "      <td>14.95</td>\n",
              "      <td>03/24/19 11:14</td>\n",
              "      <td>672 12th St, San Francisco, CA 94016</td>\n",
              "    </tr>\n",
              "    <tr>\n",
              "      <th>186494</th>\n",
              "      <td>176555.0</td>\n",
              "      <td>27in FHD Monitor</td>\n",
              "      <td>1.0</td>\n",
              "      <td>149.99</td>\n",
              "      <td>03/22/19 20:27</td>\n",
              "      <td>42 4th St, San Francisco, CA 94016</td>\n",
              "    </tr>\n",
              "    <tr>\n",
              "      <th>186495</th>\n",
              "      <td>176556.0</td>\n",
              "      <td>AAA Batteries (4-pack)</td>\n",
              "      <td>3.0</td>\n",
              "      <td>2.99</td>\n",
              "      <td>03/14/19 10:29</td>\n",
              "      <td>871 7th St, Los Angeles, CA 90001</td>\n",
              "    </tr>\n",
              "    <tr>\n",
              "      <th>186496</th>\n",
              "      <td>176557.0</td>\n",
              "      <td>iPhone</td>\n",
              "      <td>1.0</td>\n",
              "      <td>700.00</td>\n",
              "      <td>03/30/19 12:32</td>\n",
              "      <td>83 Washington St, San Francisco, CA 94016</td>\n",
              "    </tr>\n",
              "    <tr>\n",
              "      <th>186497</th>\n",
              "      <td>176557.0</td>\n",
              "      <td>Lightning Charging Cable</td>\n",
              "      <td>1.0</td>\n",
              "      <td>14.95</td>\n",
              "      <td>03/30/19 12:32</td>\n",
              "      <td>83 Washington St, San Francisco, CA 94016</td>\n",
              "    </tr>\n",
              "  </tbody>\n",
              "</table>\n",
              "<p>186498 rows × 6 columns</p>\n",
              "</div>"
            ],
            "text/plain": [
              "        Order ID  ...                           Purchase Address\n",
              "0       176558.0  ...               917 1st St, Dallas, TX 75001\n",
              "1            NaN  ...                                        NaN\n",
              "2       176559.0  ...          682 Chestnut St, Boston, MA 02215\n",
              "3       176560.0  ...       669 Spruce St, Los Angeles, CA 90001\n",
              "4            NaN  ...                                        NaN\n",
              "...          ...  ...                                        ...\n",
              "186493  176554.0  ...       672 12th St, San Francisco, CA 94016\n",
              "186494  176555.0  ...         42 4th St, San Francisco, CA 94016\n",
              "186495  176556.0  ...          871 7th St, Los Angeles, CA 90001\n",
              "186496  176557.0  ...  83 Washington St, San Francisco, CA 94016\n",
              "186497  176557.0  ...  83 Washington St, San Francisco, CA 94016\n",
              "\n",
              "[186498 rows x 6 columns]"
            ]
          },
          "metadata": {
            "tags": []
          },
          "execution_count": 6
        }
      ]
    },
    {
      "cell_type": "code",
      "metadata": {
        "id": "9rk3_rRYUhqN",
        "colab": {
          "base_uri": "https://localhost:8080/"
        },
        "outputId": "32821be4-7749-42f4-c25c-0d8ab3f6d70f"
      },
      "source": [
        "product_grp = shopping_df.groupby(['Product'])\n",
        "product_grp"
      ],
      "execution_count": null,
      "outputs": [
        {
          "output_type": "execute_result",
          "data": {
            "text/plain": [
              "<pandas.core.groupby.generic.DataFrameGroupBy object at 0x7f415ddd4588>"
            ]
          },
          "metadata": {
            "tags": []
          },
          "execution_count": 7
        }
      ]
    },
    {
      "cell_type": "code",
      "metadata": {
        "id": "wA0DUQiwQjVK",
        "colab": {
          "base_uri": "https://localhost:8080/"
        },
        "outputId": "c3c4e7a8-519e-40bb-83cf-75008a83a139"
      },
      "source": [
        "product_grp.groups"
      ],
      "execution_count": null,
      "outputs": [
        {
          "output_type": "execute_result",
          "data": {
            "text/plain": [
              "{'20in Monitor': [38, 109, 124, 143, 156, 163, 186, 242, 300, 329, 525, 581, 617, 727, 768, 783, 789, 790, 883, 1114, 1122, 1149, 1204, 1263, 1292, 1296, 1305, 1319, 1326, 1351, 1393, 1415, 1473, 1476, 1502, 1544, 1563, 1594, 1595, 1627, 1710, 1715, 1752, 1788, 1805, 1809, 1828, 1903, 2011, 2057, 2062, 2077, 2100, 2119, 2128, 2188, 2191, 2208, 2348, 2446, 2475, 2489, 2490, 2526, 2548, 2599, 2601, 2604, 2782, 2834, 2839, 2893, 2912, 3001, 3047, 3108, 3169, 3188, 3208, 3281, 3316, 3390, 3404, 3455, 3467, 3495, 3504, 3511, 3595, 3649, 3663, 3686, 3687, 3812, 3841, 3920, 3923, 3932, 4095, 4117, ...], '27in 4K Gaming Monitor': [16, 50, 117, 175, 176, 197, 200, 209, 221, 248, 277, 336, 404, 430, 510, 570, 614, 702, 709, 746, 762, 793, 805, 824, 830, 858, 933, 948, 952, 1014, 1018, 1031, 1039, 1092, 1106, 1160, 1207, 1234, 1238, 1242, 1286, 1288, 1346, 1360, 1383, 1397, 1438, 1440, 1474, 1583, 1599, 1629, 1646, 1732, 1787, 1831, 1889, 1891, 1936, 1941, 1972, 1991, 2021, 2047, 2048, 2063, 2111, 2114, 2131, 2139, 2201, 2225, 2230, 2233, 2269, 2279, 2283, 2287, 2386, 2423, 2523, 2528, 2566, 2578, 2579, 2645, 2698, 2717, 2737, 2773, 2793, 2855, 2858, 2861, 2914, 2968, 3010, 3088, 3154, 3155, ...], '27in FHD Monitor': [37, 73, 98, 119, 188, 210, 234, 309, 324, 341, 367, 368, 369, 398, 424, 435, 440, 455, 492, 535, 541, 560, 597, 602, 603, 641, 681, 720, 764, 773, 786, 799, 840, 855, 859, 879, 884, 921, 974, 980, 1046, 1049, 1050, 1086, 1141, 1198, 1222, 1321, 1322, 1340, 1342, 1384, 1406, 1430, 1442, 1447, 1592, 1603, 1621, 1727, 1740, 1743, 1755, 1849, 1881, 1904, 1915, 2018, 2039, 2066, 2088, 2099, 2132, 2155, 2203, 2217, 2289, 2291, 2306, 2362, 2404, 2420, 2449, 2457, 2458, 2469, 2494, 2496, 2500, 2505, 2527, 2564, 2600, 2620, 2635, 2641, 2677, 2678, 2679, 2686, ...], '34in Ultrawide Monitor': [112, 128, 137, 153, 192, 208, 212, 233, 282, 304, 310, 346, 378, 394, 472, 493, 504, 538, 549, 619, 700, 742, 744, 781, 836, 839, 872, 881, 902, 904, 934, 953, 960, 971, 1015, 1087, 1096, 1135, 1170, 1173, 1203, 1216, 1246, 1258, 1269, 1284, 1303, 1452, 1464, 1468, 1477, 1479, 1505, 1524, 1548, 1556, 1560, 1600, 1613, 1619, 1642, 1661, 1664, 1673, 1680, 1690, 1730, 1733, 1780, 1817, 1870, 1880, 1897, 1907, 1920, 1924, 1927, 1945, 1989, 2032, 2052, 2080, 2083, 2089, 2102, 2112, 2158, 2175, 2196, 2248, 2258, 2308, 2310, 2352, 2367, 2372, 2409, 2438, 2445, 2467, ...], 'AA Batteries (4-pack)': [17, 27, 64, 72, 74, 86, 92, 103, 110, 118, 129, 135, 146, 148, 155, 157, 162, 178, 189, 191, 204, 206, 211, 216, 220, 223, 226, 260, 261, 271, 280, 303, 305, 308, 311, 312, 313, 314, 315, 320, 326, 332, 333, 334, 405, 410, 419, 432, 461, 463, 475, 511, 527, 540, 551, 566, 588, 607, 627, 649, 659, 671, 683, 688, 689, 698, 701, 706, 708, 715, 717, 718, 726, 729, 734, 739, 740, 749, 754, 757, 758, 759, 761, 770, 776, 785, 792, 796, 825, 845, 873, 877, 893, 919, 937, 950, 982, 986, 1010, 1027, ...], 'AAA Batteries (4-pack)': [23, 31, 35, 48, 57, 60, 75, 82, 87, 95, 108, 114, 121, 125, 126, 142, 144, 174, 184, 205, 227, 240, 246, 270, 276, 283, 288, 302, 319, 323, 325, 328, 331, 335, 348, 350, 352, 353, 354, 357, 366, 370, 372, 373, 375, 377, 381, 390, 396, 397, 401, 402, 415, 418, 426, 427, 434, 439, 443, 447, 451, 457, 470, 473, 479, 483, 490, 506, 526, 530, 532, 544, 547, 555, 559, 578, 587, 608, 611, 624, 629, 630, 639, 646, 664, 668, 677, 693, 723, 735, 747, 751, 752, 769, 778, 782, 801, 821, 842, 844, ...], 'Apple Airpods Headphones': [19, 24, 25, 26, 41, 46, 59, 62, 67, 105, 120, 130, 132, 160, 168, 170, 187, 190, 215, 232, 238, 239, 293, 330, 356, 358, 360, 374, 382, 399, 442, 448, 450, 474, 476, 498, 517, 521, 529, 556, 558, 565, 582, 592, 599, 609, 626, 638, 655, 669, 672, 684, 730, 733, 774, 780, 784, 798, 809, 816, 817, 820, 850, 856, 868, 880, 899, 920, 932, 957, 961, 983, 985, 1000, 1008, 1013, 1036, 1043, 1059, 1062, 1068, 1076, 1077, 1101, 1102, 1113, 1115, 1131, 1137, 1140, 1147, 1171, 1195, 1205, 1227, 1228, 1251, 1271, 1283, 1289, ...], 'Bose SoundSport Headphones': [2, 10, 30, 33, 34, 61, 76, 113, 141, 151, 152, 183, 194, 231, 241, 244, 252, 254, 262, 269, 287, 318, 322, 337, 362, 384, 386, 407, 417, 421, 423, 429, 431, 433, 441, 444, 456, 464, 487, 491, 495, 502, 515, 524, 528, 542, 573, 575, 576, 577, 585, 596, 632, 644, 662, 665, 667, 694, 738, 743, 748, 750, 767, 810, 826, 831, 847, 853, 857, 864, 867, 890, 891, 895, 914, 946, 955, 959, 963, 967, 973, 976, 979, 981, 991, 992, 1002, 1004, 1028, 1032, 1034, 1055, 1079, 1084, 1094, 1100, 1103, 1120, 1130, 1132, ...], 'Flatscreen TV': [32, 69, 140, 164, 172, 202, 340, 347, 355, 395, 416, 512, 523, 548, 550, 561, 568, 593, 598, 623, 660, 716, 804, 846, 870, 888, 947, 987, 1009, 1054, 1098, 1189, 1250, 1278, 1329, 1358, 1381, 1538, 1570, 1678, 1693, 1750, 1769, 1774, 1800, 1816, 1837, 1892, 1957, 1994, 2000, 2031, 2105, 2108, 2141, 2218, 2228, 2320, 2374, 2377, 2427, 2439, 2492, 2576, 2586, 2653, 2657, 2664, 2670, 2756, 2796, 2842, 2847, 2894, 2906, 2989, 3048, 3068, 3075, 3077, 3120, 3161, 3186, 3230, 3308, 3314, 3317, 3417, 3480, 3515, 3527, 3539, 3589, 3599, 3630, 3728, 3782, 3805, 3816, 3829, ...], 'Google Phone': [3, 14, 21, 36, 40, 80, 97, 106, 165, 193, 243, 247, 253, 263, 267, 273, 400, 420, 445, 453, 460, 640, 663, 707, 713, 753, 828, 834, 838, 851, 865, 938, 978, 996, 1035, 1065, 1074, 1099, 1104, 1138, 1193, 1194, 1219, 1220, 1254, 1281, 1307, 1389, 1410, 1418, 1539, 1589, 1681, 1724, 1799, 1851, 1860, 1862, 1877, 1888, 1899, 1928, 1937, 1951, 1959, 2091, 2193, 2255, 2325, 2344, 2364, 2408, 2413, 2432, 2444, 2482, 2501, 2510, 2515, 2539, 2575, 2606, 2609, 2629, 2637, 2661, 2713, 2718, 2795, 2843, 2892, 2920, 2932, 2936, 2944, 2972, 2978, 2987, 3037, 3044, ...], 'LG Dryer': [56, 127, 869, 1422, 1630, 2276, 2429, 2452, 2549, 3049, 3061, 3072, 3295, 3442, 3525, 3576, 3671, 3958, 4001, 4513, 4616, 4658, 4721, 4847, 5096, 5103, 5193, 5197, 5338, 5417, 6174, 6385, 6422, 6707, 7301, 7567, 7571, 7871, 8108, 8340, 8406, 8721, 8746, 8845, 8858, 9145, 9166, 9415, 9576, 9645, 10194, 10300, 10486, 10818, 11119, 11163, 11373, 11584, 11948, 12383, 12652, 12899, 12932, 13360, 14074, 15022, 15167, 15178, 15231, 15960, 16216, 16476, 16920, 17127, 17753, 17758, 18199, 18708, 18754, 18779, 19130, 19238, 19288, 19317, 19697, 19901, 20853, 20929, 21091, 21998, 22024, 22308, 22329, 23535, 23563, 23619, 24622, 24888, 25300, 25395, ...], 'LG Washing Machine': [102, 286, 385, 600, 615, 1165, 1323, 1879, 2425, 2453, 2731, 2886, 3002, 3171, 3184, 3575, 3683, 3717, 3993, 4278, 4282, 6857, 7011, 7182, 7620, 7812, 7930, 7963, 8667, 9078, 9124, 9429, 9518, 9770, 10139, 10410, 10582, 10979, 11115, 11264, 11267, 12074, 12553, 12635, 13032, 13107, 13611, 13997, 14208, 14323, 14449, 14875, 15096, 15334, 15492, 15802, 17686, 17800, 17897, 18014, 18312, 18361, 18814, 18969, 19017, 19302, 19420, 19453, 19507, 19740, 19980, 20655, 21364, 21427, 21439, 21503, 21687, 21834, 21940, 22362, 22541, 22646, 22669, 22963, 23029, 23406, 25233, 25259, 25436, 25529, 25925, 26206, 26221, 26256, 26562, 26572, 26663, 26864, 26887, 27317, ...], 'Lightning Charging Cable': [15, 18, 39, 43, 49, 52, 65, 68, 71, 78, 84, 91, 100, 122, 134, 158, 159, 171, 173, 177, 180, 181, 198, 213, 225, 228, 235, 237, 245, 250, 258, 275, 278, 295, 298, 299, 317, 338, 361, 363, 376, 383, 387, 403, 406, 409, 413, 428, 452, 465, 471, 478, 480, 481, 503, 509, 514, 522, 534, 546, 553, 562, 572, 584, 591, 594, 595, 601, 604, 610, 612, 616, 625, 628, 634, 645, 651, 652, 661, 666, 670, 679, 682, 687, 690, 692, 703, 705, 714, 721, 725, 728, 731, 732, 741, 755, 763, 772, 777, 779, ...], 'Macbook Pro Laptop': [12, 89, 93, 96, 139, 201, 265, 486, 533, 590, 647, 656, 695, 696, 797, 832, 837, 843, 871, 909, 928, 940, 949, 956, 964, 1029, 1030, 1038, 1045, 1129, 1150, 1168, 1172, 1182, 1374, 1402, 1534, 1542, 1577, 1616, 1666, 1696, 1958, 2010, 2012, 2126, 2167, 2178, 2190, 2238, 2274, 2303, 2400, 2421, 2546, 2693, 2714, 2721, 2779, 2784, 2790, 2801, 2841, 2902, 2966, 2981, 2983, 3000, 3070, 3083, 3144, 3183, 3212, 3252, 3264, 3290, 3318, 3331, 3333, 3456, 3458, 3497, 3547, 3549, 3581, 3661, 3667, 3700, 3707, 3768, 3784, 3801, 4037, 4057, 4104, 4157, 4166, 4212, 4276, 4454, ...], 'ThinkPad Laptop': [83, 107, 115, 133, 203, 327, 339, 391, 393, 437, 567, 571, 586, 621, 622, 657, 673, 704, 812, 848, 941, 970, 977, 984, 989, 998, 1053, 1089, 1161, 1241, 1327, 1349, 1357, 1514, 1596, 1650, 1671, 1677, 1716, 1723, 1735, 1758, 1804, 1811, 1824, 1919, 1949, 1985, 2036, 2053, 2115, 2180, 2260, 2261, 2277, 2285, 2298, 2361, 2366, 2375, 2384, 2484, 2518, 2541, 2613, 2704, 2743, 2751, 2878, 2933, 2992, 3126, 3428, 3434, 3445, 3451, 3466, 3517, 3560, 3590, 3617, 3642, 3645, 3688, 3709, 3753, 3763, 3791, 3915, 3933, 3941, 3949, 3959, 4005, 4025, 4035, 4055, 4141, 4261, 4265, ...], 'USB-C Charging Cable': [0, 9, 11, 20, 22, 28, 42, 47, 51, 53, 54, 55, 63, 66, 70, 79, 81, 88, 94, 99, 104, 123, 131, 136, 147, 154, 167, 179, 182, 195, 207, 217, 219, 229, 230, 264, 266, 281, 285, 292, 296, 297, 301, 306, 307, 321, 345, 351, 364, 379, 380, 388, 392, 408, 412, 414, 438, 449, 454, 466, 468, 469, 482, 484, 485, 494, 497, 500, 501, 507, 519, 537, 545, 557, 563, 574, 579, 580, 606, 618, 642, 648, 653, 675, 678, 680, 685, 711, 722, 724, 736, 745, 756, 766, 771, 803, 806, 814, 815, 827, ...], 'Vareebadd Phone': [85, 259, 513, 564, 589, 643, 674, 686, 915, 1023, 1179, 1298, 1311, 1353, 1366, 1391, 1414, 1718, 1810, 1859, 1875, 1947, 2101, 2309, 2390, 2537, 2608, 2741, 3054, 3111, 3181, 3433, 3499, 3518, 3532, 3619, 3673, 3749, 3836, 4171, 4243, 4439, 4445, 4608, 4762, 4825, 4828, 4860, 4926, 5038, 5052, 5074, 5141, 5169, 5282, 5383, 5419, 5432, 5490, 5659, 5743, 5753, 5815, 5840, 6176, 6278, 6281, 6703, 6750, 6884, 7019, 7081, 7099, 7247, 7344, 7429, 7433, 7542, 7615, 7644, 7712, 7741, 7756, 7877, 8065, 8068, 8179, 8253, 8442, 8541, 8550, 8648, 8676, 8740, 8806, 8830, 8944, 8988, 9006, 9040, ...], 'Wired Headphones': [6, 7, 13, 44, 45, 77, 90, 111, 116, 138, 145, 150, 161, 166, 169, 196, 199, 214, 218, 222, 224, 249, 251, 255, 257, 268, 272, 274, 279, 284, 290, 291, 294, 316, 342, 343, 344, 349, 371, 389, 411, 422, 425, 436, 459, 462, 467, 477, 489, 496, 508, 516, 518, 520, 531, 543, 554, 613, 620, 631, 633, 635, 636, 654, 658, 697, 699, 712, 760, 765, 775, 787, 791, 808, 818, 819, 822, 823, 829, 841, 861, 863, 876, 882, 898, 900, 905, 910, 913, 917, 925, 926, 943, 965, 993, 995, 1019, 1020, 1022, 1025, ...], 'iPhone': [29, 58, 101, 149, 185, 236, 256, 289, 365, 446, 458, 488, 499, 505, 536, 539, 552, 569, 583, 605, 637, 650, 676, 691, 710, 719, 794, 800, 802, 813, 835, 918, 929, 944, 972, 988, 999, 1005, 1017, 1090, 1125, 1176, 1231, 1272, 1277, 1280, 1282, 1304, 1385, 1400, 1484, 1491, 1510, 1518, 1522, 1545, 1564, 1584, 1602, 1638, 1640, 1652, 1688, 1768, 1772, 1789, 1812, 1847, 1898, 1911, 1984, 2071, 2134, 2212, 2213, 2249, 2292, 2370, 2431, 2470, 2486, 2524, 2550, 2559, 2569, 2656, 2659, 2660, 2674, 2683, 2685, 2747, 2829, 2840, 2849, 2896, 2937, 2954, 2984, 3005, ...]}"
            ]
          },
          "metadata": {
            "tags": []
          },
          "execution_count": 8
        }
      ]
    },
    {
      "cell_type": "code",
      "metadata": {
        "id": "FiL9mHdUUqUZ",
        "colab": {
          "base_uri": "https://localhost:8080/",
          "height": 581
        },
        "outputId": "e6fe5b9d-1685-4e6e-f830-fd68501c0ba6"
      },
      "source": [
        "product_grp.get_group('Macbook Pro Laptop')"
      ],
      "execution_count": null,
      "outputs": [
        {
          "output_type": "execute_result",
          "data": {
            "text/html": [
              "<div>\n",
              "<style scoped>\n",
              "    .dataframe tbody tr th:only-of-type {\n",
              "        vertical-align: middle;\n",
              "    }\n",
              "\n",
              "    .dataframe tbody tr th {\n",
              "        vertical-align: top;\n",
              "    }\n",
              "\n",
              "    .dataframe thead th {\n",
              "        text-align: right;\n",
              "    }\n",
              "</style>\n",
              "<table border=\"1\" class=\"dataframe\">\n",
              "  <thead>\n",
              "    <tr style=\"text-align: right;\">\n",
              "      <th></th>\n",
              "      <th>Order ID</th>\n",
              "      <th>Product</th>\n",
              "      <th>Quantity Ordered</th>\n",
              "      <th>Price Each</th>\n",
              "      <th>Order Date</th>\n",
              "      <th>Purchase Address</th>\n",
              "    </tr>\n",
              "  </thead>\n",
              "  <tbody>\n",
              "    <tr>\n",
              "      <th>12</th>\n",
              "      <td>176565.0</td>\n",
              "      <td>Macbook Pro Laptop</td>\n",
              "      <td>1.0</td>\n",
              "      <td>1700.0</td>\n",
              "      <td>04/24/19 10:38</td>\n",
              "      <td>915 Willow St, San Francisco, CA 94016</td>\n",
              "    </tr>\n",
              "    <tr>\n",
              "      <th>89</th>\n",
              "      <td>176639.0</td>\n",
              "      <td>Macbook Pro Laptop</td>\n",
              "      <td>1.0</td>\n",
              "      <td>1700.0</td>\n",
              "      <td>04/28/19 16:14</td>\n",
              "      <td>853 Cedar St, San Francisco, CA 94016</td>\n",
              "    </tr>\n",
              "    <tr>\n",
              "      <th>93</th>\n",
              "      <td>176643.0</td>\n",
              "      <td>Macbook Pro Laptop</td>\n",
              "      <td>1.0</td>\n",
              "      <td>1700.0</td>\n",
              "      <td>04/27/19 21:32</td>\n",
              "      <td>373 Adams St, Boston, MA 02215</td>\n",
              "    </tr>\n",
              "    <tr>\n",
              "      <th>96</th>\n",
              "      <td>176646.0</td>\n",
              "      <td>Macbook Pro Laptop</td>\n",
              "      <td>1.0</td>\n",
              "      <td>1700.0</td>\n",
              "      <td>04/22/19 07:14</td>\n",
              "      <td>657 Adams St, Portland, OR 97035</td>\n",
              "    </tr>\n",
              "    <tr>\n",
              "      <th>139</th>\n",
              "      <td>176687.0</td>\n",
              "      <td>Macbook Pro Laptop</td>\n",
              "      <td>1.0</td>\n",
              "      <td>1700.0</td>\n",
              "      <td>04/30/19 10:26</td>\n",
              "      <td>121 Wilson St, Los Angeles, CA 90001</td>\n",
              "    </tr>\n",
              "    <tr>\n",
              "      <th>...</th>\n",
              "      <td>...</td>\n",
              "      <td>...</td>\n",
              "      <td>...</td>\n",
              "      <td>...</td>\n",
              "      <td>...</td>\n",
              "      <td>...</td>\n",
              "    </tr>\n",
              "    <tr>\n",
              "      <th>185987</th>\n",
              "      <td>176068.0</td>\n",
              "      <td>Macbook Pro Laptop</td>\n",
              "      <td>1.0</td>\n",
              "      <td>1700.0</td>\n",
              "      <td>03/04/19 13:28</td>\n",
              "      <td>94 Meadow St, New York City, NY 10001</td>\n",
              "    </tr>\n",
              "    <tr>\n",
              "      <th>186103</th>\n",
              "      <td>176179.0</td>\n",
              "      <td>Macbook Pro Laptop</td>\n",
              "      <td>1.0</td>\n",
              "      <td>1700.0</td>\n",
              "      <td>03/22/19 13:58</td>\n",
              "      <td>742 North St, Los Angeles, CA 90001</td>\n",
              "    </tr>\n",
              "    <tr>\n",
              "      <th>186114</th>\n",
              "      <td>176190.0</td>\n",
              "      <td>Macbook Pro Laptop</td>\n",
              "      <td>1.0</td>\n",
              "      <td>1700.0</td>\n",
              "      <td>03/02/19 20:26</td>\n",
              "      <td>246 Church St, Boston, MA 02215</td>\n",
              "    </tr>\n",
              "    <tr>\n",
              "      <th>186214</th>\n",
              "      <td>176283.0</td>\n",
              "      <td>Macbook Pro Laptop</td>\n",
              "      <td>1.0</td>\n",
              "      <td>1700.0</td>\n",
              "      <td>03/14/19 18:19</td>\n",
              "      <td>724 Cedar St, Dallas, TX 75001</td>\n",
              "    </tr>\n",
              "    <tr>\n",
              "      <th>186395</th>\n",
              "      <td>176460.0</td>\n",
              "      <td>Macbook Pro Laptop</td>\n",
              "      <td>1.0</td>\n",
              "      <td>1700.0</td>\n",
              "      <td>03/26/19 14:12</td>\n",
              "      <td>159 Highland St, Atlanta, GA 30301</td>\n",
              "    </tr>\n",
              "  </tbody>\n",
              "</table>\n",
              "<p>4724 rows × 6 columns</p>\n",
              "</div>"
            ],
            "text/plain": [
              "        Order ID  ...                        Purchase Address\n",
              "12      176565.0  ...  915 Willow St, San Francisco, CA 94016\n",
              "89      176639.0  ...   853 Cedar St, San Francisco, CA 94016\n",
              "93      176643.0  ...          373 Adams St, Boston, MA 02215\n",
              "96      176646.0  ...        657 Adams St, Portland, OR 97035\n",
              "139     176687.0  ...    121 Wilson St, Los Angeles, CA 90001\n",
              "...          ...  ...                                     ...\n",
              "185987  176068.0  ...   94 Meadow St, New York City, NY 10001\n",
              "186103  176179.0  ...     742 North St, Los Angeles, CA 90001\n",
              "186114  176190.0  ...         246 Church St, Boston, MA 02215\n",
              "186214  176283.0  ...          724 Cedar St, Dallas, TX 75001\n",
              "186395  176460.0  ...      159 Highland St, Atlanta, GA 30301\n",
              "\n",
              "[4724 rows x 6 columns]"
            ]
          },
          "metadata": {
            "tags": []
          },
          "execution_count": 9
        }
      ]
    },
    {
      "cell_type": "code",
      "metadata": {
        "id": "eaZ-GLoZOsmY",
        "colab": {
          "base_uri": "https://localhost:8080/"
        },
        "outputId": "943ca89f-3875-4ed5-ef3a-e790c98c8ceb"
      },
      "source": [
        "type(product_grp.get_group('Macbook Pro Laptop'))"
      ],
      "execution_count": null,
      "outputs": [
        {
          "output_type": "execute_result",
          "data": {
            "text/plain": [
              "pandas.core.frame.DataFrame"
            ]
          },
          "metadata": {
            "tags": []
          },
          "execution_count": 10
        }
      ]
    },
    {
      "cell_type": "code",
      "metadata": {
        "id": "-73naNTIQCKm",
        "colab": {
          "base_uri": "https://localhost:8080/",
          "height": 564
        },
        "outputId": "1ef33964-fceb-4f7f-85e2-c9545e6db5cb"
      },
      "source": [
        "films_df"
      ],
      "execution_count": null,
      "outputs": [
        {
          "output_type": "execute_result",
          "data": {
            "text/html": [
              "<div>\n",
              "<style scoped>\n",
              "    .dataframe tbody tr th:only-of-type {\n",
              "        vertical-align: middle;\n",
              "    }\n",
              "\n",
              "    .dataframe tbody tr th {\n",
              "        vertical-align: top;\n",
              "    }\n",
              "\n",
              "    .dataframe thead th {\n",
              "        text-align: right;\n",
              "    }\n",
              "</style>\n",
              "<table border=\"1\" class=\"dataframe\">\n",
              "  <thead>\n",
              "    <tr style=\"text-align: right;\">\n",
              "      <th></th>\n",
              "      <th>Year</th>\n",
              "      <th>Length</th>\n",
              "      <th>Title</th>\n",
              "      <th>Subject</th>\n",
              "      <th>Actor</th>\n",
              "      <th>Actress</th>\n",
              "      <th>Director</th>\n",
              "      <th>Popularity</th>\n",
              "      <th>Awards</th>\n",
              "    </tr>\n",
              "  </thead>\n",
              "  <tbody>\n",
              "    <tr>\n",
              "      <th>0</th>\n",
              "      <td>1990</td>\n",
              "      <td>111</td>\n",
              "      <td>Tie Me Up! Tie Me Down!</td>\n",
              "      <td>Comedy</td>\n",
              "      <td>Banderas, Antonio</td>\n",
              "      <td>Abril, Victoria</td>\n",
              "      <td>Almodóvar, Pedro</td>\n",
              "      <td>68</td>\n",
              "      <td>No</td>\n",
              "    </tr>\n",
              "    <tr>\n",
              "      <th>1</th>\n",
              "      <td>1991</td>\n",
              "      <td>113</td>\n",
              "      <td>High Heels</td>\n",
              "      <td>Comedy</td>\n",
              "      <td>Bosé, Miguel</td>\n",
              "      <td>Abril, Victoria</td>\n",
              "      <td>Almodóvar, Pedro</td>\n",
              "      <td>68</td>\n",
              "      <td>No</td>\n",
              "    </tr>\n",
              "    <tr>\n",
              "      <th>2</th>\n",
              "      <td>1983</td>\n",
              "      <td>104</td>\n",
              "      <td>Dead Zone, The</td>\n",
              "      <td>Horror</td>\n",
              "      <td>Walken, Christopher</td>\n",
              "      <td>Adams, Brooke</td>\n",
              "      <td>Cronenberg, David</td>\n",
              "      <td>79</td>\n",
              "      <td>No</td>\n",
              "    </tr>\n",
              "    <tr>\n",
              "      <th>3</th>\n",
              "      <td>1979</td>\n",
              "      <td>122</td>\n",
              "      <td>Cuba</td>\n",
              "      <td>Action</td>\n",
              "      <td>Connery, Sean</td>\n",
              "      <td>Adams, Brooke</td>\n",
              "      <td>Lester, Richard</td>\n",
              "      <td>6</td>\n",
              "      <td>No</td>\n",
              "    </tr>\n",
              "    <tr>\n",
              "      <th>4</th>\n",
              "      <td>1978</td>\n",
              "      <td>94</td>\n",
              "      <td>Days of Heaven</td>\n",
              "      <td>Drama</td>\n",
              "      <td>Gere, Richard</td>\n",
              "      <td>Adams, Brooke</td>\n",
              "      <td>Malick, Terrence</td>\n",
              "      <td>14</td>\n",
              "      <td>No</td>\n",
              "    </tr>\n",
              "    <tr>\n",
              "      <th>...</th>\n",
              "      <td>...</td>\n",
              "      <td>...</td>\n",
              "      <td>...</td>\n",
              "      <td>...</td>\n",
              "      <td>...</td>\n",
              "      <td>...</td>\n",
              "      <td>...</td>\n",
              "      <td>...</td>\n",
              "      <td>...</td>\n",
              "    </tr>\n",
              "    <tr>\n",
              "      <th>1123</th>\n",
              "      <td>1975</td>\n",
              "      <td>93</td>\n",
              "      <td>That Lucky Touch</td>\n",
              "      <td>Action</td>\n",
              "      <td>Moore, Roger</td>\n",
              "      <td>York, Susannah</td>\n",
              "      <td>Miles, Christopher</td>\n",
              "      <td>85</td>\n",
              "      <td>No</td>\n",
              "    </tr>\n",
              "    <tr>\n",
              "      <th>1124</th>\n",
              "      <td>1949</td>\n",
              "      <td>90</td>\n",
              "      <td>Lust for Gold</td>\n",
              "      <td>Drama</td>\n",
              "      <td>Ford, Glenn</td>\n",
              "      <td>Young, Gig</td>\n",
              "      <td>Simon, S. Sylvan</td>\n",
              "      <td>57</td>\n",
              "      <td>No</td>\n",
              "    </tr>\n",
              "    <tr>\n",
              "      <th>1125</th>\n",
              "      <td>1987</td>\n",
              "      <td>103</td>\n",
              "      <td>Heat</td>\n",
              "      <td>Mystery</td>\n",
              "      <td>Reynolds, Burt</td>\n",
              "      <td>Young, Karen</td>\n",
              "      <td>Jameson, Jerry</td>\n",
              "      <td>69</td>\n",
              "      <td>No</td>\n",
              "    </tr>\n",
              "    <tr>\n",
              "      <th>1126</th>\n",
              "      <td>1947</td>\n",
              "      <td>87</td>\n",
              "      <td>Night Is My Future</td>\n",
              "      <td>Drama</td>\n",
              "      <td>Malmsten, Birger</td>\n",
              "      <td>Zetterling, Mai</td>\n",
              "      <td>Bergman, Ingmar</td>\n",
              "      <td>17</td>\n",
              "      <td>No</td>\n",
              "    </tr>\n",
              "    <tr>\n",
              "      <th>1127</th>\n",
              "      <td>1990</td>\n",
              "      <td>92</td>\n",
              "      <td>Witches, The</td>\n",
              "      <td>Science Fiction</td>\n",
              "      <td>Fisher, Jasen</td>\n",
              "      <td>Zetterling, Mai</td>\n",
              "      <td>Roeg, Nicolas</td>\n",
              "      <td>18</td>\n",
              "      <td>No</td>\n",
              "    </tr>\n",
              "  </tbody>\n",
              "</table>\n",
              "<p>1128 rows × 9 columns</p>\n",
              "</div>"
            ],
            "text/plain": [
              "      Year  Length  ... Popularity Awards\n",
              "0     1990     111  ...         68     No\n",
              "1     1991     113  ...         68     No\n",
              "2     1983     104  ...         79     No\n",
              "3     1979     122  ...          6     No\n",
              "4     1978      94  ...         14     No\n",
              "...    ...     ...  ...        ...    ...\n",
              "1123  1975      93  ...         85     No\n",
              "1124  1949      90  ...         57     No\n",
              "1125  1987     103  ...         69     No\n",
              "1126  1947      87  ...         17     No\n",
              "1127  1990      92  ...         18     No\n",
              "\n",
              "[1128 rows x 9 columns]"
            ]
          },
          "metadata": {
            "tags": []
          },
          "execution_count": 11
        }
      ]
    },
    {
      "cell_type": "code",
      "metadata": {
        "id": "SRs07mJOcpvn"
      },
      "source": [
        "films_group = films_df.groupby(['Subject', 'Year'])"
      ],
      "execution_count": null,
      "outputs": []
    },
    {
      "cell_type": "code",
      "metadata": {
        "id": "YIMBlMUMX9Cq",
        "colab": {
          "base_uri": "https://localhost:8080/"
        },
        "outputId": "22cec5f9-1bea-4285-a232-0f85bfeba0da"
      },
      "source": [
        "films_group.groups"
      ],
      "execution_count": null,
      "outputs": [
        {
          "output_type": "execute_result",
          "data": {
            "text/plain": [
              "{('Action', 1926): [62], ('Action', 1939): [574], ('Action', 1940): [520], ('Action', 1943): [222], ('Action', 1949): [848], ('Action', 1950): [736], ('Action', 1953): [570], ('Action', 1954): [419], ('Action', 1956): [370], ('Action', 1957): [624, 650], ('Action', 1958): [36], ('Action', 1959): [61], ('Action', 1964): [167], ('Action', 1967): [83, 697], ('Action', 1968): [237, 879], ('Action', 1969): [604, 862], ('Action', 1970): [334, 1098], ('Action', 1971): [784], ('Action', 1972): [216, 1068], ('Action', 1973): [157, 381, 908], ('Action', 1974): [339, 756, 1067], ('Action', 1975): [122, 288, 412, 701, 1123], ('Action', 1976): [485, 802], ('Action', 1977): [69, 634, 1071], ('Action', 1978): [578, 631, 651], ('Action', 1979): [3, 227, 350, 658, 660, 1108], ('Action', 1980): [880], ('Action', 1981): [21, 178, 298], ('Action', 1982): [102, 152, 444, 793], ('Action', 1983): [5, 104, 553], ('Action', 1984): [6, 436, 989, 1035], ('Action', 1985): [340, 953, 1034], ('Action', 1986): [437, 659, 708, 771, 926], ('Action', 1987): [96, 151, 541, 579, 599, 643, 740, 957, 1013, 1080], ('Action', 1988): [64, 70, 112, 120, 194, 357, 544, 552, 667, 679, 801, 896], ('Action', 1989): [71, 100, 207, 221, 304, 307, 455, 576, 587, 615, 726, 769, 956], ('Action', 1990): [182, 582, 622, 965, 1047, 1079], ('Action', 1991): [23, 435, 514, 644, 688, 721, 770, 828, 869, 876, 893, 1007], ('Action', 1992): [51, 180, 293, 503, 959], ('Adventure', 1974): [267], ('Adventure', 1985): [815], ('Adventure', 1990): [253], ('Adventure', 1992): [1056], ('Comedy', 1931): [234], ('Comedy', 1935): [126], ('Comedy', 1936): [353, 447], ('Comedy', 1939): [402], ('Comedy', 1941): [640], ('Comedy', 1947): [328], ('Comedy', 1948): [747], ('Comedy', 1950): [513], ('Comedy', 1952): [162, 488], ('Comedy', 1953): [738], ('Comedy', 1954): [262], ('Comedy', 1955): [90, 535, 795, 938], ('Comedy', 1957): [79, 492], ('Comedy', 1958): [81, 89, 177], ('Comedy', 1959): [82, 638], ('Comedy', 1961): [252], ('Comedy', 1962): [246], ('Comedy', 1963): [18, 543, 649], ('Comedy', 1964): [88, 954], ('Comedy', 1965): [86, 378, 833, 834], ('Comedy', 1966): [338, 902, 1078, 1112, 1113], ('Comedy', 1967): [37, 341, 670, 1070], ('Comedy', 1968): [752], ('Comedy', 1969): [150], ('Comedy', 1970): [124, 154, 456, 580, 1081, 1111], ('Comedy', 1971): [60], ('Comedy', 1972): [115, 388, 564, 569, 832, 900, 925], ('Comedy', 1973): [531, 546, 1087], ('Comedy', 1974): [176], ('Comedy', 1975): [230, 548, 717], ('Comedy', 1976): [323, 563, 882], ('Comedy', 1977): [259, 550, 556, 687], ('Comedy', 1978): [458, 620, 809, 948], ('Comedy', 1979): [38, 377, 411, 416, 557, 668, 811], ('Comedy', 1980): [240, 466, 468, 505, 693, 734, 767, 1010, 1089], ('Comedy', 1981): [330, 352, 714, 730, 1051], ('Comedy', 1982): [219, 408, 459, 642], ('Comedy', 1983): [39, 202, 294, 385, 540, 547, 706, 711, 835, 1032], ('Comedy', 1984): [44, 205, 335, 347, 465, 480, 585, 743, 807, 1065], ('Comedy', 1985): [58, 59, 320, 346, 817, 1018, 1031, 1064, 1105], ('Comedy', 1986): [57, 250, 321, 349, 464, 559, 594, 602, 610, 627, 741, 806, 808, 812, 852, 858, 865, 872, 912, 924, 928, 943, 952, 961, 973, 1023, 1038, 1097], ('Comedy', 1987): [101, 188, 225, 226, 244, 260, 358, 390, 423, 443, 461, 497, 504, 507, 515, 530, 583, 586, 772, 775, 866, 944, 966], ('Comedy', 1988): [20, 45, 99, 261, 432, 434, 528, 533, 605, 675, 718, 727, 829, 836, 838, 839, 851, 894, 940, 946, 1006, 1014, 1037, 1059], ('Comedy', 1989): [199, 238, 247, 266, 365, 409, 516, 536, 692, 742, 810, 814, 850, 980, 1082, 1085, 1090], ('Comedy', 1990): [0, 218, 268, 280, 372, 477, 549, 593, 600, 608, 666, 671, 825, 857, 867, 897, 899], ('Comedy', 1991): [1, 107, 243, 313, 525, 539, 663, 739, 844, 887, 918, 970, 1058, 1106], ('Comedy', 1992): [223, 348, 439, 463, 523, 577, 696], ('Comedy', 1993): [800], ('Crime', 1932): [429], ('Drama', 1924): [54, 922], ('Drama', 1925): [405], ('Drama', 1926): [394], ('Drama', 1927): [823], ('Drama', 1928): [395, 404, 509], ('Drama', 1929): [399, 406, 639, 789], ('Drama', 1930): [393], ('Drama', 1931): [392, 398, 401, 469], ...}"
            ]
          },
          "metadata": {
            "tags": []
          },
          "execution_count": 13
        }
      ]
    },
    {
      "cell_type": "markdown",
      "metadata": {
        "id": "-rpawmR8eKun"
      },
      "source": [
        "**By default `dropna` is True, so group keys containing `NaN` values are dropped along with the row/column.**"
      ]
    },
    {
      "cell_type": "code",
      "metadata": {
        "id": "XPGNcTkLdsmH",
        "colab": {
          "base_uri": "https://localhost:8080/",
          "height": 165
        },
        "outputId": "57bc1714-471f-4846-9c1b-b2705e622155"
      },
      "source": [
        "values = [[1, 2, 3], [1, None, 4], [2, 1, 3], [1, 2, 2]]\n",
        "numeric_df = pd.DataFrame(values, columns=[\"a\", \"b\", \"c\"])\n",
        "numeric_df"
      ],
      "execution_count": null,
      "outputs": [
        {
          "output_type": "execute_result",
          "data": {
            "text/html": [
              "<div>\n",
              "<style scoped>\n",
              "    .dataframe tbody tr th:only-of-type {\n",
              "        vertical-align: middle;\n",
              "    }\n",
              "\n",
              "    .dataframe tbody tr th {\n",
              "        vertical-align: top;\n",
              "    }\n",
              "\n",
              "    .dataframe thead th {\n",
              "        text-align: right;\n",
              "    }\n",
              "</style>\n",
              "<table border=\"1\" class=\"dataframe\">\n",
              "  <thead>\n",
              "    <tr style=\"text-align: right;\">\n",
              "      <th></th>\n",
              "      <th>a</th>\n",
              "      <th>b</th>\n",
              "      <th>c</th>\n",
              "    </tr>\n",
              "  </thead>\n",
              "  <tbody>\n",
              "    <tr>\n",
              "      <th>0</th>\n",
              "      <td>1</td>\n",
              "      <td>2.0</td>\n",
              "      <td>3</td>\n",
              "    </tr>\n",
              "    <tr>\n",
              "      <th>1</th>\n",
              "      <td>1</td>\n",
              "      <td>NaN</td>\n",
              "      <td>4</td>\n",
              "    </tr>\n",
              "    <tr>\n",
              "      <th>2</th>\n",
              "      <td>2</td>\n",
              "      <td>1.0</td>\n",
              "      <td>3</td>\n",
              "    </tr>\n",
              "    <tr>\n",
              "      <th>3</th>\n",
              "      <td>1</td>\n",
              "      <td>2.0</td>\n",
              "      <td>2</td>\n",
              "    </tr>\n",
              "  </tbody>\n",
              "</table>\n",
              "</div>"
            ],
            "text/plain": [
              "   a    b  c\n",
              "0  1  2.0  3\n",
              "1  1  NaN  4\n",
              "2  2  1.0  3\n",
              "3  1  2.0  2"
            ]
          },
          "metadata": {
            "tags": []
          },
          "execution_count": 14
        }
      ]
    },
    {
      "cell_type": "code",
      "metadata": {
        "id": "EfaVX1Nsd5di",
        "colab": {
          "base_uri": "https://localhost:8080/"
        },
        "outputId": "290c8959-b58b-40bd-cb97-dd036a293e1d"
      },
      "source": [
        "grp_b = numeric_df.groupby(by=[\"b\"])\n",
        "grp_b.groups"
      ],
      "execution_count": null,
      "outputs": [
        {
          "output_type": "execute_result",
          "data": {
            "text/plain": [
              "{1.0: [2], 2.0: [0, 3]}"
            ]
          },
          "metadata": {
            "tags": []
          },
          "execution_count": 15
        }
      ]
    },
    {
      "cell_type": "markdown",
      "metadata": {
        "id": "aEc7e2k9Zsre"
      },
      "source": [
        "# Aggregations\n",
        "\n",
        "* Aggregation operations are **always performed over an axis**, either the index (default) or the column axis. \n",
        "* This behavior is **different from numpy aggregation functions** (mean, median, prod, sum, std, var), where the default is to compute the aggregation of the flattened array, e.g., numpy.mean(arr_2d) as opposed to\n",
        "numpy.mean(arr_2d, axis=0)."
      ]
    },
    {
      "cell_type": "code",
      "metadata": {
        "id": "o9DBS4GKQbmI",
        "colab": {
          "base_uri": "https://localhost:8080/",
          "height": 165
        },
        "outputId": "2639681c-38ee-47b7-c82d-72bfae8dc627"
      },
      "source": [
        "numeric_df"
      ],
      "execution_count": null,
      "outputs": [
        {
          "output_type": "execute_result",
          "data": {
            "text/html": [
              "<div>\n",
              "<style scoped>\n",
              "    .dataframe tbody tr th:only-of-type {\n",
              "        vertical-align: middle;\n",
              "    }\n",
              "\n",
              "    .dataframe tbody tr th {\n",
              "        vertical-align: top;\n",
              "    }\n",
              "\n",
              "    .dataframe thead th {\n",
              "        text-align: right;\n",
              "    }\n",
              "</style>\n",
              "<table border=\"1\" class=\"dataframe\">\n",
              "  <thead>\n",
              "    <tr style=\"text-align: right;\">\n",
              "      <th></th>\n",
              "      <th>a</th>\n",
              "      <th>b</th>\n",
              "      <th>c</th>\n",
              "    </tr>\n",
              "  </thead>\n",
              "  <tbody>\n",
              "    <tr>\n",
              "      <th>0</th>\n",
              "      <td>1</td>\n",
              "      <td>2.0</td>\n",
              "      <td>3</td>\n",
              "    </tr>\n",
              "    <tr>\n",
              "      <th>1</th>\n",
              "      <td>1</td>\n",
              "      <td>NaN</td>\n",
              "      <td>4</td>\n",
              "    </tr>\n",
              "    <tr>\n",
              "      <th>2</th>\n",
              "      <td>2</td>\n",
              "      <td>1.0</td>\n",
              "      <td>3</td>\n",
              "    </tr>\n",
              "    <tr>\n",
              "      <th>3</th>\n",
              "      <td>1</td>\n",
              "      <td>2.0</td>\n",
              "      <td>2</td>\n",
              "    </tr>\n",
              "  </tbody>\n",
              "</table>\n",
              "</div>"
            ],
            "text/plain": [
              "   a    b  c\n",
              "0  1  2.0  3\n",
              "1  1  NaN  4\n",
              "2  2  1.0  3\n",
              "3  1  2.0  2"
            ]
          },
          "metadata": {
            "tags": []
          },
          "execution_count": 16
        }
      ]
    },
    {
      "cell_type": "code",
      "metadata": {
        "id": "B9JbOW1C7V4b",
        "colab": {
          "base_uri": "https://localhost:8080/"
        },
        "outputId": "aafd234e-d8e7-4129-c84d-b0fd18d7ea14"
      },
      "source": [
        "numeric_df.mean()"
      ],
      "execution_count": null,
      "outputs": [
        {
          "output_type": "execute_result",
          "data": {
            "text/plain": [
              "a    1.250000\n",
              "b    1.666667\n",
              "c    3.000000\n",
              "dtype: float64"
            ]
          },
          "metadata": {
            "tags": []
          },
          "execution_count": 17
        }
      ]
    },
    {
      "cell_type": "code",
      "metadata": {
        "id": "i4YW_50qZ-vs",
        "colab": {
          "base_uri": "https://localhost:8080/"
        },
        "outputId": "37519e92-e3a5-494b-fa2a-aa84418072ad"
      },
      "source": [
        "print('mean of prices:', shopping_df['Price Each'].mean())\n",
        "print('median of prices:', shopping_df['Price Each'].median())\n",
        "print('maximum of prices:', shopping_df['Price Each'].max())\n",
        "print('total number of products:', shopping_df['Product'].count())"
      ],
      "execution_count": null,
      "outputs": [
        {
          "output_type": "stream",
          "text": [
            "mean of prices: 184.39973476701132\n",
            "median of prices: 14.95\n",
            "maximum of prices: 1700.0\n",
            "total number of products: 185950\n"
          ],
          "name": "stdout"
        }
      ]
    },
    {
      "cell_type": "markdown",
      "metadata": {
        "id": "8o1UwYSHRKdt"
      },
      "source": [
        "### `pd.DataFrame.value_counts`\n",
        "Can be used to count the number of times each value is repeated."
      ]
    },
    {
      "cell_type": "code",
      "metadata": {
        "id": "LJ8xtX3gTHYr",
        "colab": {
          "base_uri": "https://localhost:8080/"
        },
        "outputId": "2a998819-0fe4-4862-e8f4-1fd9fd57013c"
      },
      "source": [
        "shopping_df['Product'].unique()"
      ],
      "execution_count": null,
      "outputs": [
        {
          "output_type": "execute_result",
          "data": {
            "text/plain": [
              "array(['USB-C Charging Cable', nan, 'Bose SoundSport Headphones',\n",
              "       'Google Phone', 'Wired Headphones', 'Macbook Pro Laptop',\n",
              "       'Lightning Charging Cable', '27in 4K Gaming Monitor',\n",
              "       'AA Batteries (4-pack)', 'Apple Airpods Headphones',\n",
              "       'AAA Batteries (4-pack)', 'iPhone', 'Flatscreen TV',\n",
              "       '27in FHD Monitor', '20in Monitor', 'LG Dryer', 'ThinkPad Laptop',\n",
              "       'Vareebadd Phone', 'LG Washing Machine', '34in Ultrawide Monitor'],\n",
              "      dtype=object)"
            ]
          },
          "metadata": {
            "tags": []
          },
          "execution_count": 19
        }
      ]
    },
    {
      "cell_type": "code",
      "metadata": {
        "id": "3_Gp-LP849n8",
        "colab": {
          "base_uri": "https://localhost:8080/"
        },
        "outputId": "f0833aa1-aa5b-47f2-a2bc-ca07ff5d8a5b"
      },
      "source": [
        "print('count of each distinct product:\\n', shopping_df['Product'].value_counts())"
      ],
      "execution_count": null,
      "outputs": [
        {
          "output_type": "stream",
          "text": [
            "count of each distinct product:\n",
            " USB-C Charging Cable          21903\n",
            "Lightning Charging Cable      21658\n",
            "AAA Batteries (4-pack)        20641\n",
            "AA Batteries (4-pack)         20577\n",
            "Wired Headphones              18882\n",
            "Apple Airpods Headphones      15549\n",
            "Bose SoundSport Headphones    13325\n",
            "27in FHD Monitor               7507\n",
            "iPhone                         6842\n",
            "27in 4K Gaming Monitor         6230\n",
            "34in Ultrawide Monitor         6181\n",
            "Google Phone                   5525\n",
            "Flatscreen TV                  4800\n",
            "Macbook Pro Laptop             4724\n",
            "ThinkPad Laptop                4128\n",
            "20in Monitor                   4101\n",
            "Vareebadd Phone                2065\n",
            "LG Washing Machine              666\n",
            "LG Dryer                        646\n",
            "Name: Product, dtype: int64\n"
          ],
          "name": "stdout"
        }
      ]
    },
    {
      "cell_type": "markdown",
      "metadata": {
        "id": "xPEIUvuW4UjP"
      },
      "source": [
        "**If `normalize=True` then the object returned will contain the relative frequencies of the unique values.**"
      ]
    },
    {
      "cell_type": "code",
      "metadata": {
        "id": "LUqE23TO4bw9",
        "colab": {
          "base_uri": "https://localhost:8080/"
        },
        "outputId": "8744cc92-6d5b-4c92-eadb-da675eb5bf12"
      },
      "source": [
        "shopping_df['Product'].value_counts(normalize=True)"
      ],
      "execution_count": null,
      "outputs": [
        {
          "output_type": "execute_result",
          "data": {
            "text/plain": [
              "USB-C Charging Cable          0.117790\n",
              "Lightning Charging Cable      0.116472\n",
              "AAA Batteries (4-pack)        0.111003\n",
              "AA Batteries (4-pack)         0.110659\n",
              "Wired Headphones              0.101543\n",
              "Apple Airpods Headphones      0.083619\n",
              "Bose SoundSport Headphones    0.071659\n",
              "27in FHD Monitor              0.040371\n",
              "iPhone                        0.036795\n",
              "27in 4K Gaming Monitor        0.033504\n",
              "34in Ultrawide Monitor        0.033240\n",
              "Google Phone                  0.029712\n",
              "Flatscreen TV                 0.025813\n",
              "Macbook Pro Laptop            0.025405\n",
              "ThinkPad Laptop               0.022200\n",
              "20in Monitor                  0.022054\n",
              "Vareebadd Phone               0.011105\n",
              "LG Washing Machine            0.003582\n",
              "LG Dryer                      0.003474\n",
              "Name: Product, dtype: float64"
            ]
          },
          "metadata": {
            "tags": []
          },
          "execution_count": 21
        }
      ]
    },
    {
      "cell_type": "markdown",
      "metadata": {
        "id": "gEmCJ-q8TMX3"
      },
      "source": [
        "### Applying aggregations on groups"
      ]
    },
    {
      "cell_type": "code",
      "metadata": {
        "id": "BCUwYxcmT2oF",
        "colab": {
          "base_uri": "https://localhost:8080/",
          "height": 548
        },
        "outputId": "4b578eaf-0355-4473-ab54-2e524b67f14d"
      },
      "source": [
        "shopping_df"
      ],
      "execution_count": null,
      "outputs": [
        {
          "output_type": "execute_result",
          "data": {
            "text/html": [
              "<div>\n",
              "<style scoped>\n",
              "    .dataframe tbody tr th:only-of-type {\n",
              "        vertical-align: middle;\n",
              "    }\n",
              "\n",
              "    .dataframe tbody tr th {\n",
              "        vertical-align: top;\n",
              "    }\n",
              "\n",
              "    .dataframe thead th {\n",
              "        text-align: right;\n",
              "    }\n",
              "</style>\n",
              "<table border=\"1\" class=\"dataframe\">\n",
              "  <thead>\n",
              "    <tr style=\"text-align: right;\">\n",
              "      <th></th>\n",
              "      <th>Order ID</th>\n",
              "      <th>Product</th>\n",
              "      <th>Quantity Ordered</th>\n",
              "      <th>Price Each</th>\n",
              "      <th>Order Date</th>\n",
              "      <th>Purchase Address</th>\n",
              "    </tr>\n",
              "  </thead>\n",
              "  <tbody>\n",
              "    <tr>\n",
              "      <th>0</th>\n",
              "      <td>176558.0</td>\n",
              "      <td>USB-C Charging Cable</td>\n",
              "      <td>2.0</td>\n",
              "      <td>11.95</td>\n",
              "      <td>04/19/19 08:46</td>\n",
              "      <td>917 1st St, Dallas, TX 75001</td>\n",
              "    </tr>\n",
              "    <tr>\n",
              "      <th>1</th>\n",
              "      <td>NaN</td>\n",
              "      <td>NaN</td>\n",
              "      <td>NaN</td>\n",
              "      <td>NaN</td>\n",
              "      <td>NaN</td>\n",
              "      <td>NaN</td>\n",
              "    </tr>\n",
              "    <tr>\n",
              "      <th>2</th>\n",
              "      <td>176559.0</td>\n",
              "      <td>Bose SoundSport Headphones</td>\n",
              "      <td>1.0</td>\n",
              "      <td>99.99</td>\n",
              "      <td>04/07/19 22:30</td>\n",
              "      <td>682 Chestnut St, Boston, MA 02215</td>\n",
              "    </tr>\n",
              "    <tr>\n",
              "      <th>3</th>\n",
              "      <td>176560.0</td>\n",
              "      <td>Google Phone</td>\n",
              "      <td>1.0</td>\n",
              "      <td>600.00</td>\n",
              "      <td>04/12/19 14:38</td>\n",
              "      <td>669 Spruce St, Los Angeles, CA 90001</td>\n",
              "    </tr>\n",
              "    <tr>\n",
              "      <th>4</th>\n",
              "      <td>NaN</td>\n",
              "      <td>NaN</td>\n",
              "      <td>NaN</td>\n",
              "      <td>NaN</td>\n",
              "      <td>NaN</td>\n",
              "      <td>NaN</td>\n",
              "    </tr>\n",
              "    <tr>\n",
              "      <th>...</th>\n",
              "      <td>...</td>\n",
              "      <td>...</td>\n",
              "      <td>...</td>\n",
              "      <td>...</td>\n",
              "      <td>...</td>\n",
              "      <td>...</td>\n",
              "    </tr>\n",
              "    <tr>\n",
              "      <th>186493</th>\n",
              "      <td>176554.0</td>\n",
              "      <td>Lightning Charging Cable</td>\n",
              "      <td>1.0</td>\n",
              "      <td>14.95</td>\n",
              "      <td>03/24/19 11:14</td>\n",
              "      <td>672 12th St, San Francisco, CA 94016</td>\n",
              "    </tr>\n",
              "    <tr>\n",
              "      <th>186494</th>\n",
              "      <td>176555.0</td>\n",
              "      <td>27in FHD Monitor</td>\n",
              "      <td>1.0</td>\n",
              "      <td>149.99</td>\n",
              "      <td>03/22/19 20:27</td>\n",
              "      <td>42 4th St, San Francisco, CA 94016</td>\n",
              "    </tr>\n",
              "    <tr>\n",
              "      <th>186495</th>\n",
              "      <td>176556.0</td>\n",
              "      <td>AAA Batteries (4-pack)</td>\n",
              "      <td>3.0</td>\n",
              "      <td>2.99</td>\n",
              "      <td>03/14/19 10:29</td>\n",
              "      <td>871 7th St, Los Angeles, CA 90001</td>\n",
              "    </tr>\n",
              "    <tr>\n",
              "      <th>186496</th>\n",
              "      <td>176557.0</td>\n",
              "      <td>iPhone</td>\n",
              "      <td>1.0</td>\n",
              "      <td>700.00</td>\n",
              "      <td>03/30/19 12:32</td>\n",
              "      <td>83 Washington St, San Francisco, CA 94016</td>\n",
              "    </tr>\n",
              "    <tr>\n",
              "      <th>186497</th>\n",
              "      <td>176557.0</td>\n",
              "      <td>Lightning Charging Cable</td>\n",
              "      <td>1.0</td>\n",
              "      <td>14.95</td>\n",
              "      <td>03/30/19 12:32</td>\n",
              "      <td>83 Washington St, San Francisco, CA 94016</td>\n",
              "    </tr>\n",
              "  </tbody>\n",
              "</table>\n",
              "<p>186498 rows × 6 columns</p>\n",
              "</div>"
            ],
            "text/plain": [
              "        Order ID  ...                           Purchase Address\n",
              "0       176558.0  ...               917 1st St, Dallas, TX 75001\n",
              "1            NaN  ...                                        NaN\n",
              "2       176559.0  ...          682 Chestnut St, Boston, MA 02215\n",
              "3       176560.0  ...       669 Spruce St, Los Angeles, CA 90001\n",
              "4            NaN  ...                                        NaN\n",
              "...          ...  ...                                        ...\n",
              "186493  176554.0  ...       672 12th St, San Francisco, CA 94016\n",
              "186494  176555.0  ...         42 4th St, San Francisco, CA 94016\n",
              "186495  176556.0  ...          871 7th St, Los Angeles, CA 90001\n",
              "186496  176557.0  ...  83 Washington St, San Francisco, CA 94016\n",
              "186497  176557.0  ...  83 Washington St, San Francisco, CA 94016\n",
              "\n",
              "[186498 rows x 6 columns]"
            ]
          },
          "metadata": {
            "tags": []
          },
          "execution_count": 22
        }
      ]
    },
    {
      "cell_type": "code",
      "metadata": {
        "id": "TzD7_mL3SmWq",
        "colab": {
          "base_uri": "https://localhost:8080/"
        },
        "outputId": "ed3e2436-51d2-4e02-c282-0e009e470e20"
      },
      "source": [
        "iphone_filter = (shopping_df['Product'] == \"iPhone\")\n",
        "shopping_df[iphone_filter][\"Price Each\"].median()"
      ],
      "execution_count": null,
      "outputs": [
        {
          "output_type": "execute_result",
          "data": {
            "text/plain": [
              "700.0"
            ]
          },
          "metadata": {
            "tags": []
          },
          "execution_count": 23
        }
      ]
    },
    {
      "cell_type": "code",
      "metadata": {
        "id": "BqNmIkv1-zO-",
        "colab": {
          "base_uri": "https://localhost:8080/"
        },
        "outputId": "b0339963-d233-4517-a8a4-0dcd97dea009"
      },
      "source": [
        "shopping_df.groupby('Product')[\"Price Each\"].median()"
      ],
      "execution_count": null,
      "outputs": [
        {
          "output_type": "execute_result",
          "data": {
            "text/plain": [
              "Product\n",
              "20in Monitor                   109.99\n",
              "27in 4K Gaming Monitor         389.99\n",
              "27in FHD Monitor               149.99\n",
              "34in Ultrawide Monitor         379.99\n",
              "AA Batteries (4-pack)            3.84\n",
              "AAA Batteries (4-pack)           2.99\n",
              "Apple Airpods Headphones       150.00\n",
              "Bose SoundSport Headphones      99.99\n",
              "Flatscreen TV                  300.00\n",
              "Google Phone                   600.00\n",
              "LG Dryer                       600.00\n",
              "LG Washing Machine             600.00\n",
              "Lightning Charging Cable        14.95\n",
              "Macbook Pro Laptop            1700.00\n",
              "ThinkPad Laptop                999.99\n",
              "USB-C Charging Cable            11.95\n",
              "Vareebadd Phone                400.00\n",
              "Wired Headphones                11.99\n",
              "iPhone                         700.00\n",
              "Name: Price Each, dtype: float64"
            ]
          },
          "metadata": {
            "tags": []
          },
          "execution_count": 24
        }
      ]
    },
    {
      "cell_type": "code",
      "metadata": {
        "id": "MIhZuKyk8nhy",
        "colab": {
          "base_uri": "https://localhost:8080/",
          "height": 635
        },
        "outputId": "30db1fe2-6d69-4fab-8664-92a9db5edffa"
      },
      "source": [
        "shopping_df.groupby('Product').median()"
      ],
      "execution_count": null,
      "outputs": [
        {
          "output_type": "execute_result",
          "data": {
            "text/html": [
              "<div>\n",
              "<style scoped>\n",
              "    .dataframe tbody tr th:only-of-type {\n",
              "        vertical-align: middle;\n",
              "    }\n",
              "\n",
              "    .dataframe tbody tr th {\n",
              "        vertical-align: top;\n",
              "    }\n",
              "\n",
              "    .dataframe thead th {\n",
              "        text-align: right;\n",
              "    }\n",
              "</style>\n",
              "<table border=\"1\" class=\"dataframe\">\n",
              "  <thead>\n",
              "    <tr style=\"text-align: right;\">\n",
              "      <th></th>\n",
              "      <th>Order ID</th>\n",
              "      <th>Quantity Ordered</th>\n",
              "      <th>Price Each</th>\n",
              "    </tr>\n",
              "    <tr>\n",
              "      <th>Product</th>\n",
              "      <th></th>\n",
              "      <th></th>\n",
              "      <th></th>\n",
              "    </tr>\n",
              "  </thead>\n",
              "  <tbody>\n",
              "    <tr>\n",
              "      <th>20in Monitor</th>\n",
              "      <td>232710.0</td>\n",
              "      <td>1.0</td>\n",
              "      <td>109.99</td>\n",
              "    </tr>\n",
              "    <tr>\n",
              "      <th>27in 4K Gaming Monitor</th>\n",
              "      <td>233123.0</td>\n",
              "      <td>1.0</td>\n",
              "      <td>389.99</td>\n",
              "    </tr>\n",
              "    <tr>\n",
              "      <th>27in FHD Monitor</th>\n",
              "      <td>228689.0</td>\n",
              "      <td>1.0</td>\n",
              "      <td>149.99</td>\n",
              "    </tr>\n",
              "    <tr>\n",
              "      <th>34in Ultrawide Monitor</th>\n",
              "      <td>229375.0</td>\n",
              "      <td>1.0</td>\n",
              "      <td>379.99</td>\n",
              "    </tr>\n",
              "    <tr>\n",
              "      <th>AA Batteries (4-pack)</th>\n",
              "      <td>230679.0</td>\n",
              "      <td>1.0</td>\n",
              "      <td>3.84</td>\n",
              "    </tr>\n",
              "    <tr>\n",
              "      <th>AAA Batteries (4-pack)</th>\n",
              "      <td>231050.0</td>\n",
              "      <td>1.0</td>\n",
              "      <td>2.99</td>\n",
              "    </tr>\n",
              "    <tr>\n",
              "      <th>Apple Airpods Headphones</th>\n",
              "      <td>230045.0</td>\n",
              "      <td>1.0</td>\n",
              "      <td>150.00</td>\n",
              "    </tr>\n",
              "    <tr>\n",
              "      <th>Bose SoundSport Headphones</th>\n",
              "      <td>230085.0</td>\n",
              "      <td>1.0</td>\n",
              "      <td>99.99</td>\n",
              "    </tr>\n",
              "    <tr>\n",
              "      <th>Flatscreen TV</th>\n",
              "      <td>231711.5</td>\n",
              "      <td>1.0</td>\n",
              "      <td>300.00</td>\n",
              "    </tr>\n",
              "    <tr>\n",
              "      <th>Google Phone</th>\n",
              "      <td>227940.0</td>\n",
              "      <td>1.0</td>\n",
              "      <td>600.00</td>\n",
              "    </tr>\n",
              "    <tr>\n",
              "      <th>LG Dryer</th>\n",
              "      <td>222901.0</td>\n",
              "      <td>1.0</td>\n",
              "      <td>600.00</td>\n",
              "    </tr>\n",
              "    <tr>\n",
              "      <th>LG Washing Machine</th>\n",
              "      <td>224792.0</td>\n",
              "      <td>1.0</td>\n",
              "      <td>600.00</td>\n",
              "    </tr>\n",
              "    <tr>\n",
              "      <th>Lightning Charging Cable</th>\n",
              "      <td>230156.5</td>\n",
              "      <td>1.0</td>\n",
              "      <td>14.95</td>\n",
              "    </tr>\n",
              "    <tr>\n",
              "      <th>Macbook Pro Laptop</th>\n",
              "      <td>230895.5</td>\n",
              "      <td>1.0</td>\n",
              "      <td>1700.00</td>\n",
              "    </tr>\n",
              "    <tr>\n",
              "      <th>ThinkPad Laptop</th>\n",
              "      <td>230087.5</td>\n",
              "      <td>1.0</td>\n",
              "      <td>999.99</td>\n",
              "    </tr>\n",
              "    <tr>\n",
              "      <th>USB-C Charging Cable</th>\n",
              "      <td>231322.0</td>\n",
              "      <td>1.0</td>\n",
              "      <td>11.95</td>\n",
              "    </tr>\n",
              "    <tr>\n",
              "      <th>Vareebadd Phone</th>\n",
              "      <td>227478.0</td>\n",
              "      <td>1.0</td>\n",
              "      <td>400.00</td>\n",
              "    </tr>\n",
              "    <tr>\n",
              "      <th>Wired Headphones</th>\n",
              "      <td>230201.5</td>\n",
              "      <td>1.0</td>\n",
              "      <td>11.99</td>\n",
              "    </tr>\n",
              "    <tr>\n",
              "      <th>iPhone</th>\n",
              "      <td>228904.0</td>\n",
              "      <td>1.0</td>\n",
              "      <td>700.00</td>\n",
              "    </tr>\n",
              "  </tbody>\n",
              "</table>\n",
              "</div>"
            ],
            "text/plain": [
              "                            Order ID  Quantity Ordered  Price Each\n",
              "Product                                                           \n",
              "20in Monitor                232710.0               1.0      109.99\n",
              "27in 4K Gaming Monitor      233123.0               1.0      389.99\n",
              "27in FHD Monitor            228689.0               1.0      149.99\n",
              "34in Ultrawide Monitor      229375.0               1.0      379.99\n",
              "AA Batteries (4-pack)       230679.0               1.0        3.84\n",
              "AAA Batteries (4-pack)      231050.0               1.0        2.99\n",
              "Apple Airpods Headphones    230045.0               1.0      150.00\n",
              "Bose SoundSport Headphones  230085.0               1.0       99.99\n",
              "Flatscreen TV               231711.5               1.0      300.00\n",
              "Google Phone                227940.0               1.0      600.00\n",
              "LG Dryer                    222901.0               1.0      600.00\n",
              "LG Washing Machine          224792.0               1.0      600.00\n",
              "Lightning Charging Cable    230156.5               1.0       14.95\n",
              "Macbook Pro Laptop          230895.5               1.0     1700.00\n",
              "ThinkPad Laptop             230087.5               1.0      999.99\n",
              "USB-C Charging Cable        231322.0               1.0       11.95\n",
              "Vareebadd Phone             227478.0               1.0      400.00\n",
              "Wired Headphones            230201.5               1.0       11.99\n",
              "iPhone                      228904.0               1.0      700.00"
            ]
          },
          "metadata": {
            "tags": []
          },
          "execution_count": 25
        }
      ]
    },
    {
      "cell_type": "markdown",
      "metadata": {
        "id": "wl758hHiahE5"
      },
      "source": [
        "Effectively, *shopping_df* is \n",
        "1. Split into groups based on *Product*\n",
        "2. `median` function is applied to each group\n",
        "3. The results from each group are combined into a `DataFrame` \n",
        "\n",
        "\n"
      ]
    },
    {
      "cell_type": "code",
      "metadata": {
        "id": "Ia0as498Vibs",
        "colab": {
          "base_uri": "https://localhost:8080/",
          "height": 564
        },
        "outputId": "4a4e5871-823d-439e-db68-cb8abe8efddf"
      },
      "source": [
        "films_df"
      ],
      "execution_count": null,
      "outputs": [
        {
          "output_type": "execute_result",
          "data": {
            "text/html": [
              "<div>\n",
              "<style scoped>\n",
              "    .dataframe tbody tr th:only-of-type {\n",
              "        vertical-align: middle;\n",
              "    }\n",
              "\n",
              "    .dataframe tbody tr th {\n",
              "        vertical-align: top;\n",
              "    }\n",
              "\n",
              "    .dataframe thead th {\n",
              "        text-align: right;\n",
              "    }\n",
              "</style>\n",
              "<table border=\"1\" class=\"dataframe\">\n",
              "  <thead>\n",
              "    <tr style=\"text-align: right;\">\n",
              "      <th></th>\n",
              "      <th>Year</th>\n",
              "      <th>Length</th>\n",
              "      <th>Title</th>\n",
              "      <th>Subject</th>\n",
              "      <th>Actor</th>\n",
              "      <th>Actress</th>\n",
              "      <th>Director</th>\n",
              "      <th>Popularity</th>\n",
              "      <th>Awards</th>\n",
              "    </tr>\n",
              "  </thead>\n",
              "  <tbody>\n",
              "    <tr>\n",
              "      <th>0</th>\n",
              "      <td>1990</td>\n",
              "      <td>111</td>\n",
              "      <td>Tie Me Up! Tie Me Down!</td>\n",
              "      <td>Comedy</td>\n",
              "      <td>Banderas, Antonio</td>\n",
              "      <td>Abril, Victoria</td>\n",
              "      <td>Almodóvar, Pedro</td>\n",
              "      <td>68</td>\n",
              "      <td>No</td>\n",
              "    </tr>\n",
              "    <tr>\n",
              "      <th>1</th>\n",
              "      <td>1991</td>\n",
              "      <td>113</td>\n",
              "      <td>High Heels</td>\n",
              "      <td>Comedy</td>\n",
              "      <td>Bosé, Miguel</td>\n",
              "      <td>Abril, Victoria</td>\n",
              "      <td>Almodóvar, Pedro</td>\n",
              "      <td>68</td>\n",
              "      <td>No</td>\n",
              "    </tr>\n",
              "    <tr>\n",
              "      <th>2</th>\n",
              "      <td>1983</td>\n",
              "      <td>104</td>\n",
              "      <td>Dead Zone, The</td>\n",
              "      <td>Horror</td>\n",
              "      <td>Walken, Christopher</td>\n",
              "      <td>Adams, Brooke</td>\n",
              "      <td>Cronenberg, David</td>\n",
              "      <td>79</td>\n",
              "      <td>No</td>\n",
              "    </tr>\n",
              "    <tr>\n",
              "      <th>3</th>\n",
              "      <td>1979</td>\n",
              "      <td>122</td>\n",
              "      <td>Cuba</td>\n",
              "      <td>Action</td>\n",
              "      <td>Connery, Sean</td>\n",
              "      <td>Adams, Brooke</td>\n",
              "      <td>Lester, Richard</td>\n",
              "      <td>6</td>\n",
              "      <td>No</td>\n",
              "    </tr>\n",
              "    <tr>\n",
              "      <th>4</th>\n",
              "      <td>1978</td>\n",
              "      <td>94</td>\n",
              "      <td>Days of Heaven</td>\n",
              "      <td>Drama</td>\n",
              "      <td>Gere, Richard</td>\n",
              "      <td>Adams, Brooke</td>\n",
              "      <td>Malick, Terrence</td>\n",
              "      <td>14</td>\n",
              "      <td>No</td>\n",
              "    </tr>\n",
              "    <tr>\n",
              "      <th>...</th>\n",
              "      <td>...</td>\n",
              "      <td>...</td>\n",
              "      <td>...</td>\n",
              "      <td>...</td>\n",
              "      <td>...</td>\n",
              "      <td>...</td>\n",
              "      <td>...</td>\n",
              "      <td>...</td>\n",
              "      <td>...</td>\n",
              "    </tr>\n",
              "    <tr>\n",
              "      <th>1123</th>\n",
              "      <td>1975</td>\n",
              "      <td>93</td>\n",
              "      <td>That Lucky Touch</td>\n",
              "      <td>Action</td>\n",
              "      <td>Moore, Roger</td>\n",
              "      <td>York, Susannah</td>\n",
              "      <td>Miles, Christopher</td>\n",
              "      <td>85</td>\n",
              "      <td>No</td>\n",
              "    </tr>\n",
              "    <tr>\n",
              "      <th>1124</th>\n",
              "      <td>1949</td>\n",
              "      <td>90</td>\n",
              "      <td>Lust for Gold</td>\n",
              "      <td>Drama</td>\n",
              "      <td>Ford, Glenn</td>\n",
              "      <td>Young, Gig</td>\n",
              "      <td>Simon, S. Sylvan</td>\n",
              "      <td>57</td>\n",
              "      <td>No</td>\n",
              "    </tr>\n",
              "    <tr>\n",
              "      <th>1125</th>\n",
              "      <td>1987</td>\n",
              "      <td>103</td>\n",
              "      <td>Heat</td>\n",
              "      <td>Mystery</td>\n",
              "      <td>Reynolds, Burt</td>\n",
              "      <td>Young, Karen</td>\n",
              "      <td>Jameson, Jerry</td>\n",
              "      <td>69</td>\n",
              "      <td>No</td>\n",
              "    </tr>\n",
              "    <tr>\n",
              "      <th>1126</th>\n",
              "      <td>1947</td>\n",
              "      <td>87</td>\n",
              "      <td>Night Is My Future</td>\n",
              "      <td>Drama</td>\n",
              "      <td>Malmsten, Birger</td>\n",
              "      <td>Zetterling, Mai</td>\n",
              "      <td>Bergman, Ingmar</td>\n",
              "      <td>17</td>\n",
              "      <td>No</td>\n",
              "    </tr>\n",
              "    <tr>\n",
              "      <th>1127</th>\n",
              "      <td>1990</td>\n",
              "      <td>92</td>\n",
              "      <td>Witches, The</td>\n",
              "      <td>Science Fiction</td>\n",
              "      <td>Fisher, Jasen</td>\n",
              "      <td>Zetterling, Mai</td>\n",
              "      <td>Roeg, Nicolas</td>\n",
              "      <td>18</td>\n",
              "      <td>No</td>\n",
              "    </tr>\n",
              "  </tbody>\n",
              "</table>\n",
              "<p>1128 rows × 9 columns</p>\n",
              "</div>"
            ],
            "text/plain": [
              "      Year  Length  ... Popularity Awards\n",
              "0     1990     111  ...         68     No\n",
              "1     1991     113  ...         68     No\n",
              "2     1983     104  ...         79     No\n",
              "3     1979     122  ...          6     No\n",
              "4     1978      94  ...         14     No\n",
              "...    ...     ...  ...        ...    ...\n",
              "1123  1975      93  ...         85     No\n",
              "1124  1949      90  ...         57     No\n",
              "1125  1987     103  ...         69     No\n",
              "1126  1947      87  ...         17     No\n",
              "1127  1990      92  ...         18     No\n",
              "\n",
              "[1128 rows x 9 columns]"
            ]
          },
          "metadata": {
            "tags": []
          },
          "execution_count": 26
        }
      ]
    },
    {
      "cell_type": "code",
      "metadata": {
        "id": "Cm-1VsLAL7n0",
        "colab": {
          "base_uri": "https://localhost:8080/"
        },
        "outputId": "cb5d4faf-6629-4672-f31a-7564381467f3"
      },
      "source": [
        "films_df.groupby('Director')['Popularity'].mean()"
      ],
      "execution_count": null,
      "outputs": [
        {
          "output_type": "execute_result",
          "data": {
            "text/plain": [
              "Director\n",
              "Abrahams, Jim       62.500000\n",
              "Adolphson, Edvin    72.000000\n",
              "Alda, Alan          32.500000\n",
              "Aldrich, Robert     68.000000\n",
              "Allegret, Marc      25.000000\n",
              "                      ...    \n",
              "Zieff, Howard       67.000000\n",
              "Zinnemann, Fred     40.666667\n",
              "Zucker, David        9.000000\n",
              "Zucker, Jerry        6.000000\n",
              "Zwick, Edward       66.000000\n",
              "Name: Popularity, Length: 643, dtype: float64"
            ]
          },
          "metadata": {
            "tags": []
          },
          "execution_count": 27
        }
      ]
    },
    {
      "cell_type": "code",
      "metadata": {
        "id": "MoR2FXaXLlxl",
        "colab": {
          "base_uri": "https://localhost:8080/"
        },
        "outputId": "283bd2e7-255c-40c4-aa1a-3d139130fe70"
      },
      "source": [
        "films_df.groupby('Director')['Popularity'].mean().loc['Alda, Alan']"
      ],
      "execution_count": null,
      "outputs": [
        {
          "output_type": "execute_result",
          "data": {
            "text/plain": [
              "32.5"
            ]
          },
          "metadata": {
            "tags": []
          },
          "execution_count": 28
        }
      ]
    },
    {
      "cell_type": "markdown",
      "metadata": {
        "id": "I_FHxOsOUhRa"
      },
      "source": [
        "### Using aggregations with filters"
      ]
    },
    {
      "cell_type": "code",
      "metadata": {
        "id": "XigJuFjyWBT9",
        "colab": {
          "base_uri": "https://localhost:8080/",
          "height": 548
        },
        "outputId": "97465fd4-eb00-4953-b947-72f616cc3420"
      },
      "source": [
        "shopping_df"
      ],
      "execution_count": null,
      "outputs": [
        {
          "output_type": "execute_result",
          "data": {
            "text/html": [
              "<div>\n",
              "<style scoped>\n",
              "    .dataframe tbody tr th:only-of-type {\n",
              "        vertical-align: middle;\n",
              "    }\n",
              "\n",
              "    .dataframe tbody tr th {\n",
              "        vertical-align: top;\n",
              "    }\n",
              "\n",
              "    .dataframe thead th {\n",
              "        text-align: right;\n",
              "    }\n",
              "</style>\n",
              "<table border=\"1\" class=\"dataframe\">\n",
              "  <thead>\n",
              "    <tr style=\"text-align: right;\">\n",
              "      <th></th>\n",
              "      <th>Order ID</th>\n",
              "      <th>Product</th>\n",
              "      <th>Quantity Ordered</th>\n",
              "      <th>Price Each</th>\n",
              "      <th>Order Date</th>\n",
              "      <th>Purchase Address</th>\n",
              "    </tr>\n",
              "  </thead>\n",
              "  <tbody>\n",
              "    <tr>\n",
              "      <th>0</th>\n",
              "      <td>176558.0</td>\n",
              "      <td>USB-C Charging Cable</td>\n",
              "      <td>2.0</td>\n",
              "      <td>11.95</td>\n",
              "      <td>04/19/19 08:46</td>\n",
              "      <td>917 1st St, Dallas, TX 75001</td>\n",
              "    </tr>\n",
              "    <tr>\n",
              "      <th>1</th>\n",
              "      <td>NaN</td>\n",
              "      <td>NaN</td>\n",
              "      <td>NaN</td>\n",
              "      <td>NaN</td>\n",
              "      <td>NaN</td>\n",
              "      <td>NaN</td>\n",
              "    </tr>\n",
              "    <tr>\n",
              "      <th>2</th>\n",
              "      <td>176559.0</td>\n",
              "      <td>Bose SoundSport Headphones</td>\n",
              "      <td>1.0</td>\n",
              "      <td>99.99</td>\n",
              "      <td>04/07/19 22:30</td>\n",
              "      <td>682 Chestnut St, Boston, MA 02215</td>\n",
              "    </tr>\n",
              "    <tr>\n",
              "      <th>3</th>\n",
              "      <td>176560.0</td>\n",
              "      <td>Google Phone</td>\n",
              "      <td>1.0</td>\n",
              "      <td>600.00</td>\n",
              "      <td>04/12/19 14:38</td>\n",
              "      <td>669 Spruce St, Los Angeles, CA 90001</td>\n",
              "    </tr>\n",
              "    <tr>\n",
              "      <th>4</th>\n",
              "      <td>NaN</td>\n",
              "      <td>NaN</td>\n",
              "      <td>NaN</td>\n",
              "      <td>NaN</td>\n",
              "      <td>NaN</td>\n",
              "      <td>NaN</td>\n",
              "    </tr>\n",
              "    <tr>\n",
              "      <th>...</th>\n",
              "      <td>...</td>\n",
              "      <td>...</td>\n",
              "      <td>...</td>\n",
              "      <td>...</td>\n",
              "      <td>...</td>\n",
              "      <td>...</td>\n",
              "    </tr>\n",
              "    <tr>\n",
              "      <th>186493</th>\n",
              "      <td>176554.0</td>\n",
              "      <td>Lightning Charging Cable</td>\n",
              "      <td>1.0</td>\n",
              "      <td>14.95</td>\n",
              "      <td>03/24/19 11:14</td>\n",
              "      <td>672 12th St, San Francisco, CA 94016</td>\n",
              "    </tr>\n",
              "    <tr>\n",
              "      <th>186494</th>\n",
              "      <td>176555.0</td>\n",
              "      <td>27in FHD Monitor</td>\n",
              "      <td>1.0</td>\n",
              "      <td>149.99</td>\n",
              "      <td>03/22/19 20:27</td>\n",
              "      <td>42 4th St, San Francisco, CA 94016</td>\n",
              "    </tr>\n",
              "    <tr>\n",
              "      <th>186495</th>\n",
              "      <td>176556.0</td>\n",
              "      <td>AAA Batteries (4-pack)</td>\n",
              "      <td>3.0</td>\n",
              "      <td>2.99</td>\n",
              "      <td>03/14/19 10:29</td>\n",
              "      <td>871 7th St, Los Angeles, CA 90001</td>\n",
              "    </tr>\n",
              "    <tr>\n",
              "      <th>186496</th>\n",
              "      <td>176557.0</td>\n",
              "      <td>iPhone</td>\n",
              "      <td>1.0</td>\n",
              "      <td>700.00</td>\n",
              "      <td>03/30/19 12:32</td>\n",
              "      <td>83 Washington St, San Francisco, CA 94016</td>\n",
              "    </tr>\n",
              "    <tr>\n",
              "      <th>186497</th>\n",
              "      <td>176557.0</td>\n",
              "      <td>Lightning Charging Cable</td>\n",
              "      <td>1.0</td>\n",
              "      <td>14.95</td>\n",
              "      <td>03/30/19 12:32</td>\n",
              "      <td>83 Washington St, San Francisco, CA 94016</td>\n",
              "    </tr>\n",
              "  </tbody>\n",
              "</table>\n",
              "<p>186498 rows × 6 columns</p>\n",
              "</div>"
            ],
            "text/plain": [
              "        Order ID  ...                           Purchase Address\n",
              "0       176558.0  ...               917 1st St, Dallas, TX 75001\n",
              "1            NaN  ...                                        NaN\n",
              "2       176559.0  ...          682 Chestnut St, Boston, MA 02215\n",
              "3       176560.0  ...       669 Spruce St, Los Angeles, CA 90001\n",
              "4            NaN  ...                                        NaN\n",
              "...          ...  ...                                        ...\n",
              "186493  176554.0  ...       672 12th St, San Francisco, CA 94016\n",
              "186494  176555.0  ...         42 4th St, San Francisco, CA 94016\n",
              "186495  176556.0  ...          871 7th St, Los Angeles, CA 90001\n",
              "186496  176557.0  ...  83 Washington St, San Francisco, CA 94016\n",
              "186497  176557.0  ...  83 Washington St, San Francisco, CA 94016\n",
              "\n",
              "[186498 rows x 6 columns]"
            ]
          },
          "metadata": {
            "tags": []
          },
          "execution_count": 29
        }
      ]
    },
    {
      "cell_type": "code",
      "metadata": {
        "id": "tegb_CeJA0PD",
        "colab": {
          "base_uri": "https://localhost:8080/"
        },
        "outputId": "5e3148f2-ca3e-4931-83dc-5cecd776bef9"
      },
      "source": [
        "filt = (shopping_df['Product'] == \"Flatscreen TV\")\n",
        "shopping_df.loc[filt]['Purchase Address'].str.contains('CA')"
      ],
      "execution_count": null,
      "outputs": [
        {
          "output_type": "execute_result",
          "data": {
            "text/plain": [
              "32         True\n",
              "69         True\n",
              "140        True\n",
              "164       False\n",
              "172       False\n",
              "          ...  \n",
              "186317    False\n",
              "186359     True\n",
              "186375    False\n",
              "186421    False\n",
              "186482     True\n",
              "Name: Purchase Address, Length: 4800, dtype: bool"
            ]
          },
          "metadata": {
            "tags": []
          },
          "execution_count": 30
        }
      ]
    },
    {
      "cell_type": "markdown",
      "metadata": {
        "id": "rYVbr6mZM2s6"
      },
      "source": [
        "Here, `sum` will give the number of True values"
      ]
    },
    {
      "cell_type": "code",
      "metadata": {
        "id": "7sR3dInkMy5d",
        "colab": {
          "base_uri": "https://localhost:8080/"
        },
        "outputId": "c9816a8c-7742-4ede-bd12-6a29bd52dcd7"
      },
      "source": [
        "shopping_df.loc[filt]['Purchase Address'].str.contains('CA').sum()"
      ],
      "execution_count": null,
      "outputs": [
        {
          "output_type": "execute_result",
          "data": {
            "text/plain": [
              "1873"
            ]
          },
          "metadata": {
            "tags": []
          },
          "execution_count": 31
        }
      ]
    },
    {
      "cell_type": "markdown",
      "metadata": {
        "id": "tYNNL2P65khL"
      },
      "source": [
        "### pd.DataFrame.aggregate\n",
        "* `pd.DataFrame.aggregrate(func=None, axis=0, *args, **kwargs)`\n",
        "  *   `func` is the function to use for aggregating the data. \n",
        "  *   `axis` specifices whether to apply the function to each row or each column.\n",
        "  *  `*args` are the positional arguments to pass to func.\n",
        "  *  `**kwargs` are the keyword arguments to pass to func.\n",
        "  *  *agg* is an alias for *aggregate*. \n",
        "\n"
      ]
    },
    {
      "cell_type": "code",
      "metadata": {
        "id": "NCzV53op2OUf",
        "colab": {
          "base_uri": "https://localhost:8080/",
          "height": 136
        },
        "outputId": "8f29d8b0-4428-4021-e39e-50a3bc02191e"
      },
      "source": [
        "df = pd.DataFrame([[1, 2, 3],\n",
        "                   [4, 5, 6],\n",
        "                   [7, 8, 9]],\n",
        "                  columns=['A', 'B', 'C'])\n",
        "df"
      ],
      "execution_count": null,
      "outputs": [
        {
          "output_type": "execute_result",
          "data": {
            "text/html": [
              "<div>\n",
              "<style scoped>\n",
              "    .dataframe tbody tr th:only-of-type {\n",
              "        vertical-align: middle;\n",
              "    }\n",
              "\n",
              "    .dataframe tbody tr th {\n",
              "        vertical-align: top;\n",
              "    }\n",
              "\n",
              "    .dataframe thead th {\n",
              "        text-align: right;\n",
              "    }\n",
              "</style>\n",
              "<table border=\"1\" class=\"dataframe\">\n",
              "  <thead>\n",
              "    <tr style=\"text-align: right;\">\n",
              "      <th></th>\n",
              "      <th>A</th>\n",
              "      <th>B</th>\n",
              "      <th>C</th>\n",
              "    </tr>\n",
              "  </thead>\n",
              "  <tbody>\n",
              "    <tr>\n",
              "      <th>0</th>\n",
              "      <td>1</td>\n",
              "      <td>2</td>\n",
              "      <td>3</td>\n",
              "    </tr>\n",
              "    <tr>\n",
              "      <th>1</th>\n",
              "      <td>4</td>\n",
              "      <td>5</td>\n",
              "      <td>6</td>\n",
              "    </tr>\n",
              "    <tr>\n",
              "      <th>2</th>\n",
              "      <td>7</td>\n",
              "      <td>8</td>\n",
              "      <td>9</td>\n",
              "    </tr>\n",
              "  </tbody>\n",
              "</table>\n",
              "</div>"
            ],
            "text/plain": [
              "   A  B  C\n",
              "0  1  2  3\n",
              "1  4  5  6\n",
              "2  7  8  9"
            ]
          },
          "metadata": {
            "tags": []
          },
          "execution_count": 32
        }
      ]
    },
    {
      "cell_type": "code",
      "metadata": {
        "id": "edWWMEYsX0i3",
        "colab": {
          "base_uri": "https://localhost:8080/"
        },
        "outputId": "41851ba3-b35d-47e7-bbe2-71e9eb592468"
      },
      "source": [
        "df.mean()"
      ],
      "execution_count": null,
      "outputs": [
        {
          "output_type": "execute_result",
          "data": {
            "text/plain": [
              "A    4.0\n",
              "B    5.0\n",
              "C    6.0\n",
              "dtype: float64"
            ]
          },
          "metadata": {
            "tags": []
          },
          "execution_count": 33
        }
      ]
    },
    {
      "cell_type": "code",
      "metadata": {
        "id": "ssriHfhF8DQ0",
        "colab": {
          "base_uri": "https://localhost:8080/",
          "height": 77
        },
        "outputId": "6c5e18fe-1242-44da-85bf-e7a03b1a61db"
      },
      "source": [
        "df.agg(['mean'])"
      ],
      "execution_count": null,
      "outputs": [
        {
          "output_type": "execute_result",
          "data": {
            "text/html": [
              "<div>\n",
              "<style scoped>\n",
              "    .dataframe tbody tr th:only-of-type {\n",
              "        vertical-align: middle;\n",
              "    }\n",
              "\n",
              "    .dataframe tbody tr th {\n",
              "        vertical-align: top;\n",
              "    }\n",
              "\n",
              "    .dataframe thead th {\n",
              "        text-align: right;\n",
              "    }\n",
              "</style>\n",
              "<table border=\"1\" class=\"dataframe\">\n",
              "  <thead>\n",
              "    <tr style=\"text-align: right;\">\n",
              "      <th></th>\n",
              "      <th>A</th>\n",
              "      <th>B</th>\n",
              "      <th>C</th>\n",
              "    </tr>\n",
              "  </thead>\n",
              "  <tbody>\n",
              "    <tr>\n",
              "      <th>mean</th>\n",
              "      <td>4.0</td>\n",
              "      <td>5.0</td>\n",
              "      <td>6.0</td>\n",
              "    </tr>\n",
              "  </tbody>\n",
              "</table>\n",
              "</div>"
            ],
            "text/plain": [
              "        A    B    C\n",
              "mean  4.0  5.0  6.0"
            ]
          },
          "metadata": {
            "tags": []
          },
          "execution_count": 34
        }
      ]
    },
    {
      "cell_type": "code",
      "metadata": {
        "id": "fQ5JVf812Krg",
        "colab": {
          "base_uri": "https://localhost:8080/",
          "height": 136
        },
        "outputId": "e16fb426-ef80-405b-c019-6ec279be6567"
      },
      "source": [
        "df.agg(['sum', 'min', 'mean'])"
      ],
      "execution_count": null,
      "outputs": [
        {
          "output_type": "execute_result",
          "data": {
            "text/html": [
              "<div>\n",
              "<style scoped>\n",
              "    .dataframe tbody tr th:only-of-type {\n",
              "        vertical-align: middle;\n",
              "    }\n",
              "\n",
              "    .dataframe tbody tr th {\n",
              "        vertical-align: top;\n",
              "    }\n",
              "\n",
              "    .dataframe thead th {\n",
              "        text-align: right;\n",
              "    }\n",
              "</style>\n",
              "<table border=\"1\" class=\"dataframe\">\n",
              "  <thead>\n",
              "    <tr style=\"text-align: right;\">\n",
              "      <th></th>\n",
              "      <th>A</th>\n",
              "      <th>B</th>\n",
              "      <th>C</th>\n",
              "    </tr>\n",
              "  </thead>\n",
              "  <tbody>\n",
              "    <tr>\n",
              "      <th>sum</th>\n",
              "      <td>12.0</td>\n",
              "      <td>15.0</td>\n",
              "      <td>18.0</td>\n",
              "    </tr>\n",
              "    <tr>\n",
              "      <th>min</th>\n",
              "      <td>1.0</td>\n",
              "      <td>2.0</td>\n",
              "      <td>3.0</td>\n",
              "    </tr>\n",
              "    <tr>\n",
              "      <th>mean</th>\n",
              "      <td>4.0</td>\n",
              "      <td>5.0</td>\n",
              "      <td>6.0</td>\n",
              "    </tr>\n",
              "  </tbody>\n",
              "</table>\n",
              "</div>"
            ],
            "text/plain": [
              "         A     B     C\n",
              "sum   12.0  15.0  18.0\n",
              "min    1.0   2.0   3.0\n",
              "mean   4.0   5.0   6.0"
            ]
          },
          "metadata": {
            "tags": []
          },
          "execution_count": 35
        }
      ]
    },
    {
      "cell_type": "code",
      "metadata": {
        "id": "3H_nykSp2Jfr",
        "colab": {
          "base_uri": "https://localhost:8080/",
          "height": 428
        },
        "outputId": "debd85b9-fc12-48f5-e239-1a19a6b3838d"
      },
      "source": [
        "year_grp = films_df.groupby('Year')\n",
        "year_grp['Popularity'].agg(['median', 'mean'])"
      ],
      "execution_count": null,
      "outputs": [
        {
          "output_type": "execute_result",
          "data": {
            "text/html": [
              "<div>\n",
              "<style scoped>\n",
              "    .dataframe tbody tr th:only-of-type {\n",
              "        vertical-align: middle;\n",
              "    }\n",
              "\n",
              "    .dataframe tbody tr th {\n",
              "        vertical-align: top;\n",
              "    }\n",
              "\n",
              "    .dataframe thead th {\n",
              "        text-align: right;\n",
              "    }\n",
              "</style>\n",
              "<table border=\"1\" class=\"dataframe\">\n",
              "  <thead>\n",
              "    <tr style=\"text-align: right;\">\n",
              "      <th></th>\n",
              "      <th>median</th>\n",
              "      <th>mean</th>\n",
              "    </tr>\n",
              "    <tr>\n",
              "      <th>Year</th>\n",
              "      <th></th>\n",
              "      <th></th>\n",
              "    </tr>\n",
              "  </thead>\n",
              "  <tbody>\n",
              "    <tr>\n",
              "      <th>1924</th>\n",
              "      <td>76.5</td>\n",
              "      <td>76.500000</td>\n",
              "    </tr>\n",
              "    <tr>\n",
              "      <th>1925</th>\n",
              "      <td>73.0</td>\n",
              "      <td>73.000000</td>\n",
              "    </tr>\n",
              "    <tr>\n",
              "      <th>1926</th>\n",
              "      <td>72.0</td>\n",
              "      <td>67.666667</td>\n",
              "    </tr>\n",
              "    <tr>\n",
              "      <th>1927</th>\n",
              "      <td>38.0</td>\n",
              "      <td>38.000000</td>\n",
              "    </tr>\n",
              "    <tr>\n",
              "      <th>1928</th>\n",
              "      <td>58.0</td>\n",
              "      <td>58.000000</td>\n",
              "    </tr>\n",
              "    <tr>\n",
              "      <th>...</th>\n",
              "      <td>...</td>\n",
              "      <td>...</td>\n",
              "    </tr>\n",
              "    <tr>\n",
              "      <th>1991</th>\n",
              "      <td>51.0</td>\n",
              "      <td>42.964912</td>\n",
              "    </tr>\n",
              "    <tr>\n",
              "      <th>1992</th>\n",
              "      <td>31.0</td>\n",
              "      <td>37.957447</td>\n",
              "    </tr>\n",
              "    <tr>\n",
              "      <th>1993</th>\n",
              "      <td>53.0</td>\n",
              "      <td>53.000000</td>\n",
              "    </tr>\n",
              "    <tr>\n",
              "      <th>1996</th>\n",
              "      <td>39.0</td>\n",
              "      <td>39.000000</td>\n",
              "    </tr>\n",
              "    <tr>\n",
              "      <th>1997</th>\n",
              "      <td>60.0</td>\n",
              "      <td>60.000000</td>\n",
              "    </tr>\n",
              "  </tbody>\n",
              "</table>\n",
              "<p>72 rows × 2 columns</p>\n",
              "</div>"
            ],
            "text/plain": [
              "      median       mean\n",
              "Year                   \n",
              "1924    76.5  76.500000\n",
              "1925    73.0  73.000000\n",
              "1926    72.0  67.666667\n",
              "1927    38.0  38.000000\n",
              "1928    58.0  58.000000\n",
              "...      ...        ...\n",
              "1991    51.0  42.964912\n",
              "1992    31.0  37.957447\n",
              "1993    53.0  53.000000\n",
              "1996    39.0  39.000000\n",
              "1997    60.0  60.000000\n",
              "\n",
              "[72 rows x 2 columns]"
            ]
          },
          "metadata": {
            "tags": []
          },
          "execution_count": 36
        }
      ]
    },
    {
      "cell_type": "code",
      "metadata": {
        "id": "l8odDexUHMMf",
        "colab": {
          "base_uri": "https://localhost:8080/",
          "height": 548
        },
        "outputId": "7a74ab32-c2a3-4c92-ab7e-22ca4a00d73b"
      },
      "source": [
        "shopping_df"
      ],
      "execution_count": null,
      "outputs": [
        {
          "output_type": "execute_result",
          "data": {
            "text/html": [
              "<div>\n",
              "<style scoped>\n",
              "    .dataframe tbody tr th:only-of-type {\n",
              "        vertical-align: middle;\n",
              "    }\n",
              "\n",
              "    .dataframe tbody tr th {\n",
              "        vertical-align: top;\n",
              "    }\n",
              "\n",
              "    .dataframe thead th {\n",
              "        text-align: right;\n",
              "    }\n",
              "</style>\n",
              "<table border=\"1\" class=\"dataframe\">\n",
              "  <thead>\n",
              "    <tr style=\"text-align: right;\">\n",
              "      <th></th>\n",
              "      <th>Order ID</th>\n",
              "      <th>Product</th>\n",
              "      <th>Quantity Ordered</th>\n",
              "      <th>Price Each</th>\n",
              "      <th>Order Date</th>\n",
              "      <th>Purchase Address</th>\n",
              "    </tr>\n",
              "  </thead>\n",
              "  <tbody>\n",
              "    <tr>\n",
              "      <th>0</th>\n",
              "      <td>176558.0</td>\n",
              "      <td>USB-C Charging Cable</td>\n",
              "      <td>2.0</td>\n",
              "      <td>11.95</td>\n",
              "      <td>04/19/19 08:46</td>\n",
              "      <td>917 1st St, Dallas, TX 75001</td>\n",
              "    </tr>\n",
              "    <tr>\n",
              "      <th>1</th>\n",
              "      <td>NaN</td>\n",
              "      <td>NaN</td>\n",
              "      <td>NaN</td>\n",
              "      <td>NaN</td>\n",
              "      <td>NaN</td>\n",
              "      <td>NaN</td>\n",
              "    </tr>\n",
              "    <tr>\n",
              "      <th>2</th>\n",
              "      <td>176559.0</td>\n",
              "      <td>Bose SoundSport Headphones</td>\n",
              "      <td>1.0</td>\n",
              "      <td>99.99</td>\n",
              "      <td>04/07/19 22:30</td>\n",
              "      <td>682 Chestnut St, Boston, MA 02215</td>\n",
              "    </tr>\n",
              "    <tr>\n",
              "      <th>3</th>\n",
              "      <td>176560.0</td>\n",
              "      <td>Google Phone</td>\n",
              "      <td>1.0</td>\n",
              "      <td>600.00</td>\n",
              "      <td>04/12/19 14:38</td>\n",
              "      <td>669 Spruce St, Los Angeles, CA 90001</td>\n",
              "    </tr>\n",
              "    <tr>\n",
              "      <th>4</th>\n",
              "      <td>NaN</td>\n",
              "      <td>NaN</td>\n",
              "      <td>NaN</td>\n",
              "      <td>NaN</td>\n",
              "      <td>NaN</td>\n",
              "      <td>NaN</td>\n",
              "    </tr>\n",
              "    <tr>\n",
              "      <th>...</th>\n",
              "      <td>...</td>\n",
              "      <td>...</td>\n",
              "      <td>...</td>\n",
              "      <td>...</td>\n",
              "      <td>...</td>\n",
              "      <td>...</td>\n",
              "    </tr>\n",
              "    <tr>\n",
              "      <th>186493</th>\n",
              "      <td>176554.0</td>\n",
              "      <td>Lightning Charging Cable</td>\n",
              "      <td>1.0</td>\n",
              "      <td>14.95</td>\n",
              "      <td>03/24/19 11:14</td>\n",
              "      <td>672 12th St, San Francisco, CA 94016</td>\n",
              "    </tr>\n",
              "    <tr>\n",
              "      <th>186494</th>\n",
              "      <td>176555.0</td>\n",
              "      <td>27in FHD Monitor</td>\n",
              "      <td>1.0</td>\n",
              "      <td>149.99</td>\n",
              "      <td>03/22/19 20:27</td>\n",
              "      <td>42 4th St, San Francisco, CA 94016</td>\n",
              "    </tr>\n",
              "    <tr>\n",
              "      <th>186495</th>\n",
              "      <td>176556.0</td>\n",
              "      <td>AAA Batteries (4-pack)</td>\n",
              "      <td>3.0</td>\n",
              "      <td>2.99</td>\n",
              "      <td>03/14/19 10:29</td>\n",
              "      <td>871 7th St, Los Angeles, CA 90001</td>\n",
              "    </tr>\n",
              "    <tr>\n",
              "      <th>186496</th>\n",
              "      <td>176557.0</td>\n",
              "      <td>iPhone</td>\n",
              "      <td>1.0</td>\n",
              "      <td>700.00</td>\n",
              "      <td>03/30/19 12:32</td>\n",
              "      <td>83 Washington St, San Francisco, CA 94016</td>\n",
              "    </tr>\n",
              "    <tr>\n",
              "      <th>186497</th>\n",
              "      <td>176557.0</td>\n",
              "      <td>Lightning Charging Cable</td>\n",
              "      <td>1.0</td>\n",
              "      <td>14.95</td>\n",
              "      <td>03/30/19 12:32</td>\n",
              "      <td>83 Washington St, San Francisco, CA 94016</td>\n",
              "    </tr>\n",
              "  </tbody>\n",
              "</table>\n",
              "<p>186498 rows × 6 columns</p>\n",
              "</div>"
            ],
            "text/plain": [
              "        Order ID  ...                           Purchase Address\n",
              "0       176558.0  ...               917 1st St, Dallas, TX 75001\n",
              "1            NaN  ...                                        NaN\n",
              "2       176559.0  ...          682 Chestnut St, Boston, MA 02215\n",
              "3       176560.0  ...       669 Spruce St, Los Angeles, CA 90001\n",
              "4            NaN  ...                                        NaN\n",
              "...          ...  ...                                        ...\n",
              "186493  176554.0  ...       672 12th St, San Francisco, CA 94016\n",
              "186494  176555.0  ...         42 4th St, San Francisco, CA 94016\n",
              "186495  176556.0  ...          871 7th St, Los Angeles, CA 90001\n",
              "186496  176557.0  ...  83 Washington St, San Francisco, CA 94016\n",
              "186497  176557.0  ...  83 Washington St, San Francisco, CA 94016\n",
              "\n",
              "[186498 rows x 6 columns]"
            ]
          },
          "metadata": {
            "tags": []
          },
          "execution_count": 37
        }
      ]
    },
    {
      "cell_type": "code",
      "metadata": {
        "id": "RCRe4hEV7P91",
        "colab": {
          "base_uri": "https://localhost:8080/"
        },
        "outputId": "1d78206c-6f5e-470c-9c71-19c03643ab73"
      },
      "source": [
        "product_grp = shopping_df.groupby('Product')\n",
        "product_grp['Price Each'].agg(['median', 'mean']).loc['Flatscreen TV']"
      ],
      "execution_count": null,
      "outputs": [
        {
          "output_type": "execute_result",
          "data": {
            "text/plain": [
              "median    300.0\n",
              "mean      300.0\n",
              "Name: Flatscreen TV, dtype: float64"
            ]
          },
          "metadata": {
            "tags": []
          },
          "execution_count": 38
        }
      ]
    },
    {
      "cell_type": "code",
      "metadata": {
        "id": "RHZh9pkAVBG5",
        "colab": {
          "base_uri": "https://localhost:8080/"
        },
        "outputId": "7cfd0c0a-d48d-4876-a1ce-b8f6b986fc4e"
      },
      "source": [
        "filt = (shopping_df['Product'] == \"Flatscreen TV\")\n",
        "shopping_df.loc[filt]['Purchase Address'].str.contains('CA').sum()"
      ],
      "execution_count": null,
      "outputs": [
        {
          "output_type": "execute_result",
          "data": {
            "text/plain": [
              "1873"
            ]
          },
          "metadata": {
            "tags": []
          },
          "execution_count": 39
        }
      ]
    },
    {
      "cell_type": "markdown",
      "metadata": {
        "id": "TBXaJVKyHlI_"
      },
      "source": [
        "The following code throws an error because `product_grp['Purchase Address']` is not a `Series` object.  \n",
        "It is a `SeriesGroupBy` object."
      ]
    },
    {
      "cell_type": "code",
      "metadata": {
        "id": "d9YUJRuJC4Fe",
        "colab": {
          "base_uri": "https://localhost:8080/",
          "height": 293
        },
        "outputId": "6dc05aad-72e6-44de-827c-555c61cc62be"
      },
      "source": [
        "product_grp = shopping_df.groupby('Product')\n",
        "product_grp['Purchase Address'].str.contains('CA').sum()"
      ],
      "execution_count": null,
      "outputs": [
        {
          "output_type": "error",
          "ename": "AttributeError",
          "evalue": "ignored",
          "traceback": [
            "\u001b[0;31m---------------------------------------------------------------------------\u001b[0m",
            "\u001b[0;31mAttributeError\u001b[0m                            Traceback (most recent call last)",
            "\u001b[0;32m<ipython-input-40-6fe279cb488b>\u001b[0m in \u001b[0;36m<module>\u001b[0;34m()\u001b[0m\n\u001b[1;32m      1\u001b[0m \u001b[0mproduct_grp\u001b[0m \u001b[0;34m=\u001b[0m \u001b[0mshopping_df\u001b[0m\u001b[0;34m.\u001b[0m\u001b[0mgroupby\u001b[0m\u001b[0;34m(\u001b[0m\u001b[0;34m'Product'\u001b[0m\u001b[0;34m)\u001b[0m\u001b[0;34m\u001b[0m\u001b[0;34m\u001b[0m\u001b[0m\n\u001b[0;32m----> 2\u001b[0;31m \u001b[0mproduct_grp\u001b[0m\u001b[0;34m[\u001b[0m\u001b[0;34m'Purchase Address'\u001b[0m\u001b[0;34m]\u001b[0m\u001b[0;34m.\u001b[0m\u001b[0mstr\u001b[0m\u001b[0;34m.\u001b[0m\u001b[0mcontains\u001b[0m\u001b[0;34m(\u001b[0m\u001b[0;34m'CA'\u001b[0m\u001b[0;34m)\u001b[0m\u001b[0;34m.\u001b[0m\u001b[0msum\u001b[0m\u001b[0;34m(\u001b[0m\u001b[0;34m)\u001b[0m\u001b[0;34m\u001b[0m\u001b[0;34m\u001b[0m\u001b[0m\n\u001b[0m",
            "\u001b[0;32m/usr/local/lib/python3.6/dist-packages/pandas/core/groupby/groupby.py\u001b[0m in \u001b[0;36m__getattr__\u001b[0;34m(self, attr)\u001b[0m\n\u001b[1;32m    702\u001b[0m \u001b[0;34m\u001b[0m\u001b[0m\n\u001b[1;32m    703\u001b[0m         raise AttributeError(\n\u001b[0;32m--> 704\u001b[0;31m             \u001b[0;34mf\"'{type(self).__name__}' object has no attribute '{attr}'\"\u001b[0m\u001b[0;34m\u001b[0m\u001b[0;34m\u001b[0m\u001b[0m\n\u001b[0m\u001b[1;32m    705\u001b[0m         )\n\u001b[1;32m    706\u001b[0m \u001b[0;34m\u001b[0m\u001b[0m\n",
            "\u001b[0;31mAttributeError\u001b[0m: 'SeriesGroupBy' object has no attribute 'str'"
          ]
        }
      ]
    },
    {
      "cell_type": "code",
      "metadata": {
        "id": "IFBLeGqYIPVA",
        "colab": {
          "base_uri": "https://localhost:8080/"
        },
        "outputId": "debe955f-157f-468e-87dd-b3914d4eef94"
      },
      "source": [
        "type(product_grp['Purchase Address'])"
      ],
      "execution_count": null,
      "outputs": [
        {
          "output_type": "execute_result",
          "data": {
            "text/plain": [
              "pandas.core.groupby.generic.SeriesGroupBy"
            ]
          },
          "metadata": {
            "tags": []
          },
          "execution_count": 41
        }
      ]
    },
    {
      "cell_type": "markdown",
      "metadata": {
        "id": "hRLqOkLg__1g"
      },
      "source": [
        "**Use the `.apply` method on `SeriesGroupBy` objects**"
      ]
    },
    {
      "cell_type": "code",
      "metadata": {
        "id": "p9T9iiBODJpU",
        "colab": {
          "base_uri": "https://localhost:8080/"
        },
        "outputId": "2e65f26f-63d0-4f54-f36b-0282fb3f8d54"
      },
      "source": [
        "product_grp['Purchase Address'].apply(lambda x: x.str.contains('CA').sum())"
      ],
      "execution_count": null,
      "outputs": [
        {
          "output_type": "execute_result",
          "data": {
            "text/plain": [
              "Product\n",
              "20in Monitor                  1647\n",
              "27in 4K Gaming Monitor        2459\n",
              "27in FHD Monitor              3020\n",
              "34in Ultrawide Monitor        2395\n",
              "AA Batteries (4-pack)         8192\n",
              "AAA Batteries (4-pack)        8245\n",
              "Apple Airpods Headphones      6157\n",
              "Bose SoundSport Headphones    5386\n",
              "Flatscreen TV                 1873\n",
              "Google Phone                  2200\n",
              "LG Dryer                       259\n",
              "LG Washing Machine             285\n",
              "Lightning Charging Cable      8686\n",
              "Macbook Pro Laptop            1885\n",
              "ThinkPad Laptop               1604\n",
              "USB-C Charging Cable          8822\n",
              "Vareebadd Phone                810\n",
              "Wired Headphones              7635\n",
              "iPhone                        2777\n",
              "Name: Purchase Address, dtype: int64"
            ]
          },
          "metadata": {
            "tags": []
          },
          "execution_count": 42
        }
      ]
    },
    {
      "cell_type": "markdown",
      "metadata": {
        "id": "spqkAaMrZaMa"
      },
      "source": [
        "### pd.DataFrame.cumsum\n",
        "\n",
        "* `pd.DataFrame.cumsum(axis=None, skipna=True)`\n",
        "\n",
        "  * Returns the cumulative sum of a `Series` or `DataFrame`."
      ]
    },
    {
      "cell_type": "markdown",
      "metadata": {
        "id": "SBPkSOypbavq"
      },
      "source": [
        "#### Series"
      ]
    },
    {
      "cell_type": "markdown",
      "metadata": {
        "id": "uKJiEMMPa3NL"
      },
      "source": [
        "* By default, `NaN` values are ignored."
      ]
    },
    {
      "cell_type": "code",
      "metadata": {
        "id": "-JYhNaimZPc-",
        "colab": {
          "base_uri": "https://localhost:8080/"
        },
        "outputId": "4804eadd-7b53-4b01-b65a-3a5eda691fff"
      },
      "source": [
        "series = pd.Series([3, np.nan, 4, -6, 0])\n",
        "series"
      ],
      "execution_count": null,
      "outputs": [
        {
          "output_type": "execute_result",
          "data": {
            "text/plain": [
              "0    3.0\n",
              "1    NaN\n",
              "2    4.0\n",
              "3   -6.0\n",
              "4    0.0\n",
              "dtype: float64"
            ]
          },
          "metadata": {
            "tags": []
          },
          "execution_count": 43
        }
      ]
    },
    {
      "cell_type": "code",
      "metadata": {
        "id": "PQITvV_6ZYP_",
        "colab": {
          "base_uri": "https://localhost:8080/"
        },
        "outputId": "6b945341-0ed3-47b5-df0b-37babe9e877b"
      },
      "source": [
        "series.cumsum()"
      ],
      "execution_count": null,
      "outputs": [
        {
          "output_type": "execute_result",
          "data": {
            "text/plain": [
              "0    3.0\n",
              "1    NaN\n",
              "2    7.0\n",
              "3    1.0\n",
              "4    1.0\n",
              "dtype: float64"
            ]
          },
          "metadata": {
            "tags": []
          },
          "execution_count": 44
        }
      ]
    },
    {
      "cell_type": "markdown",
      "metadata": {
        "id": "3C_BrmhabU4V"
      },
      "source": [
        "#### Dataframe\n",
        "* By default, it iterates over the rows and finds the sum in each column.\n",
        "* This is equivalent to `axis=None` or `axis='index'`."
      ]
    },
    {
      "cell_type": "code",
      "metadata": {
        "id": "9YSOh6d8bYG4",
        "colab": {
          "base_uri": "https://localhost:8080/",
          "height": 136
        },
        "outputId": "3d4bc8ea-7a80-4914-82bb-4eb9744c8a4a"
      },
      "source": [
        "df = pd.DataFrame({\n",
        "    \"A\":[1.0, -3.0, 2.0],\n",
        "    \"B\" : [1.0, np.nan, 0.0],\n",
        "    \"C\" : [3.0, -2.0, -1.1]\n",
        "})\n",
        "\n",
        "df"
      ],
      "execution_count": null,
      "outputs": [
        {
          "output_type": "execute_result",
          "data": {
            "text/html": [
              "<div>\n",
              "<style scoped>\n",
              "    .dataframe tbody tr th:only-of-type {\n",
              "        vertical-align: middle;\n",
              "    }\n",
              "\n",
              "    .dataframe tbody tr th {\n",
              "        vertical-align: top;\n",
              "    }\n",
              "\n",
              "    .dataframe thead th {\n",
              "        text-align: right;\n",
              "    }\n",
              "</style>\n",
              "<table border=\"1\" class=\"dataframe\">\n",
              "  <thead>\n",
              "    <tr style=\"text-align: right;\">\n",
              "      <th></th>\n",
              "      <th>A</th>\n",
              "      <th>B</th>\n",
              "      <th>C</th>\n",
              "    </tr>\n",
              "  </thead>\n",
              "  <tbody>\n",
              "    <tr>\n",
              "      <th>0</th>\n",
              "      <td>1.0</td>\n",
              "      <td>1.0</td>\n",
              "      <td>3.0</td>\n",
              "    </tr>\n",
              "    <tr>\n",
              "      <th>1</th>\n",
              "      <td>-3.0</td>\n",
              "      <td>NaN</td>\n",
              "      <td>-2.0</td>\n",
              "    </tr>\n",
              "    <tr>\n",
              "      <th>2</th>\n",
              "      <td>2.0</td>\n",
              "      <td>0.0</td>\n",
              "      <td>-1.1</td>\n",
              "    </tr>\n",
              "  </tbody>\n",
              "</table>\n",
              "</div>"
            ],
            "text/plain": [
              "     A    B    C\n",
              "0  1.0  1.0  3.0\n",
              "1 -3.0  NaN -2.0\n",
              "2  2.0  0.0 -1.1"
            ]
          },
          "metadata": {
            "tags": []
          },
          "execution_count": 45
        }
      ]
    },
    {
      "cell_type": "code",
      "metadata": {
        "id": "IG0Jbj7pcJJi",
        "colab": {
          "base_uri": "https://localhost:8080/",
          "height": 136
        },
        "outputId": "f05f1e9d-fa61-4674-f107-7ea3f94f0e5f"
      },
      "source": [
        "df.cumsum()"
      ],
      "execution_count": null,
      "outputs": [
        {
          "output_type": "execute_result",
          "data": {
            "text/html": [
              "<div>\n",
              "<style scoped>\n",
              "    .dataframe tbody tr th:only-of-type {\n",
              "        vertical-align: middle;\n",
              "    }\n",
              "\n",
              "    .dataframe tbody tr th {\n",
              "        vertical-align: top;\n",
              "    }\n",
              "\n",
              "    .dataframe thead th {\n",
              "        text-align: right;\n",
              "    }\n",
              "</style>\n",
              "<table border=\"1\" class=\"dataframe\">\n",
              "  <thead>\n",
              "    <tr style=\"text-align: right;\">\n",
              "      <th></th>\n",
              "      <th>A</th>\n",
              "      <th>B</th>\n",
              "      <th>C</th>\n",
              "    </tr>\n",
              "  </thead>\n",
              "  <tbody>\n",
              "    <tr>\n",
              "      <th>0</th>\n",
              "      <td>1.0</td>\n",
              "      <td>1.0</td>\n",
              "      <td>3.0</td>\n",
              "    </tr>\n",
              "    <tr>\n",
              "      <th>1</th>\n",
              "      <td>-2.0</td>\n",
              "      <td>NaN</td>\n",
              "      <td>1.0</td>\n",
              "    </tr>\n",
              "    <tr>\n",
              "      <th>2</th>\n",
              "      <td>0.0</td>\n",
              "      <td>1.0</td>\n",
              "      <td>-0.1</td>\n",
              "    </tr>\n",
              "  </tbody>\n",
              "</table>\n",
              "</div>"
            ],
            "text/plain": [
              "     A    B    C\n",
              "0  1.0  1.0  3.0\n",
              "1 -2.0  NaN  1.0\n",
              "2  0.0  1.0 -0.1"
            ]
          },
          "metadata": {
            "tags": []
          },
          "execution_count": 46
        }
      ]
    },
    {
      "cell_type": "markdown",
      "metadata": {
        "id": "HgtjH2cBcnOf"
      },
      "source": [
        "**To iterate over columns and find the sum in each row, use `axis=1`.**"
      ]
    },
    {
      "cell_type": "code",
      "metadata": {
        "id": "A3Yuipqgcury",
        "colab": {
          "base_uri": "https://localhost:8080/",
          "height": 136
        },
        "outputId": "ec5d64db-7672-4cbb-8870-e0eec0edaae6"
      },
      "source": [
        "df.cumsum(axis=1)"
      ],
      "execution_count": null,
      "outputs": [
        {
          "output_type": "execute_result",
          "data": {
            "text/html": [
              "<div>\n",
              "<style scoped>\n",
              "    .dataframe tbody tr th:only-of-type {\n",
              "        vertical-align: middle;\n",
              "    }\n",
              "\n",
              "    .dataframe tbody tr th {\n",
              "        vertical-align: top;\n",
              "    }\n",
              "\n",
              "    .dataframe thead th {\n",
              "        text-align: right;\n",
              "    }\n",
              "</style>\n",
              "<table border=\"1\" class=\"dataframe\">\n",
              "  <thead>\n",
              "    <tr style=\"text-align: right;\">\n",
              "      <th></th>\n",
              "      <th>A</th>\n",
              "      <th>B</th>\n",
              "      <th>C</th>\n",
              "    </tr>\n",
              "  </thead>\n",
              "  <tbody>\n",
              "    <tr>\n",
              "      <th>0</th>\n",
              "      <td>1.0</td>\n",
              "      <td>2.0</td>\n",
              "      <td>5.0</td>\n",
              "    </tr>\n",
              "    <tr>\n",
              "      <th>1</th>\n",
              "      <td>-3.0</td>\n",
              "      <td>NaN</td>\n",
              "      <td>-5.0</td>\n",
              "    </tr>\n",
              "    <tr>\n",
              "      <th>2</th>\n",
              "      <td>2.0</td>\n",
              "      <td>2.0</td>\n",
              "      <td>0.9</td>\n",
              "    </tr>\n",
              "  </tbody>\n",
              "</table>\n",
              "</div>"
            ],
            "text/plain": [
              "     A    B    C\n",
              "0  1.0  2.0  5.0\n",
              "1 -3.0  NaN -5.0\n",
              "2  2.0  2.0  0.9"
            ]
          },
          "metadata": {
            "tags": []
          },
          "execution_count": 47
        }
      ]
    },
    {
      "cell_type": "markdown",
      "metadata": {
        "id": "-x69DsBPMnOs"
      },
      "source": [
        "# Try It Yourself"
      ]
    },
    {
      "cell_type": "markdown",
      "metadata": {
        "id": "w03spf8MMlPm"
      },
      "source": [
        "\n",
        "For the following questions, use the **Film** dataset.\n",
        "1.   Find the average number of movies released each year with the `subject` comedy .\n",
        "2.   Get the median `length` of the films released in `1990`.\n",
        "3.   Find the number of movies each unique set of actors (present in the `Actor` column) acted in.\n",
        "\n",
        "For the following questions, use the **Covid** dataset.\n",
        "4.  Find the cumulative sum of the `total cases` reported.\n",
        "5.  Find the total number of deaths reported.  \n"
      ]
    }
  ]
}