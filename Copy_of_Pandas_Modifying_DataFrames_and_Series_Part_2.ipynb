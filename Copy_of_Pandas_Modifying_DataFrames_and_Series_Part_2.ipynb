{
  "nbformat": 4,
  "nbformat_minor": 0,
  "metadata": {
    "colab": {
      "name": "Copy of Pandas: Modifying DataFrames and Series - Part 2",
      "provenance": [],
      "collapsed_sections": [],
      "toc_visible": true,
      "include_colab_link": true
    },
    "kernelspec": {
      "name": "python3",
      "display_name": "Python 3"
    }
  },
  "cells": [
    {
      "cell_type": "markdown",
      "metadata": {
        "id": "view-in-github",
        "colab_type": "text"
      },
      "source": [
        "<a href=\"https://colab.research.google.com/github/nike-2001/pandas/blob/main/Copy_of_Pandas_Modifying_DataFrames_and_Series_Part_2.ipynb\" target=\"_parent\"><img src=\"https://colab.research.google.com/assets/colab-badge.svg\" alt=\"Open In Colab\"/></a>"
      ]
    },
    {
      "cell_type": "code",
      "metadata": {
        "id": "XtyPJLjoEyUS"
      },
      "source": [
        "import pandas as pd\n",
        "import numpy as np"
      ],
      "execution_count": null,
      "outputs": []
    },
    {
      "cell_type": "markdown",
      "metadata": {
        "id": "9AF3vu8QRfcB"
      },
      "source": [
        "# Downloading and Loading Datasets\n",
        "Downloading all the required csv files and loading the data into the dataframes"
      ]
    },
    {
      "cell_type": "code",
      "metadata": {
        "id": "g3OjByf8RfcB",
        "colab": {
          "base_uri": "https://localhost:8080/"
        },
        "outputId": "d8017f0d-6515-4ff8-ccef-0b887ccdbb58"
      },
      "source": [
        "# eCommerce Dataset\n",
        "!wget https://nkb-backend-otg-media-static.s3.ap-south-1.amazonaws.com/otg_prod/media/Tech_4.0/AI_ML/Datasets/shopping_data_v2.csv\n",
        "\n",
        "shopping_df = pd.read_csv('shopping_data_v2.csv')"
      ],
      "execution_count": null,
      "outputs": [
        {
          "output_type": "stream",
          "text": [
            "--2021-01-25 12:12:15--  https://nkb-backend-otg-media-static.s3.ap-south-1.amazonaws.com/otg_prod/media/Tech_4.0/AI_ML/Datasets/shopping_data_v2.csv\n",
            "Resolving nkb-backend-otg-media-static.s3.ap-south-1.amazonaws.com (nkb-backend-otg-media-static.s3.ap-south-1.amazonaws.com)... 52.219.64.76\n",
            "Connecting to nkb-backend-otg-media-static.s3.ap-south-1.amazonaws.com (nkb-backend-otg-media-static.s3.ap-south-1.amazonaws.com)|52.219.64.76|:443... connected.\n",
            "HTTP request sent, awaiting response... 200 OK\n",
            "Length: 16278053 (16M) [text/csv]\n",
            "Saving to: ‘shopping_data_v2.csv’\n",
            "\n",
            "shopping_data_v2.cs 100%[===================>]  15.52M  5.75MB/s    in 2.7s    \n",
            "\n",
            "2021-01-25 12:12:18 (5.75 MB/s) - ‘shopping_data_v2.csv’ saved [16278053/16278053]\n",
            "\n"
          ],
          "name": "stdout"
        }
      ]
    },
    {
      "cell_type": "code",
      "metadata": {
        "id": "LIYeqaK_M8wZ",
        "colab": {
          "base_uri": "https://localhost:8080/"
        },
        "outputId": "c7873bef-5db9-4596-c130-03d85e8fbba8"
      },
      "source": [
        "# Covid Dataset\n",
        "!wget https://nkb-backend-otg-media-static.s3.ap-south-1.amazonaws.com/otg_prod/media/Tech_4.0/AI_ML/Datasets/italy-covid-daywise.csv\n",
        "\n",
        "covid_df = pd.read_csv('italy-covid-daywise.csv')"
      ],
      "execution_count": null,
      "outputs": [
        {
          "output_type": "stream",
          "text": [
            "--2021-01-25 12:12:19--  https://nkb-backend-otg-media-static.s3.ap-south-1.amazonaws.com/otg_prod/media/Tech_4.0/AI_ML/Datasets/italy-covid-daywise.csv\n",
            "Resolving nkb-backend-otg-media-static.s3.ap-south-1.amazonaws.com (nkb-backend-otg-media-static.s3.ap-south-1.amazonaws.com)... 52.219.66.30\n",
            "Connecting to nkb-backend-otg-media-static.s3.ap-south-1.amazonaws.com (nkb-backend-otg-media-static.s3.ap-south-1.amazonaws.com)|52.219.66.30|:443... connected.\n",
            "HTTP request sent, awaiting response... 200 OK\n",
            "Length: 6619 (6.5K) [text/csv]\n",
            "Saving to: ‘italy-covid-daywise.csv’\n",
            "\n",
            "italy-covid-daywise 100%[===================>]   6.46K  --.-KB/s    in 0s      \n",
            "\n",
            "2021-01-25 12:12:20 (186 MB/s) - ‘italy-covid-daywise.csv’ saved [6619/6619]\n",
            "\n"
          ],
          "name": "stdout"
        }
      ]
    },
    {
      "cell_type": "code",
      "metadata": {
        "id": "pNKwxH46M8lC",
        "colab": {
          "base_uri": "https://localhost:8080/"
        },
        "outputId": "68bb3e9e-9cae-4aca-b4ac-f2832054a0bb"
      },
      "source": [
        "# Stackoverflow Survey Dataset\n",
        "!wget https://nkb-backend-otg-media-static.s3.ap-south-1.amazonaws.com/otg_prod/media/Tech_4.0/AI_ML/Datasets/survey_results_public.csv\n",
        "\n",
        "survey_df = pd.read_csv('survey_results_public.csv')"
      ],
      "execution_count": null,
      "outputs": [
        {
          "output_type": "stream",
          "text": [
            "--2021-01-25 12:12:20--  https://nkb-backend-otg-media-static.s3.ap-south-1.amazonaws.com/otg_prod/media/Tech_4.0/AI_ML/Datasets/survey_results_public.csv\n",
            "Resolving nkb-backend-otg-media-static.s3.ap-south-1.amazonaws.com (nkb-backend-otg-media-static.s3.ap-south-1.amazonaws.com)... 52.219.66.30\n",
            "Connecting to nkb-backend-otg-media-static.s3.ap-south-1.amazonaws.com (nkb-backend-otg-media-static.s3.ap-south-1.amazonaws.com)|52.219.66.30|:443... connected.\n",
            "HTTP request sent, awaiting response... 200 OK\n",
            "Length: 94603888 (90M) [text/csv]\n",
            "Saving to: ‘survey_results_public.csv’\n",
            "\n",
            "survey_results_publ 100%[===================>]  90.22M  13.6MB/s    in 8.1s    \n",
            "\n",
            "2021-01-25 12:12:29 (11.1 MB/s) - ‘survey_results_public.csv’ saved [94603888/94603888]\n",
            "\n"
          ],
          "name": "stdout"
        }
      ]
    },
    {
      "cell_type": "code",
      "metadata": {
        "id": "2PuJZuRAM8Za",
        "colab": {
          "base_uri": "https://localhost:8080/"
        },
        "outputId": "36a1b5df-191c-4c1e-a45e-7b17231b049b"
      },
      "source": [
        "# Film Dataset\n",
        "!wget https://nkb-backend-otg-media-static.s3.ap-south-1.amazonaws.com/otg_prod/media/Tech_4.0/AI_ML/Datasets/film.csv\n",
        "\n",
        "films_df = pd.read_csv('film.csv')"
      ],
      "execution_count": null,
      "outputs": [
        {
          "output_type": "stream",
          "text": [
            "--2021-01-25 12:12:30--  https://nkb-backend-otg-media-static.s3.ap-south-1.amazonaws.com/otg_prod/media/Tech_4.0/AI_ML/Datasets/film.csv\n",
            "Resolving nkb-backend-otg-media-static.s3.ap-south-1.amazonaws.com (nkb-backend-otg-media-static.s3.ap-south-1.amazonaws.com)... 52.219.62.87\n",
            "Connecting to nkb-backend-otg-media-static.s3.ap-south-1.amazonaws.com (nkb-backend-otg-media-static.s3.ap-south-1.amazonaws.com)|52.219.62.87|:443... connected.\n",
            "HTTP request sent, awaiting response... 200 OK\n",
            "Length: 102889 (100K) [text/csv]\n",
            "Saving to: ‘film.csv’\n",
            "\n",
            "film.csv            100%[===================>] 100.48K   223KB/s    in 0.5s    \n",
            "\n",
            "2021-01-25 12:12:32 (223 KB/s) - ‘film.csv’ saved [102889/102889]\n",
            "\n"
          ],
          "name": "stdout"
        }
      ]
    },
    {
      "cell_type": "code",
      "metadata": {
        "id": "pSf0CMJRty8u"
      },
      "source": [
        "people = {\n",
        "    \"first\": [\"Kristen\", 'Maxine', 'John'], \n",
        "    \"last\": [\"Carol\", 'Willians', 'Smith'], \n",
        "    \"email\": [\"KristenC@gmail.com\", 'Maxine.Williams@email.com', 'JohnSmith@email.com']\n",
        "}\n",
        "\n",
        "people_df = pd.DataFrame(people)"
      ],
      "execution_count": null,
      "outputs": []
    },
    {
      "cell_type": "markdown",
      "metadata": {
        "id": "J9TCAmvncqyK"
      },
      "source": [
        "# Add/Delete Columns"
      ]
    },
    {
      "cell_type": "markdown",
      "metadata": {
        "id": "JTzk54BOAyAQ"
      },
      "source": [
        "**We can create a new column by assigning a `Series` as shown below**"
      ]
    },
    {
      "cell_type": "code",
      "metadata": {
        "id": "AhMd5YjtEJEB",
        "colab": {
          "base_uri": "https://localhost:8080/",
          "height": 581
        },
        "outputId": "fa6e53f4-60ed-470e-8d54-304c00842a21"
      },
      "source": [
        "shopping_df"
      ],
      "execution_count": null,
      "outputs": [
        {
          "output_type": "execute_result",
          "data": {
            "text/html": [
              "<div>\n",
              "<style scoped>\n",
              "    .dataframe tbody tr th:only-of-type {\n",
              "        vertical-align: middle;\n",
              "    }\n",
              "\n",
              "    .dataframe tbody tr th {\n",
              "        vertical-align: top;\n",
              "    }\n",
              "\n",
              "    .dataframe thead th {\n",
              "        text-align: right;\n",
              "    }\n",
              "</style>\n",
              "<table border=\"1\" class=\"dataframe\">\n",
              "  <thead>\n",
              "    <tr style=\"text-align: right;\">\n",
              "      <th></th>\n",
              "      <th>Order ID</th>\n",
              "      <th>Product</th>\n",
              "      <th>Quantity Ordered</th>\n",
              "      <th>Price Each</th>\n",
              "      <th>Order Date</th>\n",
              "      <th>Purchase Address</th>\n",
              "    </tr>\n",
              "  </thead>\n",
              "  <tbody>\n",
              "    <tr>\n",
              "      <th>0</th>\n",
              "      <td>176558</td>\n",
              "      <td>USB-C Charging Cable</td>\n",
              "      <td>2</td>\n",
              "      <td>11.95</td>\n",
              "      <td>04/19/19 08:46</td>\n",
              "      <td>917 1st St, Dallas, TX 75001</td>\n",
              "    </tr>\n",
              "    <tr>\n",
              "      <th>1</th>\n",
              "      <td>176559</td>\n",
              "      <td>Bose SoundSport Headphones</td>\n",
              "      <td>1</td>\n",
              "      <td>99.99</td>\n",
              "      <td>04/07/19 22:30</td>\n",
              "      <td>682 Chestnut St, Boston, MA 02215</td>\n",
              "    </tr>\n",
              "    <tr>\n",
              "      <th>2</th>\n",
              "      <td>176560</td>\n",
              "      <td>Google Phone</td>\n",
              "      <td>1</td>\n",
              "      <td>600.00</td>\n",
              "      <td>04/12/19 14:38</td>\n",
              "      <td>669 Spruce St, Los Angeles, CA 90001</td>\n",
              "    </tr>\n",
              "    <tr>\n",
              "      <th>3</th>\n",
              "      <td>176560</td>\n",
              "      <td>Wired Headphones</td>\n",
              "      <td>1</td>\n",
              "      <td>11.99</td>\n",
              "      <td>04/12/19 14:38</td>\n",
              "      <td>669 Spruce St, Los Angeles, CA 90001</td>\n",
              "    </tr>\n",
              "    <tr>\n",
              "      <th>4</th>\n",
              "      <td>176561</td>\n",
              "      <td>Wired Headphones</td>\n",
              "      <td>1</td>\n",
              "      <td>11.99</td>\n",
              "      <td>04/30/19 09:27</td>\n",
              "      <td>333 8th St, Los Angeles, CA 90001</td>\n",
              "    </tr>\n",
              "    <tr>\n",
              "      <th>...</th>\n",
              "      <td>...</td>\n",
              "      <td>...</td>\n",
              "      <td>...</td>\n",
              "      <td>...</td>\n",
              "      <td>...</td>\n",
              "      <td>...</td>\n",
              "    </tr>\n",
              "    <tr>\n",
              "      <th>185945</th>\n",
              "      <td>176554</td>\n",
              "      <td>Lightning Charging Cable</td>\n",
              "      <td>1</td>\n",
              "      <td>14.95</td>\n",
              "      <td>03/24/19 11:14</td>\n",
              "      <td>672 12th St, San Francisco, CA 94016</td>\n",
              "    </tr>\n",
              "    <tr>\n",
              "      <th>185946</th>\n",
              "      <td>176555</td>\n",
              "      <td>27in FHD Monitor</td>\n",
              "      <td>1</td>\n",
              "      <td>149.99</td>\n",
              "      <td>03/22/19 20:27</td>\n",
              "      <td>42 4th St, San Francisco, CA 94016</td>\n",
              "    </tr>\n",
              "    <tr>\n",
              "      <th>185947</th>\n",
              "      <td>176556</td>\n",
              "      <td>AAA Batteries (4-pack)</td>\n",
              "      <td>3</td>\n",
              "      <td>2.99</td>\n",
              "      <td>03/14/19 10:29</td>\n",
              "      <td>871 7th St, Los Angeles, CA 90001</td>\n",
              "    </tr>\n",
              "    <tr>\n",
              "      <th>185948</th>\n",
              "      <td>176557</td>\n",
              "      <td>iPhone</td>\n",
              "      <td>1</td>\n",
              "      <td>700.00</td>\n",
              "      <td>03/30/19 12:32</td>\n",
              "      <td>83 Washington St, San Francisco, CA 94016</td>\n",
              "    </tr>\n",
              "    <tr>\n",
              "      <th>185949</th>\n",
              "      <td>176557</td>\n",
              "      <td>Lightning Charging Cable</td>\n",
              "      <td>1</td>\n",
              "      <td>14.95</td>\n",
              "      <td>03/30/19 12:32</td>\n",
              "      <td>83 Washington St, San Francisco, CA 94016</td>\n",
              "    </tr>\n",
              "  </tbody>\n",
              "</table>\n",
              "<p>185950 rows × 6 columns</p>\n",
              "</div>"
            ],
            "text/plain": [
              "        Order ID  ...                           Purchase Address\n",
              "0         176558  ...               917 1st St, Dallas, TX 75001\n",
              "1         176559  ...          682 Chestnut St, Boston, MA 02215\n",
              "2         176560  ...       669 Spruce St, Los Angeles, CA 90001\n",
              "3         176560  ...       669 Spruce St, Los Angeles, CA 90001\n",
              "4         176561  ...          333 8th St, Los Angeles, CA 90001\n",
              "...          ...  ...                                        ...\n",
              "185945    176554  ...       672 12th St, San Francisco, CA 94016\n",
              "185946    176555  ...         42 4th St, San Francisco, CA 94016\n",
              "185947    176556  ...          871 7th St, Los Angeles, CA 90001\n",
              "185948    176557  ...  83 Washington St, San Francisco, CA 94016\n",
              "185949    176557  ...  83 Washington St, San Francisco, CA 94016\n",
              "\n",
              "[185950 rows x 6 columns]"
            ]
          },
          "metadata": {
            "tags": []
          },
          "execution_count": 7
        }
      ]
    },
    {
      "cell_type": "code",
      "metadata": {
        "id": "m8BOeItYEPo_",
        "colab": {
          "base_uri": "https://localhost:8080/"
        },
        "outputId": "de2a6a7d-9af5-406e-f913-e029cb05ef11"
      },
      "source": [
        "pd.Series(['Amazon', 'Flipkart', 'Walmart'])"
      ],
      "execution_count": null,
      "outputs": [
        {
          "output_type": "execute_result",
          "data": {
            "text/plain": [
              "0      Amazon\n",
              "1    Flipkart\n",
              "2     Walmart\n",
              "dtype: object"
            ]
          },
          "metadata": {
            "tags": []
          },
          "execution_count": 8
        }
      ]
    },
    {
      "cell_type": "code",
      "metadata": {
        "id": "YejuVKJrmJCi",
        "colab": {
          "base_uri": "https://localhost:8080/",
          "height": 581
        },
        "outputId": "735b22fb-be39-4b8a-b62f-5afead8bdb57"
      },
      "source": [
        "shopping_df['Store'] = pd.Series(['Amazon', 'Flipkart', 'Walmart'])\n",
        "shopping_df"
      ],
      "execution_count": null,
      "outputs": [
        {
          "output_type": "execute_result",
          "data": {
            "text/html": [
              "<div>\n",
              "<style scoped>\n",
              "    .dataframe tbody tr th:only-of-type {\n",
              "        vertical-align: middle;\n",
              "    }\n",
              "\n",
              "    .dataframe tbody tr th {\n",
              "        vertical-align: top;\n",
              "    }\n",
              "\n",
              "    .dataframe thead th {\n",
              "        text-align: right;\n",
              "    }\n",
              "</style>\n",
              "<table border=\"1\" class=\"dataframe\">\n",
              "  <thead>\n",
              "    <tr style=\"text-align: right;\">\n",
              "      <th></th>\n",
              "      <th>Order ID</th>\n",
              "      <th>Product</th>\n",
              "      <th>Quantity Ordered</th>\n",
              "      <th>Price Each</th>\n",
              "      <th>Order Date</th>\n",
              "      <th>Purchase Address</th>\n",
              "      <th>Store</th>\n",
              "    </tr>\n",
              "  </thead>\n",
              "  <tbody>\n",
              "    <tr>\n",
              "      <th>0</th>\n",
              "      <td>176558</td>\n",
              "      <td>USB-C Charging Cable</td>\n",
              "      <td>2</td>\n",
              "      <td>11.95</td>\n",
              "      <td>04/19/19 08:46</td>\n",
              "      <td>917 1st St, Dallas, TX 75001</td>\n",
              "      <td>Amazon</td>\n",
              "    </tr>\n",
              "    <tr>\n",
              "      <th>1</th>\n",
              "      <td>176559</td>\n",
              "      <td>Bose SoundSport Headphones</td>\n",
              "      <td>1</td>\n",
              "      <td>99.99</td>\n",
              "      <td>04/07/19 22:30</td>\n",
              "      <td>682 Chestnut St, Boston, MA 02215</td>\n",
              "      <td>Flipkart</td>\n",
              "    </tr>\n",
              "    <tr>\n",
              "      <th>2</th>\n",
              "      <td>176560</td>\n",
              "      <td>Google Phone</td>\n",
              "      <td>1</td>\n",
              "      <td>600.00</td>\n",
              "      <td>04/12/19 14:38</td>\n",
              "      <td>669 Spruce St, Los Angeles, CA 90001</td>\n",
              "      <td>Walmart</td>\n",
              "    </tr>\n",
              "    <tr>\n",
              "      <th>3</th>\n",
              "      <td>176560</td>\n",
              "      <td>Wired Headphones</td>\n",
              "      <td>1</td>\n",
              "      <td>11.99</td>\n",
              "      <td>04/12/19 14:38</td>\n",
              "      <td>669 Spruce St, Los Angeles, CA 90001</td>\n",
              "      <td>NaN</td>\n",
              "    </tr>\n",
              "    <tr>\n",
              "      <th>4</th>\n",
              "      <td>176561</td>\n",
              "      <td>Wired Headphones</td>\n",
              "      <td>1</td>\n",
              "      <td>11.99</td>\n",
              "      <td>04/30/19 09:27</td>\n",
              "      <td>333 8th St, Los Angeles, CA 90001</td>\n",
              "      <td>NaN</td>\n",
              "    </tr>\n",
              "    <tr>\n",
              "      <th>...</th>\n",
              "      <td>...</td>\n",
              "      <td>...</td>\n",
              "      <td>...</td>\n",
              "      <td>...</td>\n",
              "      <td>...</td>\n",
              "      <td>...</td>\n",
              "      <td>...</td>\n",
              "    </tr>\n",
              "    <tr>\n",
              "      <th>185945</th>\n",
              "      <td>176554</td>\n",
              "      <td>Lightning Charging Cable</td>\n",
              "      <td>1</td>\n",
              "      <td>14.95</td>\n",
              "      <td>03/24/19 11:14</td>\n",
              "      <td>672 12th St, San Francisco, CA 94016</td>\n",
              "      <td>NaN</td>\n",
              "    </tr>\n",
              "    <tr>\n",
              "      <th>185946</th>\n",
              "      <td>176555</td>\n",
              "      <td>27in FHD Monitor</td>\n",
              "      <td>1</td>\n",
              "      <td>149.99</td>\n",
              "      <td>03/22/19 20:27</td>\n",
              "      <td>42 4th St, San Francisco, CA 94016</td>\n",
              "      <td>NaN</td>\n",
              "    </tr>\n",
              "    <tr>\n",
              "      <th>185947</th>\n",
              "      <td>176556</td>\n",
              "      <td>AAA Batteries (4-pack)</td>\n",
              "      <td>3</td>\n",
              "      <td>2.99</td>\n",
              "      <td>03/14/19 10:29</td>\n",
              "      <td>871 7th St, Los Angeles, CA 90001</td>\n",
              "      <td>NaN</td>\n",
              "    </tr>\n",
              "    <tr>\n",
              "      <th>185948</th>\n",
              "      <td>176557</td>\n",
              "      <td>iPhone</td>\n",
              "      <td>1</td>\n",
              "      <td>700.00</td>\n",
              "      <td>03/30/19 12:32</td>\n",
              "      <td>83 Washington St, San Francisco, CA 94016</td>\n",
              "      <td>NaN</td>\n",
              "    </tr>\n",
              "    <tr>\n",
              "      <th>185949</th>\n",
              "      <td>176557</td>\n",
              "      <td>Lightning Charging Cable</td>\n",
              "      <td>1</td>\n",
              "      <td>14.95</td>\n",
              "      <td>03/30/19 12:32</td>\n",
              "      <td>83 Washington St, San Francisco, CA 94016</td>\n",
              "      <td>NaN</td>\n",
              "    </tr>\n",
              "  </tbody>\n",
              "</table>\n",
              "<p>185950 rows × 7 columns</p>\n",
              "</div>"
            ],
            "text/plain": [
              "        Order ID  ...     Store\n",
              "0         176558  ...    Amazon\n",
              "1         176559  ...  Flipkart\n",
              "2         176560  ...   Walmart\n",
              "3         176560  ...       NaN\n",
              "4         176561  ...       NaN\n",
              "...          ...  ...       ...\n",
              "185945    176554  ...       NaN\n",
              "185946    176555  ...       NaN\n",
              "185947    176556  ...       NaN\n",
              "185948    176557  ...       NaN\n",
              "185949    176557  ...       NaN\n",
              "\n",
              "[185950 rows x 7 columns]"
            ]
          },
          "metadata": {
            "tags": []
          },
          "execution_count": 9
        }
      ]
    },
    {
      "cell_type": "markdown",
      "metadata": {
        "id": "6oKfOqzvuJ1k"
      },
      "source": [
        "**Creating a new `Series` and adding it to a `DataFrame`**"
      ]
    },
    {
      "cell_type": "code",
      "metadata": {
        "id": "mVjjUIldExLT",
        "colab": {
          "base_uri": "https://localhost:8080/",
          "height": 136
        },
        "outputId": "1440394d-a78f-48ae-b029-20598b51bf79"
      },
      "source": [
        "people_df"
      ],
      "execution_count": null,
      "outputs": [
        {
          "output_type": "execute_result",
          "data": {
            "text/html": [
              "<div>\n",
              "<style scoped>\n",
              "    .dataframe tbody tr th:only-of-type {\n",
              "        vertical-align: middle;\n",
              "    }\n",
              "\n",
              "    .dataframe tbody tr th {\n",
              "        vertical-align: top;\n",
              "    }\n",
              "\n",
              "    .dataframe thead th {\n",
              "        text-align: right;\n",
              "    }\n",
              "</style>\n",
              "<table border=\"1\" class=\"dataframe\">\n",
              "  <thead>\n",
              "    <tr style=\"text-align: right;\">\n",
              "      <th></th>\n",
              "      <th>first</th>\n",
              "      <th>last</th>\n",
              "      <th>email</th>\n",
              "    </tr>\n",
              "  </thead>\n",
              "  <tbody>\n",
              "    <tr>\n",
              "      <th>0</th>\n",
              "      <td>Kristen</td>\n",
              "      <td>Carol</td>\n",
              "      <td>KristenC@gmail.com</td>\n",
              "    </tr>\n",
              "    <tr>\n",
              "      <th>1</th>\n",
              "      <td>Maxine</td>\n",
              "      <td>Willians</td>\n",
              "      <td>Maxine.Williams@email.com</td>\n",
              "    </tr>\n",
              "    <tr>\n",
              "      <th>2</th>\n",
              "      <td>John</td>\n",
              "      <td>Smith</td>\n",
              "      <td>JohnSmith@email.com</td>\n",
              "    </tr>\n",
              "  </tbody>\n",
              "</table>\n",
              "</div>"
            ],
            "text/plain": [
              "     first      last                      email\n",
              "0  Kristen     Carol         KristenC@gmail.com\n",
              "1   Maxine  Willians  Maxine.Williams@email.com\n",
              "2     John     Smith        JohnSmith@email.com"
            ]
          },
          "metadata": {
            "tags": []
          },
          "execution_count": 10
        }
      ]
    },
    {
      "cell_type": "code",
      "metadata": {
        "id": "csDF3ylzE6FO",
        "colab": {
          "base_uri": "https://localhost:8080/"
        },
        "outputId": "aaff9703-86c3-4352-a7c3-c582c5ffc353"
      },
      "source": [
        "(people_df['first'] + ' ' + people_df['last'])"
      ],
      "execution_count": null,
      "outputs": [
        {
          "output_type": "execute_result",
          "data": {
            "text/plain": [
              "0      Kristen Carol\n",
              "1    Maxine Willians\n",
              "2         John Smith\n",
              "dtype: object"
            ]
          },
          "metadata": {
            "tags": []
          },
          "execution_count": 11
        }
      ]
    },
    {
      "cell_type": "code",
      "metadata": {
        "id": "oy0HhO8TA2bS",
        "colab": {
          "base_uri": "https://localhost:8080/",
          "height": 136
        },
        "outputId": "9360cdac-7f18-4721-e4a5-8cc5ca0315a6"
      },
      "source": [
        "people_df['full_name'] = (people_df['first'] + ' ' + people_df['last'])\n",
        "people_df"
      ],
      "execution_count": null,
      "outputs": [
        {
          "output_type": "execute_result",
          "data": {
            "text/html": [
              "<div>\n",
              "<style scoped>\n",
              "    .dataframe tbody tr th:only-of-type {\n",
              "        vertical-align: middle;\n",
              "    }\n",
              "\n",
              "    .dataframe tbody tr th {\n",
              "        vertical-align: top;\n",
              "    }\n",
              "\n",
              "    .dataframe thead th {\n",
              "        text-align: right;\n",
              "    }\n",
              "</style>\n",
              "<table border=\"1\" class=\"dataframe\">\n",
              "  <thead>\n",
              "    <tr style=\"text-align: right;\">\n",
              "      <th></th>\n",
              "      <th>first</th>\n",
              "      <th>last</th>\n",
              "      <th>email</th>\n",
              "      <th>full_name</th>\n",
              "    </tr>\n",
              "  </thead>\n",
              "  <tbody>\n",
              "    <tr>\n",
              "      <th>0</th>\n",
              "      <td>Kristen</td>\n",
              "      <td>Carol</td>\n",
              "      <td>KristenC@gmail.com</td>\n",
              "      <td>Kristen Carol</td>\n",
              "    </tr>\n",
              "    <tr>\n",
              "      <th>1</th>\n",
              "      <td>Maxine</td>\n",
              "      <td>Willians</td>\n",
              "      <td>Maxine.Williams@email.com</td>\n",
              "      <td>Maxine Willians</td>\n",
              "    </tr>\n",
              "    <tr>\n",
              "      <th>2</th>\n",
              "      <td>John</td>\n",
              "      <td>Smith</td>\n",
              "      <td>JohnSmith@email.com</td>\n",
              "      <td>John Smith</td>\n",
              "    </tr>\n",
              "  </tbody>\n",
              "</table>\n",
              "</div>"
            ],
            "text/plain": [
              "     first      last                      email        full_name\n",
              "0  Kristen     Carol         KristenC@gmail.com    Kristen Carol\n",
              "1   Maxine  Willians  Maxine.Williams@email.com  Maxine Willians\n",
              "2     John     Smith        JohnSmith@email.com       John Smith"
            ]
          },
          "metadata": {
            "tags": []
          },
          "execution_count": 12
        }
      ]
    },
    {
      "cell_type": "markdown",
      "metadata": {
        "id": "i7uVMAh6HEu9"
      },
      "source": [
        "### Splitting columns\n"
      ]
    },
    {
      "cell_type": "code",
      "metadata": {
        "id": "_Tjy1g5iI19U",
        "colab": {
          "base_uri": "https://localhost:8080/",
          "height": 165
        },
        "outputId": "4f7c74d0-f637-4760-fbaf-9a99e42862ee"
      },
      "source": [
        "people = {\n",
        "    \"full_name\": [\"Jack Smith\", 'Jane Lodge', 'John Doe', 'Kristen Carol'], \n",
        "    \"email\": [\"JackSmith@gmail.com\", 'JaneLodge@email.com', 'JohnDoe@email.com', 'KristenC@email.com']\n",
        "}\n",
        "\n",
        "people_df = pd.DataFrame(people)\n",
        "people_df"
      ],
      "execution_count": null,
      "outputs": [
        {
          "output_type": "execute_result",
          "data": {
            "text/html": [
              "<div>\n",
              "<style scoped>\n",
              "    .dataframe tbody tr th:only-of-type {\n",
              "        vertical-align: middle;\n",
              "    }\n",
              "\n",
              "    .dataframe tbody tr th {\n",
              "        vertical-align: top;\n",
              "    }\n",
              "\n",
              "    .dataframe thead th {\n",
              "        text-align: right;\n",
              "    }\n",
              "</style>\n",
              "<table border=\"1\" class=\"dataframe\">\n",
              "  <thead>\n",
              "    <tr style=\"text-align: right;\">\n",
              "      <th></th>\n",
              "      <th>full_name</th>\n",
              "      <th>email</th>\n",
              "    </tr>\n",
              "  </thead>\n",
              "  <tbody>\n",
              "    <tr>\n",
              "      <th>0</th>\n",
              "      <td>Jack Smith</td>\n",
              "      <td>JackSmith@gmail.com</td>\n",
              "    </tr>\n",
              "    <tr>\n",
              "      <th>1</th>\n",
              "      <td>Jane Lodge</td>\n",
              "      <td>JaneLodge@email.com</td>\n",
              "    </tr>\n",
              "    <tr>\n",
              "      <th>2</th>\n",
              "      <td>John Doe</td>\n",
              "      <td>JohnDoe@email.com</td>\n",
              "    </tr>\n",
              "    <tr>\n",
              "      <th>3</th>\n",
              "      <td>Kristen Carol</td>\n",
              "      <td>KristenC@email.com</td>\n",
              "    </tr>\n",
              "  </tbody>\n",
              "</table>\n",
              "</div>"
            ],
            "text/plain": [
              "       full_name                email\n",
              "0     Jack Smith  JackSmith@gmail.com\n",
              "1     Jane Lodge  JaneLodge@email.com\n",
              "2       John Doe    JohnDoe@email.com\n",
              "3  Kristen Carol   KristenC@email.com"
            ]
          },
          "metadata": {
            "tags": []
          },
          "execution_count": 13
        }
      ]
    },
    {
      "cell_type": "code",
      "metadata": {
        "id": "4lPWlmS6JJRI",
        "colab": {
          "base_uri": "https://localhost:8080/"
        },
        "outputId": "8a5f564e-ed6a-467a-a969-79d283e43632"
      },
      "source": [
        "people_df['full_name'].str.split(' ')"
      ],
      "execution_count": null,
      "outputs": [
        {
          "output_type": "execute_result",
          "data": {
            "text/plain": [
              "0       [Jack, Smith]\n",
              "1       [Jane, Lodge]\n",
              "2         [John, Doe]\n",
              "3    [Kristen, Carol]\n",
              "Name: full_name, dtype: object"
            ]
          },
          "metadata": {
            "tags": []
          },
          "execution_count": 14
        }
      ]
    },
    {
      "cell_type": "code",
      "metadata": {
        "id": "Pa0kug9LJMRZ",
        "colab": {
          "base_uri": "https://localhost:8080/",
          "height": 165
        },
        "outputId": "388bd1b5-0531-4de5-a552-87327b319706"
      },
      "source": [
        "people_df['full_name'].str.split(' ', expand=True)"
      ],
      "execution_count": null,
      "outputs": [
        {
          "output_type": "execute_result",
          "data": {
            "text/html": [
              "<div>\n",
              "<style scoped>\n",
              "    .dataframe tbody tr th:only-of-type {\n",
              "        vertical-align: middle;\n",
              "    }\n",
              "\n",
              "    .dataframe tbody tr th {\n",
              "        vertical-align: top;\n",
              "    }\n",
              "\n",
              "    .dataframe thead th {\n",
              "        text-align: right;\n",
              "    }\n",
              "</style>\n",
              "<table border=\"1\" class=\"dataframe\">\n",
              "  <thead>\n",
              "    <tr style=\"text-align: right;\">\n",
              "      <th></th>\n",
              "      <th>0</th>\n",
              "      <th>1</th>\n",
              "    </tr>\n",
              "  </thead>\n",
              "  <tbody>\n",
              "    <tr>\n",
              "      <th>0</th>\n",
              "      <td>Jack</td>\n",
              "      <td>Smith</td>\n",
              "    </tr>\n",
              "    <tr>\n",
              "      <th>1</th>\n",
              "      <td>Jane</td>\n",
              "      <td>Lodge</td>\n",
              "    </tr>\n",
              "    <tr>\n",
              "      <th>2</th>\n",
              "      <td>John</td>\n",
              "      <td>Doe</td>\n",
              "    </tr>\n",
              "    <tr>\n",
              "      <th>3</th>\n",
              "      <td>Kristen</td>\n",
              "      <td>Carol</td>\n",
              "    </tr>\n",
              "  </tbody>\n",
              "</table>\n",
              "</div>"
            ],
            "text/plain": [
              "         0      1\n",
              "0     Jack  Smith\n",
              "1     Jane  Lodge\n",
              "2     John    Doe\n",
              "3  Kristen  Carol"
            ]
          },
          "metadata": {
            "tags": []
          },
          "execution_count": 15
        }
      ]
    },
    {
      "cell_type": "code",
      "metadata": {
        "id": "CFenfhKPJT1G",
        "colab": {
          "base_uri": "https://localhost:8080/",
          "height": 165
        },
        "outputId": "0703215a-a4cb-4d0c-e402-c0d76c47b9f2"
      },
      "source": [
        "people_df[['first', 'last']] = people_df['full_name'].str.split(' ', expand=True)\n",
        "people_df"
      ],
      "execution_count": null,
      "outputs": [
        {
          "output_type": "execute_result",
          "data": {
            "text/html": [
              "<div>\n",
              "<style scoped>\n",
              "    .dataframe tbody tr th:only-of-type {\n",
              "        vertical-align: middle;\n",
              "    }\n",
              "\n",
              "    .dataframe tbody tr th {\n",
              "        vertical-align: top;\n",
              "    }\n",
              "\n",
              "    .dataframe thead th {\n",
              "        text-align: right;\n",
              "    }\n",
              "</style>\n",
              "<table border=\"1\" class=\"dataframe\">\n",
              "  <thead>\n",
              "    <tr style=\"text-align: right;\">\n",
              "      <th></th>\n",
              "      <th>full_name</th>\n",
              "      <th>email</th>\n",
              "      <th>first</th>\n",
              "      <th>last</th>\n",
              "    </tr>\n",
              "  </thead>\n",
              "  <tbody>\n",
              "    <tr>\n",
              "      <th>0</th>\n",
              "      <td>Jack Smith</td>\n",
              "      <td>JackSmith@gmail.com</td>\n",
              "      <td>Jack</td>\n",
              "      <td>Smith</td>\n",
              "    </tr>\n",
              "    <tr>\n",
              "      <th>1</th>\n",
              "      <td>Jane Lodge</td>\n",
              "      <td>JaneLodge@email.com</td>\n",
              "      <td>Jane</td>\n",
              "      <td>Lodge</td>\n",
              "    </tr>\n",
              "    <tr>\n",
              "      <th>2</th>\n",
              "      <td>John Doe</td>\n",
              "      <td>JohnDoe@email.com</td>\n",
              "      <td>John</td>\n",
              "      <td>Doe</td>\n",
              "    </tr>\n",
              "    <tr>\n",
              "      <th>3</th>\n",
              "      <td>Kristen Carol</td>\n",
              "      <td>KristenC@email.com</td>\n",
              "      <td>Kristen</td>\n",
              "      <td>Carol</td>\n",
              "    </tr>\n",
              "  </tbody>\n",
              "</table>\n",
              "</div>"
            ],
            "text/plain": [
              "       full_name                email    first   last\n",
              "0     Jack Smith  JackSmith@gmail.com     Jack  Smith\n",
              "1     Jane Lodge  JaneLodge@email.com     Jane  Lodge\n",
              "2       John Doe    JohnDoe@email.com     John    Doe\n",
              "3  Kristen Carol   KristenC@email.com  Kristen  Carol"
            ]
          },
          "metadata": {
            "tags": []
          },
          "execution_count": 16
        }
      ]
    },
    {
      "cell_type": "markdown",
      "metadata": {
        "id": "J4xwnFPqHLfd"
      },
      "source": [
        "### pd.concat\n",
        "* `pd.concat(objs, axis=0, ignore_index=False, keys=None)`\n",
        "  * Concatenates pandas objects along a particular axis\n",
        "  *   `objs` is a sequence or mapping of Series or DataFrame objects\n",
        "  *  The `axis` to concatenate along.\n",
        "  * If `ignore_index` is True, then it does not use the index values along the concatenation axis. The resulting axis will be labeled 0, …, n - 1. \n"
      ]
    },
    {
      "cell_type": "code",
      "metadata": {
        "id": "yINx6xHTWzTI",
        "colab": {
          "base_uri": "https://localhost:8080/",
          "height": 165
        },
        "outputId": "67a6644b-afc9-43fd-ad82-0380cfb117f7"
      },
      "source": [
        "people_df"
      ],
      "execution_count": null,
      "outputs": [
        {
          "output_type": "execute_result",
          "data": {
            "text/html": [
              "<div>\n",
              "<style scoped>\n",
              "    .dataframe tbody tr th:only-of-type {\n",
              "        vertical-align: middle;\n",
              "    }\n",
              "\n",
              "    .dataframe tbody tr th {\n",
              "        vertical-align: top;\n",
              "    }\n",
              "\n",
              "    .dataframe thead th {\n",
              "        text-align: right;\n",
              "    }\n",
              "</style>\n",
              "<table border=\"1\" class=\"dataframe\">\n",
              "  <thead>\n",
              "    <tr style=\"text-align: right;\">\n",
              "      <th></th>\n",
              "      <th>full_name</th>\n",
              "      <th>email</th>\n",
              "      <th>first</th>\n",
              "      <th>last</th>\n",
              "    </tr>\n",
              "  </thead>\n",
              "  <tbody>\n",
              "    <tr>\n",
              "      <th>0</th>\n",
              "      <td>Jack Smith</td>\n",
              "      <td>JackSmith@gmail.com</td>\n",
              "      <td>Jack</td>\n",
              "      <td>Smith</td>\n",
              "    </tr>\n",
              "    <tr>\n",
              "      <th>1</th>\n",
              "      <td>Jane Lodge</td>\n",
              "      <td>JaneLodge@email.com</td>\n",
              "      <td>Jane</td>\n",
              "      <td>Lodge</td>\n",
              "    </tr>\n",
              "    <tr>\n",
              "      <th>2</th>\n",
              "      <td>John Doe</td>\n",
              "      <td>JohnDoe@email.com</td>\n",
              "      <td>John</td>\n",
              "      <td>Doe</td>\n",
              "    </tr>\n",
              "    <tr>\n",
              "      <th>3</th>\n",
              "      <td>Kristen Carol</td>\n",
              "      <td>KristenC@email.com</td>\n",
              "      <td>Kristen</td>\n",
              "      <td>Carol</td>\n",
              "    </tr>\n",
              "  </tbody>\n",
              "</table>\n",
              "</div>"
            ],
            "text/plain": [
              "       full_name                email    first   last\n",
              "0     Jack Smith  JackSmith@gmail.com     Jack  Smith\n",
              "1     Jane Lodge  JaneLodge@email.com     Jane  Lodge\n",
              "2       John Doe    JohnDoe@email.com     John    Doe\n",
              "3  Kristen Carol   KristenC@email.com  Kristen  Carol"
            ]
          },
          "metadata": {
            "tags": []
          },
          "execution_count": 17
        }
      ]
    },
    {
      "cell_type": "code",
      "metadata": {
        "id": "YwemYY3lW5nG",
        "colab": {
          "base_uri": "https://localhost:8080/",
          "height": 165
        },
        "outputId": "b6334c54-1d2e-4982-cc3b-0f4b60a943e3"
      },
      "source": [
        "age_and_hobbies = {\n",
        "    \"age\": [35, 17, 21, 45], \n",
        "    \"hobbies\": [\"painting\", 'football', 'running', 'fishing']\n",
        "}\n",
        "\n",
        "age_and_hobbies_df = pd.DataFrame(age_and_hobbies)\n",
        "age_and_hobbies_df"
      ],
      "execution_count": null,
      "outputs": [
        {
          "output_type": "execute_result",
          "data": {
            "text/html": [
              "<div>\n",
              "<style scoped>\n",
              "    .dataframe tbody tr th:only-of-type {\n",
              "        vertical-align: middle;\n",
              "    }\n",
              "\n",
              "    .dataframe tbody tr th {\n",
              "        vertical-align: top;\n",
              "    }\n",
              "\n",
              "    .dataframe thead th {\n",
              "        text-align: right;\n",
              "    }\n",
              "</style>\n",
              "<table border=\"1\" class=\"dataframe\">\n",
              "  <thead>\n",
              "    <tr style=\"text-align: right;\">\n",
              "      <th></th>\n",
              "      <th>age</th>\n",
              "      <th>hobbies</th>\n",
              "    </tr>\n",
              "  </thead>\n",
              "  <tbody>\n",
              "    <tr>\n",
              "      <th>0</th>\n",
              "      <td>35</td>\n",
              "      <td>painting</td>\n",
              "    </tr>\n",
              "    <tr>\n",
              "      <th>1</th>\n",
              "      <td>17</td>\n",
              "      <td>football</td>\n",
              "    </tr>\n",
              "    <tr>\n",
              "      <th>2</th>\n",
              "      <td>21</td>\n",
              "      <td>running</td>\n",
              "    </tr>\n",
              "    <tr>\n",
              "      <th>3</th>\n",
              "      <td>45</td>\n",
              "      <td>fishing</td>\n",
              "    </tr>\n",
              "  </tbody>\n",
              "</table>\n",
              "</div>"
            ],
            "text/plain": [
              "   age   hobbies\n",
              "0   35  painting\n",
              "1   17  football\n",
              "2   21   running\n",
              "3   45   fishing"
            ]
          },
          "metadata": {
            "tags": []
          },
          "execution_count": 18
        }
      ]
    },
    {
      "cell_type": "code",
      "metadata": {
        "id": "0Xnow329HLfd",
        "colab": {
          "base_uri": "https://localhost:8080/",
          "height": 165
        },
        "outputId": "1ca0b5eb-ac1f-4e21-b213-c362942feb86"
      },
      "source": [
        "pd.concat([people_df, age_and_hobbies_df], axis=\"columns\")"
      ],
      "execution_count": null,
      "outputs": [
        {
          "output_type": "execute_result",
          "data": {
            "text/html": [
              "<div>\n",
              "<style scoped>\n",
              "    .dataframe tbody tr th:only-of-type {\n",
              "        vertical-align: middle;\n",
              "    }\n",
              "\n",
              "    .dataframe tbody tr th {\n",
              "        vertical-align: top;\n",
              "    }\n",
              "\n",
              "    .dataframe thead th {\n",
              "        text-align: right;\n",
              "    }\n",
              "</style>\n",
              "<table border=\"1\" class=\"dataframe\">\n",
              "  <thead>\n",
              "    <tr style=\"text-align: right;\">\n",
              "      <th></th>\n",
              "      <th>full_name</th>\n",
              "      <th>email</th>\n",
              "      <th>first</th>\n",
              "      <th>last</th>\n",
              "      <th>age</th>\n",
              "      <th>hobbies</th>\n",
              "    </tr>\n",
              "  </thead>\n",
              "  <tbody>\n",
              "    <tr>\n",
              "      <th>0</th>\n",
              "      <td>Jack Smith</td>\n",
              "      <td>JackSmith@gmail.com</td>\n",
              "      <td>Jack</td>\n",
              "      <td>Smith</td>\n",
              "      <td>35</td>\n",
              "      <td>painting</td>\n",
              "    </tr>\n",
              "    <tr>\n",
              "      <th>1</th>\n",
              "      <td>Jane Lodge</td>\n",
              "      <td>JaneLodge@email.com</td>\n",
              "      <td>Jane</td>\n",
              "      <td>Lodge</td>\n",
              "      <td>17</td>\n",
              "      <td>football</td>\n",
              "    </tr>\n",
              "    <tr>\n",
              "      <th>2</th>\n",
              "      <td>John Doe</td>\n",
              "      <td>JohnDoe@email.com</td>\n",
              "      <td>John</td>\n",
              "      <td>Doe</td>\n",
              "      <td>21</td>\n",
              "      <td>running</td>\n",
              "    </tr>\n",
              "    <tr>\n",
              "      <th>3</th>\n",
              "      <td>Kristen Carol</td>\n",
              "      <td>KristenC@email.com</td>\n",
              "      <td>Kristen</td>\n",
              "      <td>Carol</td>\n",
              "      <td>45</td>\n",
              "      <td>fishing</td>\n",
              "    </tr>\n",
              "  </tbody>\n",
              "</table>\n",
              "</div>"
            ],
            "text/plain": [
              "       full_name                email    first   last  age   hobbies\n",
              "0     Jack Smith  JackSmith@gmail.com     Jack  Smith   35  painting\n",
              "1     Jane Lodge  JaneLodge@email.com     Jane  Lodge   17  football\n",
              "2       John Doe    JohnDoe@email.com     John    Doe   21   running\n",
              "3  Kristen Carol   KristenC@email.com  Kristen  Carol   45   fishing"
            ]
          },
          "metadata": {
            "tags": []
          },
          "execution_count": 19
        }
      ]
    },
    {
      "cell_type": "markdown",
      "metadata": {
        "id": "d9L_82EhFGc2"
      },
      "source": [
        "**We can also concatenate 2 `series` objects**"
      ]
    },
    {
      "cell_type": "code",
      "metadata": {
        "id": "7-ZxDuvzHLfe"
      },
      "source": [
        "name = np.array(['Alexis', 'Jonathan'])\n",
        "gender = np.array(['Female', 'Male'])\n",
        "\n",
        "name_series = pd.Series(name)\n",
        "gender_series = pd.Series(gender)"
      ],
      "execution_count": null,
      "outputs": []
    },
    {
      "cell_type": "code",
      "metadata": {
        "id": "teLaMHNYHDUY",
        "colab": {
          "base_uri": "https://localhost:8080/",
          "height": 106
        },
        "outputId": "27653156-de6e-4817-cd7b-be5306111128"
      },
      "source": [
        "user_df = pd.concat([name_series, gender_series], axis=1)\n",
        "user_df"
      ],
      "execution_count": null,
      "outputs": [
        {
          "output_type": "execute_result",
          "data": {
            "text/html": [
              "<div>\n",
              "<style scoped>\n",
              "    .dataframe tbody tr th:only-of-type {\n",
              "        vertical-align: middle;\n",
              "    }\n",
              "\n",
              "    .dataframe tbody tr th {\n",
              "        vertical-align: top;\n",
              "    }\n",
              "\n",
              "    .dataframe thead th {\n",
              "        text-align: right;\n",
              "    }\n",
              "</style>\n",
              "<table border=\"1\" class=\"dataframe\">\n",
              "  <thead>\n",
              "    <tr style=\"text-align: right;\">\n",
              "      <th></th>\n",
              "      <th>0</th>\n",
              "      <th>1</th>\n",
              "    </tr>\n",
              "  </thead>\n",
              "  <tbody>\n",
              "    <tr>\n",
              "      <th>0</th>\n",
              "      <td>Alexis</td>\n",
              "      <td>Female</td>\n",
              "    </tr>\n",
              "    <tr>\n",
              "      <th>1</th>\n",
              "      <td>Jonathan</td>\n",
              "      <td>Male</td>\n",
              "    </tr>\n",
              "  </tbody>\n",
              "</table>\n",
              "</div>"
            ],
            "text/plain": [
              "          0       1\n",
              "0    Alexis  Female\n",
              "1  Jonathan    Male"
            ]
          },
          "metadata": {
            "tags": []
          },
          "execution_count": 21
        }
      ]
    },
    {
      "cell_type": "markdown",
      "metadata": {
        "id": "LlexvdASG_lD"
      },
      "source": [
        "**You can also create column names using the `keys` option**"
      ]
    },
    {
      "cell_type": "code",
      "metadata": {
        "id": "E87VhV9yHE-F",
        "colab": {
          "base_uri": "https://localhost:8080/",
          "height": 106
        },
        "outputId": "254421be-4a04-4c21-e5fc-256ec7c0dc04"
      },
      "source": [
        "user_df = pd.concat([name_series, gender_series], axis=1, keys=['name', 'gender'])\n",
        "user_df"
      ],
      "execution_count": null,
      "outputs": [
        {
          "output_type": "execute_result",
          "data": {
            "text/html": [
              "<div>\n",
              "<style scoped>\n",
              "    .dataframe tbody tr th:only-of-type {\n",
              "        vertical-align: middle;\n",
              "    }\n",
              "\n",
              "    .dataframe tbody tr th {\n",
              "        vertical-align: top;\n",
              "    }\n",
              "\n",
              "    .dataframe thead th {\n",
              "        text-align: right;\n",
              "    }\n",
              "</style>\n",
              "<table border=\"1\" class=\"dataframe\">\n",
              "  <thead>\n",
              "    <tr style=\"text-align: right;\">\n",
              "      <th></th>\n",
              "      <th>name</th>\n",
              "      <th>gender</th>\n",
              "    </tr>\n",
              "  </thead>\n",
              "  <tbody>\n",
              "    <tr>\n",
              "      <th>0</th>\n",
              "      <td>Alexis</td>\n",
              "      <td>Female</td>\n",
              "    </tr>\n",
              "    <tr>\n",
              "      <th>1</th>\n",
              "      <td>Jonathan</td>\n",
              "      <td>Male</td>\n",
              "    </tr>\n",
              "  </tbody>\n",
              "</table>\n",
              "</div>"
            ],
            "text/plain": [
              "       name  gender\n",
              "0    Alexis  Female\n",
              "1  Jonathan    Male"
            ]
          },
          "metadata": {
            "tags": []
          },
          "execution_count": 22
        }
      ]
    },
    {
      "cell_type": "markdown",
      "metadata": {
        "id": "h7RKjsivHOyx"
      },
      "source": [
        "### pd.DataFrame.drop\n",
        "* `pd.DataFrame.drop(labels=None, axis=0, index=None, columns=None, inplace=False)`\n",
        "  * `labels` is the index or column labels to drop.\n",
        "  *  `axis` specifies the axis to drop the labels from. \n",
        "  * `index` is an alternative to specifying the axis (labels, axis=0 is equivalent to index=labels)\n",
        "  * `columns` is an alternative to specifying the axis (labels, axis=1 is equivalent to columns=labels).\n"
      ]
    },
    {
      "cell_type": "code",
      "metadata": {
        "id": "LdNyF5YpHF1r",
        "colab": {
          "base_uri": "https://localhost:8080/",
          "height": 581
        },
        "outputId": "98c3c8e1-c9aa-4a27-fa1e-5384c3568d24"
      },
      "source": [
        "shopping_df"
      ],
      "execution_count": null,
      "outputs": [
        {
          "output_type": "execute_result",
          "data": {
            "text/html": [
              "<div>\n",
              "<style scoped>\n",
              "    .dataframe tbody tr th:only-of-type {\n",
              "        vertical-align: middle;\n",
              "    }\n",
              "\n",
              "    .dataframe tbody tr th {\n",
              "        vertical-align: top;\n",
              "    }\n",
              "\n",
              "    .dataframe thead th {\n",
              "        text-align: right;\n",
              "    }\n",
              "</style>\n",
              "<table border=\"1\" class=\"dataframe\">\n",
              "  <thead>\n",
              "    <tr style=\"text-align: right;\">\n",
              "      <th></th>\n",
              "      <th>Order ID</th>\n",
              "      <th>Product</th>\n",
              "      <th>Quantity Ordered</th>\n",
              "      <th>Price Each</th>\n",
              "      <th>Order Date</th>\n",
              "      <th>Purchase Address</th>\n",
              "      <th>Store</th>\n",
              "    </tr>\n",
              "  </thead>\n",
              "  <tbody>\n",
              "    <tr>\n",
              "      <th>0</th>\n",
              "      <td>176558</td>\n",
              "      <td>USB-C Charging Cable</td>\n",
              "      <td>2</td>\n",
              "      <td>11.95</td>\n",
              "      <td>04/19/19 08:46</td>\n",
              "      <td>917 1st St, Dallas, TX 75001</td>\n",
              "      <td>Amazon</td>\n",
              "    </tr>\n",
              "    <tr>\n",
              "      <th>1</th>\n",
              "      <td>176559</td>\n",
              "      <td>Bose SoundSport Headphones</td>\n",
              "      <td>1</td>\n",
              "      <td>99.99</td>\n",
              "      <td>04/07/19 22:30</td>\n",
              "      <td>682 Chestnut St, Boston, MA 02215</td>\n",
              "      <td>Flipkart</td>\n",
              "    </tr>\n",
              "    <tr>\n",
              "      <th>2</th>\n",
              "      <td>176560</td>\n",
              "      <td>Google Phone</td>\n",
              "      <td>1</td>\n",
              "      <td>600.00</td>\n",
              "      <td>04/12/19 14:38</td>\n",
              "      <td>669 Spruce St, Los Angeles, CA 90001</td>\n",
              "      <td>Walmart</td>\n",
              "    </tr>\n",
              "    <tr>\n",
              "      <th>3</th>\n",
              "      <td>176560</td>\n",
              "      <td>Wired Headphones</td>\n",
              "      <td>1</td>\n",
              "      <td>11.99</td>\n",
              "      <td>04/12/19 14:38</td>\n",
              "      <td>669 Spruce St, Los Angeles, CA 90001</td>\n",
              "      <td>NaN</td>\n",
              "    </tr>\n",
              "    <tr>\n",
              "      <th>4</th>\n",
              "      <td>176561</td>\n",
              "      <td>Wired Headphones</td>\n",
              "      <td>1</td>\n",
              "      <td>11.99</td>\n",
              "      <td>04/30/19 09:27</td>\n",
              "      <td>333 8th St, Los Angeles, CA 90001</td>\n",
              "      <td>NaN</td>\n",
              "    </tr>\n",
              "    <tr>\n",
              "      <th>...</th>\n",
              "      <td>...</td>\n",
              "      <td>...</td>\n",
              "      <td>...</td>\n",
              "      <td>...</td>\n",
              "      <td>...</td>\n",
              "      <td>...</td>\n",
              "      <td>...</td>\n",
              "    </tr>\n",
              "    <tr>\n",
              "      <th>185945</th>\n",
              "      <td>176554</td>\n",
              "      <td>Lightning Charging Cable</td>\n",
              "      <td>1</td>\n",
              "      <td>14.95</td>\n",
              "      <td>03/24/19 11:14</td>\n",
              "      <td>672 12th St, San Francisco, CA 94016</td>\n",
              "      <td>NaN</td>\n",
              "    </tr>\n",
              "    <tr>\n",
              "      <th>185946</th>\n",
              "      <td>176555</td>\n",
              "      <td>27in FHD Monitor</td>\n",
              "      <td>1</td>\n",
              "      <td>149.99</td>\n",
              "      <td>03/22/19 20:27</td>\n",
              "      <td>42 4th St, San Francisco, CA 94016</td>\n",
              "      <td>NaN</td>\n",
              "    </tr>\n",
              "    <tr>\n",
              "      <th>185947</th>\n",
              "      <td>176556</td>\n",
              "      <td>AAA Batteries (4-pack)</td>\n",
              "      <td>3</td>\n",
              "      <td>2.99</td>\n",
              "      <td>03/14/19 10:29</td>\n",
              "      <td>871 7th St, Los Angeles, CA 90001</td>\n",
              "      <td>NaN</td>\n",
              "    </tr>\n",
              "    <tr>\n",
              "      <th>185948</th>\n",
              "      <td>176557</td>\n",
              "      <td>iPhone</td>\n",
              "      <td>1</td>\n",
              "      <td>700.00</td>\n",
              "      <td>03/30/19 12:32</td>\n",
              "      <td>83 Washington St, San Francisco, CA 94016</td>\n",
              "      <td>NaN</td>\n",
              "    </tr>\n",
              "    <tr>\n",
              "      <th>185949</th>\n",
              "      <td>176557</td>\n",
              "      <td>Lightning Charging Cable</td>\n",
              "      <td>1</td>\n",
              "      <td>14.95</td>\n",
              "      <td>03/30/19 12:32</td>\n",
              "      <td>83 Washington St, San Francisco, CA 94016</td>\n",
              "      <td>NaN</td>\n",
              "    </tr>\n",
              "  </tbody>\n",
              "</table>\n",
              "<p>185950 rows × 7 columns</p>\n",
              "</div>"
            ],
            "text/plain": [
              "        Order ID  ...     Store\n",
              "0         176558  ...    Amazon\n",
              "1         176559  ...  Flipkart\n",
              "2         176560  ...   Walmart\n",
              "3         176560  ...       NaN\n",
              "4         176561  ...       NaN\n",
              "...          ...  ...       ...\n",
              "185945    176554  ...       NaN\n",
              "185946    176555  ...       NaN\n",
              "185947    176556  ...       NaN\n",
              "185948    176557  ...       NaN\n",
              "185949    176557  ...       NaN\n",
              "\n",
              "[185950 rows x 7 columns]"
            ]
          },
          "metadata": {
            "tags": []
          },
          "execution_count": 23
        }
      ]
    },
    {
      "cell_type": "code",
      "metadata": {
        "id": "J7yYN20gLXG6"
      },
      "source": [
        "shopping_df.drop(columns=['Quantity Ordered', 'Purchase Address', 'Store'], inplace=True)"
      ],
      "execution_count": null,
      "outputs": []
    },
    {
      "cell_type": "code",
      "metadata": {
        "id": "qdKZUuzdHeku",
        "colab": {
          "base_uri": "https://localhost:8080/",
          "height": 399
        },
        "outputId": "89251708-fb2d-4cce-be63-96043359507a"
      },
      "source": [
        "shopping_df"
      ],
      "execution_count": null,
      "outputs": [
        {
          "output_type": "execute_result",
          "data": {
            "text/html": [
              "<div>\n",
              "<style scoped>\n",
              "    .dataframe tbody tr th:only-of-type {\n",
              "        vertical-align: middle;\n",
              "    }\n",
              "\n",
              "    .dataframe tbody tr th {\n",
              "        vertical-align: top;\n",
              "    }\n",
              "\n",
              "    .dataframe thead th {\n",
              "        text-align: right;\n",
              "    }\n",
              "</style>\n",
              "<table border=\"1\" class=\"dataframe\">\n",
              "  <thead>\n",
              "    <tr style=\"text-align: right;\">\n",
              "      <th></th>\n",
              "      <th>Order ID</th>\n",
              "      <th>Product</th>\n",
              "      <th>Price Each</th>\n",
              "      <th>Order Date</th>\n",
              "    </tr>\n",
              "  </thead>\n",
              "  <tbody>\n",
              "    <tr>\n",
              "      <th>0</th>\n",
              "      <td>176558</td>\n",
              "      <td>USB-C Charging Cable</td>\n",
              "      <td>11.95</td>\n",
              "      <td>04/19/19 08:46</td>\n",
              "    </tr>\n",
              "    <tr>\n",
              "      <th>1</th>\n",
              "      <td>176559</td>\n",
              "      <td>Bose SoundSport Headphones</td>\n",
              "      <td>99.99</td>\n",
              "      <td>04/07/19 22:30</td>\n",
              "    </tr>\n",
              "    <tr>\n",
              "      <th>2</th>\n",
              "      <td>176560</td>\n",
              "      <td>Google Phone</td>\n",
              "      <td>600.00</td>\n",
              "      <td>04/12/19 14:38</td>\n",
              "    </tr>\n",
              "    <tr>\n",
              "      <th>3</th>\n",
              "      <td>176560</td>\n",
              "      <td>Wired Headphones</td>\n",
              "      <td>11.99</td>\n",
              "      <td>04/12/19 14:38</td>\n",
              "    </tr>\n",
              "    <tr>\n",
              "      <th>4</th>\n",
              "      <td>176561</td>\n",
              "      <td>Wired Headphones</td>\n",
              "      <td>11.99</td>\n",
              "      <td>04/30/19 09:27</td>\n",
              "    </tr>\n",
              "    <tr>\n",
              "      <th>...</th>\n",
              "      <td>...</td>\n",
              "      <td>...</td>\n",
              "      <td>...</td>\n",
              "      <td>...</td>\n",
              "    </tr>\n",
              "    <tr>\n",
              "      <th>185945</th>\n",
              "      <td>176554</td>\n",
              "      <td>Lightning Charging Cable</td>\n",
              "      <td>14.95</td>\n",
              "      <td>03/24/19 11:14</td>\n",
              "    </tr>\n",
              "    <tr>\n",
              "      <th>185946</th>\n",
              "      <td>176555</td>\n",
              "      <td>27in FHD Monitor</td>\n",
              "      <td>149.99</td>\n",
              "      <td>03/22/19 20:27</td>\n",
              "    </tr>\n",
              "    <tr>\n",
              "      <th>185947</th>\n",
              "      <td>176556</td>\n",
              "      <td>AAA Batteries (4-pack)</td>\n",
              "      <td>2.99</td>\n",
              "      <td>03/14/19 10:29</td>\n",
              "    </tr>\n",
              "    <tr>\n",
              "      <th>185948</th>\n",
              "      <td>176557</td>\n",
              "      <td>iPhone</td>\n",
              "      <td>700.00</td>\n",
              "      <td>03/30/19 12:32</td>\n",
              "    </tr>\n",
              "    <tr>\n",
              "      <th>185949</th>\n",
              "      <td>176557</td>\n",
              "      <td>Lightning Charging Cable</td>\n",
              "      <td>14.95</td>\n",
              "      <td>03/30/19 12:32</td>\n",
              "    </tr>\n",
              "  </tbody>\n",
              "</table>\n",
              "<p>185950 rows × 4 columns</p>\n",
              "</div>"
            ],
            "text/plain": [
              "        Order ID                     Product  Price Each      Order Date\n",
              "0         176558        USB-C Charging Cable       11.95  04/19/19 08:46\n",
              "1         176559  Bose SoundSport Headphones       99.99  04/07/19 22:30\n",
              "2         176560                Google Phone      600.00  04/12/19 14:38\n",
              "3         176560            Wired Headphones       11.99  04/12/19 14:38\n",
              "4         176561            Wired Headphones       11.99  04/30/19 09:27\n",
              "...          ...                         ...         ...             ...\n",
              "185945    176554    Lightning Charging Cable       14.95  03/24/19 11:14\n",
              "185946    176555            27in FHD Monitor      149.99  03/22/19 20:27\n",
              "185947    176556      AAA Batteries (4-pack)        2.99  03/14/19 10:29\n",
              "185948    176557                      iPhone      700.00  03/30/19 12:32\n",
              "185949    176557    Lightning Charging Cable       14.95  03/30/19 12:32\n",
              "\n",
              "[185950 rows x 4 columns]"
            ]
          },
          "metadata": {
            "tags": []
          },
          "execution_count": 25
        }
      ]
    },
    {
      "cell_type": "code",
      "metadata": {
        "id": "DePn-tCYzyZ5",
        "colab": {
          "base_uri": "https://localhost:8080/",
          "height": 399
        },
        "outputId": "56149782-55f8-4afe-e1f8-37a02e6ef6b8"
      },
      "source": [
        "# Alternate way of deleting columns\n",
        "shopping_df.drop(labels='Order Date', axis='columns')"
      ],
      "execution_count": null,
      "outputs": [
        {
          "output_type": "execute_result",
          "data": {
            "text/html": [
              "<div>\n",
              "<style scoped>\n",
              "    .dataframe tbody tr th:only-of-type {\n",
              "        vertical-align: middle;\n",
              "    }\n",
              "\n",
              "    .dataframe tbody tr th {\n",
              "        vertical-align: top;\n",
              "    }\n",
              "\n",
              "    .dataframe thead th {\n",
              "        text-align: right;\n",
              "    }\n",
              "</style>\n",
              "<table border=\"1\" class=\"dataframe\">\n",
              "  <thead>\n",
              "    <tr style=\"text-align: right;\">\n",
              "      <th></th>\n",
              "      <th>Order ID</th>\n",
              "      <th>Product</th>\n",
              "      <th>Price Each</th>\n",
              "    </tr>\n",
              "  </thead>\n",
              "  <tbody>\n",
              "    <tr>\n",
              "      <th>0</th>\n",
              "      <td>176558</td>\n",
              "      <td>USB-C Charging Cable</td>\n",
              "      <td>11.95</td>\n",
              "    </tr>\n",
              "    <tr>\n",
              "      <th>1</th>\n",
              "      <td>176559</td>\n",
              "      <td>Bose SoundSport Headphones</td>\n",
              "      <td>99.99</td>\n",
              "    </tr>\n",
              "    <tr>\n",
              "      <th>2</th>\n",
              "      <td>176560</td>\n",
              "      <td>Google Phone</td>\n",
              "      <td>600.00</td>\n",
              "    </tr>\n",
              "    <tr>\n",
              "      <th>3</th>\n",
              "      <td>176560</td>\n",
              "      <td>Wired Headphones</td>\n",
              "      <td>11.99</td>\n",
              "    </tr>\n",
              "    <tr>\n",
              "      <th>4</th>\n",
              "      <td>176561</td>\n",
              "      <td>Wired Headphones</td>\n",
              "      <td>11.99</td>\n",
              "    </tr>\n",
              "    <tr>\n",
              "      <th>...</th>\n",
              "      <td>...</td>\n",
              "      <td>...</td>\n",
              "      <td>...</td>\n",
              "    </tr>\n",
              "    <tr>\n",
              "      <th>185945</th>\n",
              "      <td>176554</td>\n",
              "      <td>Lightning Charging Cable</td>\n",
              "      <td>14.95</td>\n",
              "    </tr>\n",
              "    <tr>\n",
              "      <th>185946</th>\n",
              "      <td>176555</td>\n",
              "      <td>27in FHD Monitor</td>\n",
              "      <td>149.99</td>\n",
              "    </tr>\n",
              "    <tr>\n",
              "      <th>185947</th>\n",
              "      <td>176556</td>\n",
              "      <td>AAA Batteries (4-pack)</td>\n",
              "      <td>2.99</td>\n",
              "    </tr>\n",
              "    <tr>\n",
              "      <th>185948</th>\n",
              "      <td>176557</td>\n",
              "      <td>iPhone</td>\n",
              "      <td>700.00</td>\n",
              "    </tr>\n",
              "    <tr>\n",
              "      <th>185949</th>\n",
              "      <td>176557</td>\n",
              "      <td>Lightning Charging Cable</td>\n",
              "      <td>14.95</td>\n",
              "    </tr>\n",
              "  </tbody>\n",
              "</table>\n",
              "<p>185950 rows × 3 columns</p>\n",
              "</div>"
            ],
            "text/plain": [
              "        Order ID                     Product  Price Each\n",
              "0         176558        USB-C Charging Cable       11.95\n",
              "1         176559  Bose SoundSport Headphones       99.99\n",
              "2         176560                Google Phone      600.00\n",
              "3         176560            Wired Headphones       11.99\n",
              "4         176561            Wired Headphones       11.99\n",
              "...          ...                         ...         ...\n",
              "185945    176554    Lightning Charging Cable       14.95\n",
              "185946    176555            27in FHD Monitor      149.99\n",
              "185947    176556      AAA Batteries (4-pack)        2.99\n",
              "185948    176557                      iPhone      700.00\n",
              "185949    176557    Lightning Charging Cable       14.95\n",
              "\n",
              "[185950 rows x 3 columns]"
            ]
          },
          "metadata": {
            "tags": []
          },
          "execution_count": 26
        }
      ]
    },
    {
      "cell_type": "markdown",
      "metadata": {
        "id": "KzfOmYtdhd5u"
      },
      "source": [
        "# Add/Delete Rows"
      ]
    },
    {
      "cell_type": "markdown",
      "metadata": {
        "id": "9w5XvWOGHI4F"
      },
      "source": [
        "### pd.DataFrame.append\n",
        "* `pd.DataFrame.append(other, ignore_index=False, sort=False)`\n",
        "  * Columns in `other` that are not in the dataframe are added as new columns.\n",
        "  *   If `ignore_index` is True, the resulting axis will be labeled 0, 1, …, n - 1.\n",
        "  *  If `sort` is True, then it will sort the columns.\n",
        "\n"
      ]
    },
    {
      "cell_type": "code",
      "metadata": {
        "id": "wYyQ0oPnB0XZ",
        "colab": {
          "base_uri": "https://localhost:8080/",
          "height": 165
        },
        "outputId": "ae3dd2b9-a936-4010-d63e-2e4bf4c47caf"
      },
      "source": [
        "people = {\n",
        "    \"first\": [\"Jack\", 'Jane', 'John', 'Kristen'], \n",
        "    \"last\": [\"Smith\", 'Lodge', 'Doe', 'Carol'], \n",
        "    \"email\": [\"JackSmith@gmail.com\", 'JaneLodge@email.com', 'JohnDoe@email.com', 'KristenC@email.com']\n",
        "}\n",
        "\n",
        "people_df = pd.DataFrame(people)\n",
        "people_df"
      ],
      "execution_count": null,
      "outputs": [
        {
          "output_type": "execute_result",
          "data": {
            "text/html": [
              "<div>\n",
              "<style scoped>\n",
              "    .dataframe tbody tr th:only-of-type {\n",
              "        vertical-align: middle;\n",
              "    }\n",
              "\n",
              "    .dataframe tbody tr th {\n",
              "        vertical-align: top;\n",
              "    }\n",
              "\n",
              "    .dataframe thead th {\n",
              "        text-align: right;\n",
              "    }\n",
              "</style>\n",
              "<table border=\"1\" class=\"dataframe\">\n",
              "  <thead>\n",
              "    <tr style=\"text-align: right;\">\n",
              "      <th></th>\n",
              "      <th>first</th>\n",
              "      <th>last</th>\n",
              "      <th>email</th>\n",
              "    </tr>\n",
              "  </thead>\n",
              "  <tbody>\n",
              "    <tr>\n",
              "      <th>0</th>\n",
              "      <td>Jack</td>\n",
              "      <td>Smith</td>\n",
              "      <td>JackSmith@gmail.com</td>\n",
              "    </tr>\n",
              "    <tr>\n",
              "      <th>1</th>\n",
              "      <td>Jane</td>\n",
              "      <td>Lodge</td>\n",
              "      <td>JaneLodge@email.com</td>\n",
              "    </tr>\n",
              "    <tr>\n",
              "      <th>2</th>\n",
              "      <td>John</td>\n",
              "      <td>Doe</td>\n",
              "      <td>JohnDoe@email.com</td>\n",
              "    </tr>\n",
              "    <tr>\n",
              "      <th>3</th>\n",
              "      <td>Kristen</td>\n",
              "      <td>Carol</td>\n",
              "      <td>KristenC@email.com</td>\n",
              "    </tr>\n",
              "  </tbody>\n",
              "</table>\n",
              "</div>"
            ],
            "text/plain": [
              "     first   last                email\n",
              "0     Jack  Smith  JackSmith@gmail.com\n",
              "1     Jane  Lodge  JaneLodge@email.com\n",
              "2     John    Doe    JohnDoe@email.com\n",
              "3  Kristen  Carol   KristenC@email.com"
            ]
          },
          "metadata": {
            "tags": []
          },
          "execution_count": 27
        }
      ]
    },
    {
      "cell_type": "markdown",
      "metadata": {
        "id": "LEd0UhxoNN92"
      },
      "source": [
        "The following line of code throws an error, because we didn't assign an index to the new row."
      ]
    },
    {
      "cell_type": "code",
      "metadata": {
        "id": "Jz4D3YnxLrzh",
        "colab": {
          "base_uri": "https://localhost:8080/",
          "height": 293
        },
        "outputId": "9c9f7ba1-e3e2-44ef-bad7-c6b9b2539ca9"
      },
      "source": [
        "people_df.append({'first':'Justin', 'last':'Timberlake', 'email': 'Justin.T@gmail.com'})"
      ],
      "execution_count": null,
      "outputs": [
        {
          "output_type": "error",
          "ename": "TypeError",
          "evalue": "ignored",
          "traceback": [
            "\u001b[0;31m---------------------------------------------------------------------------\u001b[0m",
            "\u001b[0;31mTypeError\u001b[0m                                 Traceback (most recent call last)",
            "\u001b[0;32m<ipython-input-28-57c9aa0306bf>\u001b[0m in \u001b[0;36m<module>\u001b[0;34m()\u001b[0m\n\u001b[0;32m----> 1\u001b[0;31m \u001b[0mpeople_df\u001b[0m\u001b[0;34m.\u001b[0m\u001b[0mappend\u001b[0m\u001b[0;34m(\u001b[0m\u001b[0;34m{\u001b[0m\u001b[0;34m'first'\u001b[0m\u001b[0;34m:\u001b[0m\u001b[0;34m'Justin'\u001b[0m\u001b[0;34m,\u001b[0m \u001b[0;34m'last'\u001b[0m\u001b[0;34m:\u001b[0m\u001b[0;34m'Timberlake'\u001b[0m\u001b[0;34m,\u001b[0m \u001b[0;34m'email'\u001b[0m\u001b[0;34m:\u001b[0m \u001b[0;34m'Justin.T@gmail.com'\u001b[0m\u001b[0;34m}\u001b[0m\u001b[0;34m)\u001b[0m\u001b[0;34m\u001b[0m\u001b[0;34m\u001b[0m\u001b[0m\n\u001b[0m",
            "\u001b[0;32m/usr/local/lib/python3.6/dist-packages/pandas/core/frame.py\u001b[0m in \u001b[0;36mappend\u001b[0;34m(self, other, ignore_index, verify_integrity, sort)\u001b[0m\n\u001b[1;32m   7709\u001b[0m             \u001b[0;32mif\u001b[0m \u001b[0misinstance\u001b[0m\u001b[0;34m(\u001b[0m\u001b[0mother\u001b[0m\u001b[0;34m,\u001b[0m \u001b[0mdict\u001b[0m\u001b[0;34m)\u001b[0m\u001b[0;34m:\u001b[0m\u001b[0;34m\u001b[0m\u001b[0;34m\u001b[0m\u001b[0m\n\u001b[1;32m   7710\u001b[0m                 \u001b[0;32mif\u001b[0m \u001b[0;32mnot\u001b[0m \u001b[0mignore_index\u001b[0m\u001b[0;34m:\u001b[0m\u001b[0;34m\u001b[0m\u001b[0;34m\u001b[0m\u001b[0m\n\u001b[0;32m-> 7711\u001b[0;31m                     \u001b[0;32mraise\u001b[0m \u001b[0mTypeError\u001b[0m\u001b[0;34m(\u001b[0m\u001b[0;34m\"Can only append a dict if ignore_index=True\"\u001b[0m\u001b[0;34m)\u001b[0m\u001b[0;34m\u001b[0m\u001b[0;34m\u001b[0m\u001b[0m\n\u001b[0m\u001b[1;32m   7712\u001b[0m                 \u001b[0mother\u001b[0m \u001b[0;34m=\u001b[0m \u001b[0mSeries\u001b[0m\u001b[0;34m(\u001b[0m\u001b[0mother\u001b[0m\u001b[0;34m)\u001b[0m\u001b[0;34m\u001b[0m\u001b[0;34m\u001b[0m\u001b[0m\n\u001b[1;32m   7713\u001b[0m             \u001b[0;32mif\u001b[0m \u001b[0mother\u001b[0m\u001b[0;34m.\u001b[0m\u001b[0mname\u001b[0m \u001b[0;32mis\u001b[0m \u001b[0;32mNone\u001b[0m \u001b[0;32mand\u001b[0m \u001b[0;32mnot\u001b[0m \u001b[0mignore_index\u001b[0m\u001b[0;34m:\u001b[0m\u001b[0;34m\u001b[0m\u001b[0;34m\u001b[0m\u001b[0m\n",
            "\u001b[0;31mTypeError\u001b[0m: Can only append a dict if ignore_index=True"
          ]
        }
      ]
    },
    {
      "cell_type": "markdown",
      "metadata": {
        "id": "14lO1wc5NbRe"
      },
      "source": [
        "**If `ignore_index` is set to `True`, the row will be indexed automatically.**"
      ]
    },
    {
      "cell_type": "code",
      "metadata": {
        "id": "nU2Dhx-yNfRF",
        "colab": {
          "base_uri": "https://localhost:8080/",
          "height": 194
        },
        "outputId": "eba82db8-0b4c-41f5-a2b3-92ef88ca172f"
      },
      "source": [
        "people_df.append({'first':'Justin', 'last':'Timberlake', 'email': 'Justin.T@gmail.com'}, ignore_index=True)"
      ],
      "execution_count": null,
      "outputs": [
        {
          "output_type": "execute_result",
          "data": {
            "text/html": [
              "<div>\n",
              "<style scoped>\n",
              "    .dataframe tbody tr th:only-of-type {\n",
              "        vertical-align: middle;\n",
              "    }\n",
              "\n",
              "    .dataframe tbody tr th {\n",
              "        vertical-align: top;\n",
              "    }\n",
              "\n",
              "    .dataframe thead th {\n",
              "        text-align: right;\n",
              "    }\n",
              "</style>\n",
              "<table border=\"1\" class=\"dataframe\">\n",
              "  <thead>\n",
              "    <tr style=\"text-align: right;\">\n",
              "      <th></th>\n",
              "      <th>first</th>\n",
              "      <th>last</th>\n",
              "      <th>email</th>\n",
              "    </tr>\n",
              "  </thead>\n",
              "  <tbody>\n",
              "    <tr>\n",
              "      <th>0</th>\n",
              "      <td>Jack</td>\n",
              "      <td>Smith</td>\n",
              "      <td>JackSmith@gmail.com</td>\n",
              "    </tr>\n",
              "    <tr>\n",
              "      <th>1</th>\n",
              "      <td>Jane</td>\n",
              "      <td>Lodge</td>\n",
              "      <td>JaneLodge@email.com</td>\n",
              "    </tr>\n",
              "    <tr>\n",
              "      <th>2</th>\n",
              "      <td>John</td>\n",
              "      <td>Doe</td>\n",
              "      <td>JohnDoe@email.com</td>\n",
              "    </tr>\n",
              "    <tr>\n",
              "      <th>3</th>\n",
              "      <td>Kristen</td>\n",
              "      <td>Carol</td>\n",
              "      <td>KristenC@email.com</td>\n",
              "    </tr>\n",
              "    <tr>\n",
              "      <th>4</th>\n",
              "      <td>Justin</td>\n",
              "      <td>Timberlake</td>\n",
              "      <td>Justin.T@gmail.com</td>\n",
              "    </tr>\n",
              "  </tbody>\n",
              "</table>\n",
              "</div>"
            ],
            "text/plain": [
              "     first        last                email\n",
              "0     Jack       Smith  JackSmith@gmail.com\n",
              "1     Jane       Lodge  JaneLodge@email.com\n",
              "2     John         Doe    JohnDoe@email.com\n",
              "3  Kristen       Carol   KristenC@email.com\n",
              "4   Justin  Timberlake   Justin.T@gmail.com"
            ]
          },
          "metadata": {
            "tags": []
          },
          "execution_count": 29
        }
      ]
    },
    {
      "cell_type": "markdown",
      "metadata": {
        "id": "hizN7hVLQWXp"
      },
      "source": [
        "**We can append a dataframe too**"
      ]
    },
    {
      "cell_type": "code",
      "metadata": {
        "id": "DtaQwiNbQg5U",
        "colab": {
          "base_uri": "https://localhost:8080/",
          "height": 106
        },
        "outputId": "d2ecada3-b8e1-422d-993b-f6f77a19f635"
      },
      "source": [
        "people = {\n",
        "    \"first\": [\"Katy\", 'Thomas'], \n",
        "    \"last\" : [\"Chap\", \"Rogers\"],\n",
        "    \"email\": [\"KatyChap@gmail.com\", 'ThomasRogers@email.com']\n",
        "}\n",
        "\n",
        "people_df_2 = pd.DataFrame(people)\n",
        "people_df_2"
      ],
      "execution_count": null,
      "outputs": [
        {
          "output_type": "execute_result",
          "data": {
            "text/html": [
              "<div>\n",
              "<style scoped>\n",
              "    .dataframe tbody tr th:only-of-type {\n",
              "        vertical-align: middle;\n",
              "    }\n",
              "\n",
              "    .dataframe tbody tr th {\n",
              "        vertical-align: top;\n",
              "    }\n",
              "\n",
              "    .dataframe thead th {\n",
              "        text-align: right;\n",
              "    }\n",
              "</style>\n",
              "<table border=\"1\" class=\"dataframe\">\n",
              "  <thead>\n",
              "    <tr style=\"text-align: right;\">\n",
              "      <th></th>\n",
              "      <th>first</th>\n",
              "      <th>last</th>\n",
              "      <th>email</th>\n",
              "    </tr>\n",
              "  </thead>\n",
              "  <tbody>\n",
              "    <tr>\n",
              "      <th>0</th>\n",
              "      <td>Katy</td>\n",
              "      <td>Chap</td>\n",
              "      <td>KatyChap@gmail.com</td>\n",
              "    </tr>\n",
              "    <tr>\n",
              "      <th>1</th>\n",
              "      <td>Thomas</td>\n",
              "      <td>Rogers</td>\n",
              "      <td>ThomasRogers@email.com</td>\n",
              "    </tr>\n",
              "  </tbody>\n",
              "</table>\n",
              "</div>"
            ],
            "text/plain": [
              "    first    last                   email\n",
              "0    Katy    Chap      KatyChap@gmail.com\n",
              "1  Thomas  Rogers  ThomasRogers@email.com"
            ]
          },
          "metadata": {
            "tags": []
          },
          "execution_count": 30
        }
      ]
    },
    {
      "cell_type": "code",
      "metadata": {
        "id": "vjZGJcGjNZQ0",
        "colab": {
          "base_uri": "https://localhost:8080/",
          "height": 224
        },
        "outputId": "df224903-725e-453c-f64c-1e98c35f3211"
      },
      "source": [
        "people_df.append(people_df_2, ignore_index=True)"
      ],
      "execution_count": null,
      "outputs": [
        {
          "output_type": "execute_result",
          "data": {
            "text/html": [
              "<div>\n",
              "<style scoped>\n",
              "    .dataframe tbody tr th:only-of-type {\n",
              "        vertical-align: middle;\n",
              "    }\n",
              "\n",
              "    .dataframe tbody tr th {\n",
              "        vertical-align: top;\n",
              "    }\n",
              "\n",
              "    .dataframe thead th {\n",
              "        text-align: right;\n",
              "    }\n",
              "</style>\n",
              "<table border=\"1\" class=\"dataframe\">\n",
              "  <thead>\n",
              "    <tr style=\"text-align: right;\">\n",
              "      <th></th>\n",
              "      <th>first</th>\n",
              "      <th>last</th>\n",
              "      <th>email</th>\n",
              "    </tr>\n",
              "  </thead>\n",
              "  <tbody>\n",
              "    <tr>\n",
              "      <th>0</th>\n",
              "      <td>Jack</td>\n",
              "      <td>Smith</td>\n",
              "      <td>JackSmith@gmail.com</td>\n",
              "    </tr>\n",
              "    <tr>\n",
              "      <th>1</th>\n",
              "      <td>Jane</td>\n",
              "      <td>Lodge</td>\n",
              "      <td>JaneLodge@email.com</td>\n",
              "    </tr>\n",
              "    <tr>\n",
              "      <th>2</th>\n",
              "      <td>John</td>\n",
              "      <td>Doe</td>\n",
              "      <td>JohnDoe@email.com</td>\n",
              "    </tr>\n",
              "    <tr>\n",
              "      <th>3</th>\n",
              "      <td>Kristen</td>\n",
              "      <td>Carol</td>\n",
              "      <td>KristenC@email.com</td>\n",
              "    </tr>\n",
              "    <tr>\n",
              "      <th>4</th>\n",
              "      <td>Katy</td>\n",
              "      <td>Chap</td>\n",
              "      <td>KatyChap@gmail.com</td>\n",
              "    </tr>\n",
              "    <tr>\n",
              "      <th>5</th>\n",
              "      <td>Thomas</td>\n",
              "      <td>Rogers</td>\n",
              "      <td>ThomasRogers@email.com</td>\n",
              "    </tr>\n",
              "  </tbody>\n",
              "</table>\n",
              "</div>"
            ],
            "text/plain": [
              "     first    last                   email\n",
              "0     Jack   Smith     JackSmith@gmail.com\n",
              "1     Jane   Lodge     JaneLodge@email.com\n",
              "2     John     Doe       JohnDoe@email.com\n",
              "3  Kristen   Carol      KristenC@email.com\n",
              "4     Katy    Chap      KatyChap@gmail.com\n",
              "5   Thomas  Rogers  ThomasRogers@email.com"
            ]
          },
          "metadata": {
            "tags": []
          },
          "execution_count": 31
        }
      ]
    },
    {
      "cell_type": "code",
      "metadata": {
        "id": "eBnz3O4XHI4F",
        "colab": {
          "base_uri": "https://localhost:8080/",
          "height": 224
        },
        "outputId": "fc9dc093-cdbb-45f4-97f8-96970a382d3e"
      },
      "source": [
        "people_df.append(people_df_2, ignore_index=True, sort=True)"
      ],
      "execution_count": null,
      "outputs": [
        {
          "output_type": "execute_result",
          "data": {
            "text/html": [
              "<div>\n",
              "<style scoped>\n",
              "    .dataframe tbody tr th:only-of-type {\n",
              "        vertical-align: middle;\n",
              "    }\n",
              "\n",
              "    .dataframe tbody tr th {\n",
              "        vertical-align: top;\n",
              "    }\n",
              "\n",
              "    .dataframe thead th {\n",
              "        text-align: right;\n",
              "    }\n",
              "</style>\n",
              "<table border=\"1\" class=\"dataframe\">\n",
              "  <thead>\n",
              "    <tr style=\"text-align: right;\">\n",
              "      <th></th>\n",
              "      <th>email</th>\n",
              "      <th>first</th>\n",
              "      <th>last</th>\n",
              "    </tr>\n",
              "  </thead>\n",
              "  <tbody>\n",
              "    <tr>\n",
              "      <th>0</th>\n",
              "      <td>JackSmith@gmail.com</td>\n",
              "      <td>Jack</td>\n",
              "      <td>Smith</td>\n",
              "    </tr>\n",
              "    <tr>\n",
              "      <th>1</th>\n",
              "      <td>JaneLodge@email.com</td>\n",
              "      <td>Jane</td>\n",
              "      <td>Lodge</td>\n",
              "    </tr>\n",
              "    <tr>\n",
              "      <th>2</th>\n",
              "      <td>JohnDoe@email.com</td>\n",
              "      <td>John</td>\n",
              "      <td>Doe</td>\n",
              "    </tr>\n",
              "    <tr>\n",
              "      <th>3</th>\n",
              "      <td>KristenC@email.com</td>\n",
              "      <td>Kristen</td>\n",
              "      <td>Carol</td>\n",
              "    </tr>\n",
              "    <tr>\n",
              "      <th>4</th>\n",
              "      <td>KatyChap@gmail.com</td>\n",
              "      <td>Katy</td>\n",
              "      <td>Chap</td>\n",
              "    </tr>\n",
              "    <tr>\n",
              "      <th>5</th>\n",
              "      <td>ThomasRogers@email.com</td>\n",
              "      <td>Thomas</td>\n",
              "      <td>Rogers</td>\n",
              "    </tr>\n",
              "  </tbody>\n",
              "</table>\n",
              "</div>"
            ],
            "text/plain": [
              "                    email    first    last\n",
              "0     JackSmith@gmail.com     Jack   Smith\n",
              "1     JaneLodge@email.com     Jane   Lodge\n",
              "2       JohnDoe@email.com     John     Doe\n",
              "3      KristenC@email.com  Kristen   Carol\n",
              "4      KatyChap@gmail.com     Katy    Chap\n",
              "5  ThomasRogers@email.com   Thomas  Rogers"
            ]
          },
          "metadata": {
            "tags": []
          },
          "execution_count": 32
        }
      ]
    },
    {
      "cell_type": "markdown",
      "metadata": {
        "id": "9yFN_tvmlSUp"
      },
      "source": [
        "## pd.DataFrame.drop"
      ]
    },
    {
      "cell_type": "code",
      "metadata": {
        "id": "qguDJwc5IjTS",
        "colab": {
          "base_uri": "https://localhost:8080/",
          "height": 399
        },
        "outputId": "9aff18a7-af23-409c-ce6f-f3abe3af095c"
      },
      "source": [
        "shopping_df"
      ],
      "execution_count": null,
      "outputs": [
        {
          "output_type": "execute_result",
          "data": {
            "text/html": [
              "<div>\n",
              "<style scoped>\n",
              "    .dataframe tbody tr th:only-of-type {\n",
              "        vertical-align: middle;\n",
              "    }\n",
              "\n",
              "    .dataframe tbody tr th {\n",
              "        vertical-align: top;\n",
              "    }\n",
              "\n",
              "    .dataframe thead th {\n",
              "        text-align: right;\n",
              "    }\n",
              "</style>\n",
              "<table border=\"1\" class=\"dataframe\">\n",
              "  <thead>\n",
              "    <tr style=\"text-align: right;\">\n",
              "      <th></th>\n",
              "      <th>Order ID</th>\n",
              "      <th>Product</th>\n",
              "      <th>Price Each</th>\n",
              "      <th>Order Date</th>\n",
              "    </tr>\n",
              "  </thead>\n",
              "  <tbody>\n",
              "    <tr>\n",
              "      <th>0</th>\n",
              "      <td>176558</td>\n",
              "      <td>USB-C Charging Cable</td>\n",
              "      <td>11.95</td>\n",
              "      <td>04/19/19 08:46</td>\n",
              "    </tr>\n",
              "    <tr>\n",
              "      <th>1</th>\n",
              "      <td>176559</td>\n",
              "      <td>Bose SoundSport Headphones</td>\n",
              "      <td>99.99</td>\n",
              "      <td>04/07/19 22:30</td>\n",
              "    </tr>\n",
              "    <tr>\n",
              "      <th>2</th>\n",
              "      <td>176560</td>\n",
              "      <td>Google Phone</td>\n",
              "      <td>600.00</td>\n",
              "      <td>04/12/19 14:38</td>\n",
              "    </tr>\n",
              "    <tr>\n",
              "      <th>3</th>\n",
              "      <td>176560</td>\n",
              "      <td>Wired Headphones</td>\n",
              "      <td>11.99</td>\n",
              "      <td>04/12/19 14:38</td>\n",
              "    </tr>\n",
              "    <tr>\n",
              "      <th>4</th>\n",
              "      <td>176561</td>\n",
              "      <td>Wired Headphones</td>\n",
              "      <td>11.99</td>\n",
              "      <td>04/30/19 09:27</td>\n",
              "    </tr>\n",
              "    <tr>\n",
              "      <th>...</th>\n",
              "      <td>...</td>\n",
              "      <td>...</td>\n",
              "      <td>...</td>\n",
              "      <td>...</td>\n",
              "    </tr>\n",
              "    <tr>\n",
              "      <th>185945</th>\n",
              "      <td>176554</td>\n",
              "      <td>Lightning Charging Cable</td>\n",
              "      <td>14.95</td>\n",
              "      <td>03/24/19 11:14</td>\n",
              "    </tr>\n",
              "    <tr>\n",
              "      <th>185946</th>\n",
              "      <td>176555</td>\n",
              "      <td>27in FHD Monitor</td>\n",
              "      <td>149.99</td>\n",
              "      <td>03/22/19 20:27</td>\n",
              "    </tr>\n",
              "    <tr>\n",
              "      <th>185947</th>\n",
              "      <td>176556</td>\n",
              "      <td>AAA Batteries (4-pack)</td>\n",
              "      <td>2.99</td>\n",
              "      <td>03/14/19 10:29</td>\n",
              "    </tr>\n",
              "    <tr>\n",
              "      <th>185948</th>\n",
              "      <td>176557</td>\n",
              "      <td>iPhone</td>\n",
              "      <td>700.00</td>\n",
              "      <td>03/30/19 12:32</td>\n",
              "    </tr>\n",
              "    <tr>\n",
              "      <th>185949</th>\n",
              "      <td>176557</td>\n",
              "      <td>Lightning Charging Cable</td>\n",
              "      <td>14.95</td>\n",
              "      <td>03/30/19 12:32</td>\n",
              "    </tr>\n",
              "  </tbody>\n",
              "</table>\n",
              "<p>185950 rows × 4 columns</p>\n",
              "</div>"
            ],
            "text/plain": [
              "        Order ID                     Product  Price Each      Order Date\n",
              "0         176558        USB-C Charging Cable       11.95  04/19/19 08:46\n",
              "1         176559  Bose SoundSport Headphones       99.99  04/07/19 22:30\n",
              "2         176560                Google Phone      600.00  04/12/19 14:38\n",
              "3         176560            Wired Headphones       11.99  04/12/19 14:38\n",
              "4         176561            Wired Headphones       11.99  04/30/19 09:27\n",
              "...          ...                         ...         ...             ...\n",
              "185945    176554    Lightning Charging Cable       14.95  03/24/19 11:14\n",
              "185946    176555            27in FHD Monitor      149.99  03/22/19 20:27\n",
              "185947    176556      AAA Batteries (4-pack)        2.99  03/14/19 10:29\n",
              "185948    176557                      iPhone      700.00  03/30/19 12:32\n",
              "185949    176557    Lightning Charging Cable       14.95  03/30/19 12:32\n",
              "\n",
              "[185950 rows x 4 columns]"
            ]
          },
          "metadata": {
            "tags": []
          },
          "execution_count": 33
        }
      ]
    },
    {
      "cell_type": "code",
      "metadata": {
        "id": "D4lVH0TULowQ",
        "colab": {
          "base_uri": "https://localhost:8080/",
          "height": 399
        },
        "outputId": "f5f251c4-963a-4715-c1ef-178506bad244"
      },
      "source": [
        "shopping_df.drop(index=[1, 2])"
      ],
      "execution_count": null,
      "outputs": [
        {
          "output_type": "execute_result",
          "data": {
            "text/html": [
              "<div>\n",
              "<style scoped>\n",
              "    .dataframe tbody tr th:only-of-type {\n",
              "        vertical-align: middle;\n",
              "    }\n",
              "\n",
              "    .dataframe tbody tr th {\n",
              "        vertical-align: top;\n",
              "    }\n",
              "\n",
              "    .dataframe thead th {\n",
              "        text-align: right;\n",
              "    }\n",
              "</style>\n",
              "<table border=\"1\" class=\"dataframe\">\n",
              "  <thead>\n",
              "    <tr style=\"text-align: right;\">\n",
              "      <th></th>\n",
              "      <th>Order ID</th>\n",
              "      <th>Product</th>\n",
              "      <th>Price Each</th>\n",
              "      <th>Order Date</th>\n",
              "    </tr>\n",
              "  </thead>\n",
              "  <tbody>\n",
              "    <tr>\n",
              "      <th>0</th>\n",
              "      <td>176558</td>\n",
              "      <td>USB-C Charging Cable</td>\n",
              "      <td>11.95</td>\n",
              "      <td>04/19/19 08:46</td>\n",
              "    </tr>\n",
              "    <tr>\n",
              "      <th>3</th>\n",
              "      <td>176560</td>\n",
              "      <td>Wired Headphones</td>\n",
              "      <td>11.99</td>\n",
              "      <td>04/12/19 14:38</td>\n",
              "    </tr>\n",
              "    <tr>\n",
              "      <th>4</th>\n",
              "      <td>176561</td>\n",
              "      <td>Wired Headphones</td>\n",
              "      <td>11.99</td>\n",
              "      <td>04/30/19 09:27</td>\n",
              "    </tr>\n",
              "    <tr>\n",
              "      <th>5</th>\n",
              "      <td>176562</td>\n",
              "      <td>USB-C Charging Cable</td>\n",
              "      <td>11.95</td>\n",
              "      <td>04/29/19 13:03</td>\n",
              "    </tr>\n",
              "    <tr>\n",
              "      <th>6</th>\n",
              "      <td>176563</td>\n",
              "      <td>Bose SoundSport Headphones</td>\n",
              "      <td>99.99</td>\n",
              "      <td>04/02/19 07:46</td>\n",
              "    </tr>\n",
              "    <tr>\n",
              "      <th>...</th>\n",
              "      <td>...</td>\n",
              "      <td>...</td>\n",
              "      <td>...</td>\n",
              "      <td>...</td>\n",
              "    </tr>\n",
              "    <tr>\n",
              "      <th>185945</th>\n",
              "      <td>176554</td>\n",
              "      <td>Lightning Charging Cable</td>\n",
              "      <td>14.95</td>\n",
              "      <td>03/24/19 11:14</td>\n",
              "    </tr>\n",
              "    <tr>\n",
              "      <th>185946</th>\n",
              "      <td>176555</td>\n",
              "      <td>27in FHD Monitor</td>\n",
              "      <td>149.99</td>\n",
              "      <td>03/22/19 20:27</td>\n",
              "    </tr>\n",
              "    <tr>\n",
              "      <th>185947</th>\n",
              "      <td>176556</td>\n",
              "      <td>AAA Batteries (4-pack)</td>\n",
              "      <td>2.99</td>\n",
              "      <td>03/14/19 10:29</td>\n",
              "    </tr>\n",
              "    <tr>\n",
              "      <th>185948</th>\n",
              "      <td>176557</td>\n",
              "      <td>iPhone</td>\n",
              "      <td>700.00</td>\n",
              "      <td>03/30/19 12:32</td>\n",
              "    </tr>\n",
              "    <tr>\n",
              "      <th>185949</th>\n",
              "      <td>176557</td>\n",
              "      <td>Lightning Charging Cable</td>\n",
              "      <td>14.95</td>\n",
              "      <td>03/30/19 12:32</td>\n",
              "    </tr>\n",
              "  </tbody>\n",
              "</table>\n",
              "<p>185948 rows × 4 columns</p>\n",
              "</div>"
            ],
            "text/plain": [
              "        Order ID                     Product  Price Each      Order Date\n",
              "0         176558        USB-C Charging Cable       11.95  04/19/19 08:46\n",
              "3         176560            Wired Headphones       11.99  04/12/19 14:38\n",
              "4         176561            Wired Headphones       11.99  04/30/19 09:27\n",
              "5         176562        USB-C Charging Cable       11.95  04/29/19 13:03\n",
              "6         176563  Bose SoundSport Headphones       99.99  04/02/19 07:46\n",
              "...          ...                         ...         ...             ...\n",
              "185945    176554    Lightning Charging Cable       14.95  03/24/19 11:14\n",
              "185946    176555            27in FHD Monitor      149.99  03/22/19 20:27\n",
              "185947    176556      AAA Batteries (4-pack)        2.99  03/14/19 10:29\n",
              "185948    176557                      iPhone      700.00  03/30/19 12:32\n",
              "185949    176557    Lightning Charging Cable       14.95  03/30/19 12:32\n",
              "\n",
              "[185948 rows x 4 columns]"
            ]
          },
          "metadata": {
            "tags": []
          },
          "execution_count": 34
        }
      ]
    },
    {
      "cell_type": "code",
      "metadata": {
        "id": "gfOitQuWzZNH",
        "colab": {
          "base_uri": "https://localhost:8080/",
          "height": 399
        },
        "outputId": "fc0db52e-27d7-4147-c472-d25dae3d5ffe"
      },
      "source": [
        "shopping_df.drop(labels=[4, 3], axis=\"index\")"
      ],
      "execution_count": null,
      "outputs": [
        {
          "output_type": "execute_result",
          "data": {
            "text/html": [
              "<div>\n",
              "<style scoped>\n",
              "    .dataframe tbody tr th:only-of-type {\n",
              "        vertical-align: middle;\n",
              "    }\n",
              "\n",
              "    .dataframe tbody tr th {\n",
              "        vertical-align: top;\n",
              "    }\n",
              "\n",
              "    .dataframe thead th {\n",
              "        text-align: right;\n",
              "    }\n",
              "</style>\n",
              "<table border=\"1\" class=\"dataframe\">\n",
              "  <thead>\n",
              "    <tr style=\"text-align: right;\">\n",
              "      <th></th>\n",
              "      <th>Order ID</th>\n",
              "      <th>Product</th>\n",
              "      <th>Price Each</th>\n",
              "      <th>Order Date</th>\n",
              "    </tr>\n",
              "  </thead>\n",
              "  <tbody>\n",
              "    <tr>\n",
              "      <th>0</th>\n",
              "      <td>176558</td>\n",
              "      <td>USB-C Charging Cable</td>\n",
              "      <td>11.95</td>\n",
              "      <td>04/19/19 08:46</td>\n",
              "    </tr>\n",
              "    <tr>\n",
              "      <th>1</th>\n",
              "      <td>176559</td>\n",
              "      <td>Bose SoundSport Headphones</td>\n",
              "      <td>99.99</td>\n",
              "      <td>04/07/19 22:30</td>\n",
              "    </tr>\n",
              "    <tr>\n",
              "      <th>2</th>\n",
              "      <td>176560</td>\n",
              "      <td>Google Phone</td>\n",
              "      <td>600.00</td>\n",
              "      <td>04/12/19 14:38</td>\n",
              "    </tr>\n",
              "    <tr>\n",
              "      <th>5</th>\n",
              "      <td>176562</td>\n",
              "      <td>USB-C Charging Cable</td>\n",
              "      <td>11.95</td>\n",
              "      <td>04/29/19 13:03</td>\n",
              "    </tr>\n",
              "    <tr>\n",
              "      <th>6</th>\n",
              "      <td>176563</td>\n",
              "      <td>Bose SoundSport Headphones</td>\n",
              "      <td>99.99</td>\n",
              "      <td>04/02/19 07:46</td>\n",
              "    </tr>\n",
              "    <tr>\n",
              "      <th>...</th>\n",
              "      <td>...</td>\n",
              "      <td>...</td>\n",
              "      <td>...</td>\n",
              "      <td>...</td>\n",
              "    </tr>\n",
              "    <tr>\n",
              "      <th>185945</th>\n",
              "      <td>176554</td>\n",
              "      <td>Lightning Charging Cable</td>\n",
              "      <td>14.95</td>\n",
              "      <td>03/24/19 11:14</td>\n",
              "    </tr>\n",
              "    <tr>\n",
              "      <th>185946</th>\n",
              "      <td>176555</td>\n",
              "      <td>27in FHD Monitor</td>\n",
              "      <td>149.99</td>\n",
              "      <td>03/22/19 20:27</td>\n",
              "    </tr>\n",
              "    <tr>\n",
              "      <th>185947</th>\n",
              "      <td>176556</td>\n",
              "      <td>AAA Batteries (4-pack)</td>\n",
              "      <td>2.99</td>\n",
              "      <td>03/14/19 10:29</td>\n",
              "    </tr>\n",
              "    <tr>\n",
              "      <th>185948</th>\n",
              "      <td>176557</td>\n",
              "      <td>iPhone</td>\n",
              "      <td>700.00</td>\n",
              "      <td>03/30/19 12:32</td>\n",
              "    </tr>\n",
              "    <tr>\n",
              "      <th>185949</th>\n",
              "      <td>176557</td>\n",
              "      <td>Lightning Charging Cable</td>\n",
              "      <td>14.95</td>\n",
              "      <td>03/30/19 12:32</td>\n",
              "    </tr>\n",
              "  </tbody>\n",
              "</table>\n",
              "<p>185948 rows × 4 columns</p>\n",
              "</div>"
            ],
            "text/plain": [
              "        Order ID                     Product  Price Each      Order Date\n",
              "0         176558        USB-C Charging Cable       11.95  04/19/19 08:46\n",
              "1         176559  Bose SoundSport Headphones       99.99  04/07/19 22:30\n",
              "2         176560                Google Phone      600.00  04/12/19 14:38\n",
              "5         176562        USB-C Charging Cable       11.95  04/29/19 13:03\n",
              "6         176563  Bose SoundSport Headphones       99.99  04/02/19 07:46\n",
              "...          ...                         ...         ...             ...\n",
              "185945    176554    Lightning Charging Cable       14.95  03/24/19 11:14\n",
              "185946    176555            27in FHD Monitor      149.99  03/22/19 20:27\n",
              "185947    176556      AAA Batteries (4-pack)        2.99  03/14/19 10:29\n",
              "185948    176557                      iPhone      700.00  03/30/19 12:32\n",
              "185949    176557    Lightning Charging Cable       14.95  03/30/19 12:32\n",
              "\n",
              "[185948 rows x 4 columns]"
            ]
          },
          "metadata": {
            "tags": []
          },
          "execution_count": 35
        }
      ]
    },
    {
      "cell_type": "markdown",
      "metadata": {
        "id": "DMpS1SEAE8Eq"
      },
      "source": [
        "We can use drop with Series' too."
      ]
    },
    {
      "cell_type": "code",
      "metadata": {
        "id": "Wa8Dm6CSE7ZV",
        "colab": {
          "base_uri": "https://localhost:8080/"
        },
        "outputId": "977f0770-8549-4705-ec4a-ba5047fe7453"
      },
      "source": [
        "shopping_df['Product'].drop(labels=[1,2])"
      ],
      "execution_count": null,
      "outputs": [
        {
          "output_type": "execute_result",
          "data": {
            "text/plain": [
              "0               USB-C Charging Cable\n",
              "3                   Wired Headphones\n",
              "4                   Wired Headphones\n",
              "5               USB-C Charging Cable\n",
              "6         Bose SoundSport Headphones\n",
              "                     ...            \n",
              "185945      Lightning Charging Cable\n",
              "185946              27in FHD Monitor\n",
              "185947        AAA Batteries (4-pack)\n",
              "185948                        iPhone\n",
              "185949      Lightning Charging Cable\n",
              "Name: Product, Length: 185948, dtype: object"
            ]
          },
          "metadata": {
            "tags": []
          },
          "execution_count": 36
        }
      ]
    },
    {
      "cell_type": "markdown",
      "metadata": {
        "id": "psZalvdxht8F"
      },
      "source": [
        "# Merge DataFrames\n",
        "\n",
        "**`pd.DataFrame.merge(right, on=None)`**\n",
        "  * Returns a DataFrame of the two merged objects.\n",
        "  * `right` is the object to merge with\n",
        "  * `on`: the columns to join on. It must be in both the dataframe objects.\n",
        "\n",
        "**Similar to the SQL JOIN operation**"
      ]
    },
    {
      "cell_type": "code",
      "metadata": {
        "id": "FsyUBuC4JFUR",
        "colab": {
          "base_uri": "https://localhost:8080/",
          "height": 106
        },
        "outputId": "eba1ef58-296a-45f5-b75e-d8fbcdb7d9a3"
      },
      "source": [
        "people = {\n",
        "    \"full_name\": [\"Rama Rao\", 'Kuldeep Yadav'], \n",
        "    \"email\": [\"ramarao@gmail.com\", 'kuldeepy@email.com'],\n",
        "    \"place\" : [\"Hyderabad\", \"Lucknow\"]\n",
        "}\n",
        "\n",
        "df1 = pd.DataFrame(people)\n",
        "df1"
      ],
      "execution_count": null,
      "outputs": [
        {
          "output_type": "execute_result",
          "data": {
            "text/html": [
              "<div>\n",
              "<style scoped>\n",
              "    .dataframe tbody tr th:only-of-type {\n",
              "        vertical-align: middle;\n",
              "    }\n",
              "\n",
              "    .dataframe tbody tr th {\n",
              "        vertical-align: top;\n",
              "    }\n",
              "\n",
              "    .dataframe thead th {\n",
              "        text-align: right;\n",
              "    }\n",
              "</style>\n",
              "<table border=\"1\" class=\"dataframe\">\n",
              "  <thead>\n",
              "    <tr style=\"text-align: right;\">\n",
              "      <th></th>\n",
              "      <th>full_name</th>\n",
              "      <th>email</th>\n",
              "      <th>place</th>\n",
              "    </tr>\n",
              "  </thead>\n",
              "  <tbody>\n",
              "    <tr>\n",
              "      <th>0</th>\n",
              "      <td>Rama Rao</td>\n",
              "      <td>ramarao@gmail.com</td>\n",
              "      <td>Hyderabad</td>\n",
              "    </tr>\n",
              "    <tr>\n",
              "      <th>1</th>\n",
              "      <td>Kuldeep Yadav</td>\n",
              "      <td>kuldeepy@email.com</td>\n",
              "      <td>Lucknow</td>\n",
              "    </tr>\n",
              "  </tbody>\n",
              "</table>\n",
              "</div>"
            ],
            "text/plain": [
              "       full_name               email      place\n",
              "0       Rama Rao   ramarao@gmail.com  Hyderabad\n",
              "1  Kuldeep Yadav  kuldeepy@email.com    Lucknow"
            ]
          },
          "metadata": {
            "tags": []
          },
          "execution_count": 37
        }
      ]
    },
    {
      "cell_type": "code",
      "metadata": {
        "id": "b_lQFyllJZxE",
        "colab": {
          "base_uri": "https://localhost:8080/",
          "height": 106
        },
        "outputId": "c300b89b-381d-430b-babd-13e0a39664ac"
      },
      "source": [
        "location = {\n",
        "    \"place\" : [\"Hyderabad\", \"Lucknow\"],\n",
        "    \"state\" : [\"Telangana\", \"Uttar Pradesh\"]\n",
        "}\n",
        "\n",
        "df2 = pd.DataFrame(location)\n",
        "df2"
      ],
      "execution_count": null,
      "outputs": [
        {
          "output_type": "execute_result",
          "data": {
            "text/html": [
              "<div>\n",
              "<style scoped>\n",
              "    .dataframe tbody tr th:only-of-type {\n",
              "        vertical-align: middle;\n",
              "    }\n",
              "\n",
              "    .dataframe tbody tr th {\n",
              "        vertical-align: top;\n",
              "    }\n",
              "\n",
              "    .dataframe thead th {\n",
              "        text-align: right;\n",
              "    }\n",
              "</style>\n",
              "<table border=\"1\" class=\"dataframe\">\n",
              "  <thead>\n",
              "    <tr style=\"text-align: right;\">\n",
              "      <th></th>\n",
              "      <th>place</th>\n",
              "      <th>state</th>\n",
              "    </tr>\n",
              "  </thead>\n",
              "  <tbody>\n",
              "    <tr>\n",
              "      <th>0</th>\n",
              "      <td>Hyderabad</td>\n",
              "      <td>Telangana</td>\n",
              "    </tr>\n",
              "    <tr>\n",
              "      <th>1</th>\n",
              "      <td>Lucknow</td>\n",
              "      <td>Uttar Pradesh</td>\n",
              "    </tr>\n",
              "  </tbody>\n",
              "</table>\n",
              "</div>"
            ],
            "text/plain": [
              "       place          state\n",
              "0  Hyderabad      Telangana\n",
              "1    Lucknow  Uttar Pradesh"
            ]
          },
          "metadata": {
            "tags": []
          },
          "execution_count": 38
        }
      ]
    },
    {
      "cell_type": "code",
      "metadata": {
        "id": "A7eXBHsZJflS",
        "colab": {
          "base_uri": "https://localhost:8080/",
          "height": 106
        },
        "outputId": "29aea52f-d891-40f8-c864-aeaf8363caa1"
      },
      "source": [
        "df1.merge(df2, on=\"place\")"
      ],
      "execution_count": null,
      "outputs": [
        {
          "output_type": "execute_result",
          "data": {
            "text/html": [
              "<div>\n",
              "<style scoped>\n",
              "    .dataframe tbody tr th:only-of-type {\n",
              "        vertical-align: middle;\n",
              "    }\n",
              "\n",
              "    .dataframe tbody tr th {\n",
              "        vertical-align: top;\n",
              "    }\n",
              "\n",
              "    .dataframe thead th {\n",
              "        text-align: right;\n",
              "    }\n",
              "</style>\n",
              "<table border=\"1\" class=\"dataframe\">\n",
              "  <thead>\n",
              "    <tr style=\"text-align: right;\">\n",
              "      <th></th>\n",
              "      <th>full_name</th>\n",
              "      <th>email</th>\n",
              "      <th>place</th>\n",
              "      <th>state</th>\n",
              "    </tr>\n",
              "  </thead>\n",
              "  <tbody>\n",
              "    <tr>\n",
              "      <th>0</th>\n",
              "      <td>Rama Rao</td>\n",
              "      <td>ramarao@gmail.com</td>\n",
              "      <td>Hyderabad</td>\n",
              "      <td>Telangana</td>\n",
              "    </tr>\n",
              "    <tr>\n",
              "      <th>1</th>\n",
              "      <td>Kuldeep Yadav</td>\n",
              "      <td>kuldeepy@email.com</td>\n",
              "      <td>Lucknow</td>\n",
              "      <td>Uttar Pradesh</td>\n",
              "    </tr>\n",
              "  </tbody>\n",
              "</table>\n",
              "</div>"
            ],
            "text/plain": [
              "       full_name               email      place          state\n",
              "0       Rama Rao   ramarao@gmail.com  Hyderabad      Telangana\n",
              "1  Kuldeep Yadav  kuldeepy@email.com    Lucknow  Uttar Pradesh"
            ]
          },
          "metadata": {
            "tags": []
          },
          "execution_count": 39
        }
      ]
    },
    {
      "cell_type": "code",
      "metadata": {
        "id": "MmbVj8ZNKJZ-"
      },
      "source": [
        "pd.DataFrame.merge?"
      ],
      "execution_count": null,
      "outputs": []
    },
    {
      "cell_type": "markdown",
      "metadata": {
        "id": "cuZ1prhia9Gb"
      },
      "source": [
        "#Sorting\n"
      ]
    },
    {
      "cell_type": "markdown",
      "metadata": {
        "id": "X2A4d8_w15Y2"
      },
      "source": [
        "### pd.DataFrame.sort_values\n",
        "\n",
        "* `pd.DataFrame.sort_values(by, axis=0, ascending=True, inplace=False,  ignore_index=False)`\n",
        "  * Sort by the values along either axis.\n",
        "  * `by` is the name or list of names to sort by.\n",
        "  * `axis`is the axis to be sorted\n",
        "  * If `ignore_index` is True, then the resulting axis will be labeled 0, 1, …, n - 1."
      ]
    },
    {
      "cell_type": "code",
      "metadata": {
        "id": "_z2RMGw9KXcq",
        "colab": {
          "base_uri": "https://localhost:8080/",
          "height": 667
        },
        "outputId": "76bb4a87-be8b-4e26-894a-7cdf9146d1f5"
      },
      "source": [
        "films_df"
      ],
      "execution_count": null,
      "outputs": [
        {
          "output_type": "execute_result",
          "data": {
            "text/html": [
              "<div>\n",
              "<style scoped>\n",
              "    .dataframe tbody tr th:only-of-type {\n",
              "        vertical-align: middle;\n",
              "    }\n",
              "\n",
              "    .dataframe tbody tr th {\n",
              "        vertical-align: top;\n",
              "    }\n",
              "\n",
              "    .dataframe thead th {\n",
              "        text-align: right;\n",
              "    }\n",
              "</style>\n",
              "<table border=\"1\" class=\"dataframe\">\n",
              "  <thead>\n",
              "    <tr style=\"text-align: right;\">\n",
              "      <th></th>\n",
              "      <th>Year</th>\n",
              "      <th>Length</th>\n",
              "      <th>Title</th>\n",
              "      <th>Subject</th>\n",
              "      <th>Actor</th>\n",
              "      <th>Actress</th>\n",
              "      <th>Director</th>\n",
              "      <th>Popularity</th>\n",
              "      <th>Awards</th>\n",
              "    </tr>\n",
              "  </thead>\n",
              "  <tbody>\n",
              "    <tr>\n",
              "      <th>0</th>\n",
              "      <td>1990</td>\n",
              "      <td>111</td>\n",
              "      <td>Tie Me Up! Tie Me Down!</td>\n",
              "      <td>Comedy</td>\n",
              "      <td>Banderas, Antonio</td>\n",
              "      <td>Abril, Victoria</td>\n",
              "      <td>Almodóvar, Pedro</td>\n",
              "      <td>68</td>\n",
              "      <td>No</td>\n",
              "    </tr>\n",
              "    <tr>\n",
              "      <th>1</th>\n",
              "      <td>1991</td>\n",
              "      <td>113</td>\n",
              "      <td>High Heels</td>\n",
              "      <td>Comedy</td>\n",
              "      <td>Bosé, Miguel</td>\n",
              "      <td>Abril, Victoria</td>\n",
              "      <td>Almodóvar, Pedro</td>\n",
              "      <td>68</td>\n",
              "      <td>No</td>\n",
              "    </tr>\n",
              "    <tr>\n",
              "      <th>2</th>\n",
              "      <td>1983</td>\n",
              "      <td>104</td>\n",
              "      <td>Dead Zone, The</td>\n",
              "      <td>Horror</td>\n",
              "      <td>Walken, Christopher</td>\n",
              "      <td>Adams, Brooke</td>\n",
              "      <td>Cronenberg, David</td>\n",
              "      <td>79</td>\n",
              "      <td>No</td>\n",
              "    </tr>\n",
              "    <tr>\n",
              "      <th>3</th>\n",
              "      <td>1979</td>\n",
              "      <td>122</td>\n",
              "      <td>Cuba</td>\n",
              "      <td>Action</td>\n",
              "      <td>Connery, Sean</td>\n",
              "      <td>Adams, Brooke</td>\n",
              "      <td>Lester, Richard</td>\n",
              "      <td>6</td>\n",
              "      <td>No</td>\n",
              "    </tr>\n",
              "    <tr>\n",
              "      <th>4</th>\n",
              "      <td>1978</td>\n",
              "      <td>94</td>\n",
              "      <td>Days of Heaven</td>\n",
              "      <td>Drama</td>\n",
              "      <td>Gere, Richard</td>\n",
              "      <td>Adams, Brooke</td>\n",
              "      <td>Malick, Terrence</td>\n",
              "      <td>14</td>\n",
              "      <td>No</td>\n",
              "    </tr>\n",
              "    <tr>\n",
              "      <th>...</th>\n",
              "      <td>...</td>\n",
              "      <td>...</td>\n",
              "      <td>...</td>\n",
              "      <td>...</td>\n",
              "      <td>...</td>\n",
              "      <td>...</td>\n",
              "      <td>...</td>\n",
              "      <td>...</td>\n",
              "      <td>...</td>\n",
              "    </tr>\n",
              "    <tr>\n",
              "      <th>1123</th>\n",
              "      <td>1975</td>\n",
              "      <td>93</td>\n",
              "      <td>That Lucky Touch</td>\n",
              "      <td>Action</td>\n",
              "      <td>Moore, Roger</td>\n",
              "      <td>York, Susannah</td>\n",
              "      <td>Miles, Christopher</td>\n",
              "      <td>85</td>\n",
              "      <td>No</td>\n",
              "    </tr>\n",
              "    <tr>\n",
              "      <th>1124</th>\n",
              "      <td>1949</td>\n",
              "      <td>90</td>\n",
              "      <td>Lust for Gold</td>\n",
              "      <td>Drama</td>\n",
              "      <td>Ford, Glenn</td>\n",
              "      <td>Young, Gig</td>\n",
              "      <td>Simon, S. Sylvan</td>\n",
              "      <td>57</td>\n",
              "      <td>No</td>\n",
              "    </tr>\n",
              "    <tr>\n",
              "      <th>1125</th>\n",
              "      <td>1987</td>\n",
              "      <td>103</td>\n",
              "      <td>Heat</td>\n",
              "      <td>Mystery</td>\n",
              "      <td>Reynolds, Burt</td>\n",
              "      <td>Young, Karen</td>\n",
              "      <td>Jameson, Jerry</td>\n",
              "      <td>69</td>\n",
              "      <td>No</td>\n",
              "    </tr>\n",
              "    <tr>\n",
              "      <th>1126</th>\n",
              "      <td>1947</td>\n",
              "      <td>87</td>\n",
              "      <td>Night Is My Future</td>\n",
              "      <td>Drama</td>\n",
              "      <td>Malmsten, Birger</td>\n",
              "      <td>Zetterling, Mai</td>\n",
              "      <td>Bergman, Ingmar</td>\n",
              "      <td>17</td>\n",
              "      <td>No</td>\n",
              "    </tr>\n",
              "    <tr>\n",
              "      <th>1127</th>\n",
              "      <td>1990</td>\n",
              "      <td>92</td>\n",
              "      <td>Witches, The</td>\n",
              "      <td>Science Fiction</td>\n",
              "      <td>Fisher, Jasen</td>\n",
              "      <td>Zetterling, Mai</td>\n",
              "      <td>Roeg, Nicolas</td>\n",
              "      <td>18</td>\n",
              "      <td>No</td>\n",
              "    </tr>\n",
              "  </tbody>\n",
              "</table>\n",
              "<p>1128 rows × 9 columns</p>\n",
              "</div>"
            ],
            "text/plain": [
              "      Year  Length  ... Popularity Awards\n",
              "0     1990     111  ...         68     No\n",
              "1     1991     113  ...         68     No\n",
              "2     1983     104  ...         79     No\n",
              "3     1979     122  ...          6     No\n",
              "4     1978      94  ...         14     No\n",
              "...    ...     ...  ...        ...    ...\n",
              "1123  1975      93  ...         85     No\n",
              "1124  1949      90  ...         57     No\n",
              "1125  1987     103  ...         69     No\n",
              "1126  1947      87  ...         17     No\n",
              "1127  1990      92  ...         18     No\n",
              "\n",
              "[1128 rows x 9 columns]"
            ]
          },
          "metadata": {
            "tags": []
          },
          "execution_count": 41
        }
      ]
    },
    {
      "cell_type": "code",
      "metadata": {
        "id": "hNHaGjhgArKw",
        "colab": {
          "base_uri": "https://localhost:8080/",
          "height": 634
        },
        "outputId": "40084396-df64-41ae-ee4e-eae79eefff08"
      },
      "source": [
        "films_df.sort_values(by='Year')"
      ],
      "execution_count": null,
      "outputs": [
        {
          "output_type": "execute_result",
          "data": {
            "text/html": [
              "<div>\n",
              "<style scoped>\n",
              "    .dataframe tbody tr th:only-of-type {\n",
              "        vertical-align: middle;\n",
              "    }\n",
              "\n",
              "    .dataframe tbody tr th {\n",
              "        vertical-align: top;\n",
              "    }\n",
              "\n",
              "    .dataframe thead th {\n",
              "        text-align: right;\n",
              "    }\n",
              "</style>\n",
              "<table border=\"1\" class=\"dataframe\">\n",
              "  <thead>\n",
              "    <tr style=\"text-align: right;\">\n",
              "      <th></th>\n",
              "      <th>Year</th>\n",
              "      <th>Length</th>\n",
              "      <th>Title</th>\n",
              "      <th>Subject</th>\n",
              "      <th>Actor</th>\n",
              "      <th>Actress</th>\n",
              "      <th>Director</th>\n",
              "      <th>Popularity</th>\n",
              "      <th>Awards</th>\n",
              "    </tr>\n",
              "  </thead>\n",
              "  <tbody>\n",
              "    <tr>\n",
              "      <th>922</th>\n",
              "      <td>1924</td>\n",
              "      <td>95</td>\n",
              "      <td>Kriemhild's Revenge, The Nibelungenlied</td>\n",
              "      <td>Drama</td>\n",
              "      <td>Loos, Theodor</td>\n",
              "      <td>Schön, Margarete</td>\n",
              "      <td>Lang, Fritz</td>\n",
              "      <td>74</td>\n",
              "      <td>No</td>\n",
              "    </tr>\n",
              "    <tr>\n",
              "      <th>54</th>\n",
              "      <td>1924</td>\n",
              "      <td>110</td>\n",
              "      <td>Siegfried, The Nibelungenlied</td>\n",
              "      <td>Drama</td>\n",
              "      <td>Richter, Paul</td>\n",
              "      <td>Arnold, Gertrud</td>\n",
              "      <td>Lang, Fritz</td>\n",
              "      <td>79</td>\n",
              "      <td>No</td>\n",
              "    </tr>\n",
              "    <tr>\n",
              "      <th>405</th>\n",
              "      <td>1925</td>\n",
              "      <td>125</td>\n",
              "      <td>Joyless Street</td>\n",
              "      <td>Drama</td>\n",
              "      <td>Stuart, Henry</td>\n",
              "      <td>Garbo, Greta</td>\n",
              "      <td>Pabst, Georg Wilhelm</td>\n",
              "      <td>73</td>\n",
              "      <td>No</td>\n",
              "    </tr>\n",
              "    <tr>\n",
              "      <th>65</th>\n",
              "      <td>1926</td>\n",
              "      <td>66</td>\n",
              "      <td>Lodger (Story of the London Fog)</td>\n",
              "      <td>Mystery</td>\n",
              "      <td>Chesney, Arthur</td>\n",
              "      <td>Ault, Marie</td>\n",
              "      <td>Hitchcock, Alfred</td>\n",
              "      <td>76</td>\n",
              "      <td>No</td>\n",
              "    </tr>\n",
              "    <tr>\n",
              "      <th>62</th>\n",
              "      <td>1926</td>\n",
              "      <td>126</td>\n",
              "      <td>Don Juan</td>\n",
              "      <td>Action</td>\n",
              "      <td>Barrymore, John</td>\n",
              "      <td>Astor, Mary</td>\n",
              "      <td>Crosland, Alan</td>\n",
              "      <td>55</td>\n",
              "      <td>No</td>\n",
              "    </tr>\n",
              "    <tr>\n",
              "      <th>...</th>\n",
              "      <td>...</td>\n",
              "      <td>...</td>\n",
              "      <td>...</td>\n",
              "      <td>...</td>\n",
              "      <td>...</td>\n",
              "      <td>...</td>\n",
              "      <td>...</td>\n",
              "      <td>...</td>\n",
              "      <td>...</td>\n",
              "    </tr>\n",
              "    <tr>\n",
              "      <th>348</th>\n",
              "      <td>1992</td>\n",
              "      <td>108</td>\n",
              "      <td>Husbands &amp; Wives</td>\n",
              "      <td>Comedy</td>\n",
              "      <td>Allen, Woody</td>\n",
              "      <td>Farrow, Mia</td>\n",
              "      <td>Allen, Woody</td>\n",
              "      <td>80</td>\n",
              "      <td>No</td>\n",
              "    </tr>\n",
              "    <tr>\n",
              "      <th>382</th>\n",
              "      <td>1992</td>\n",
              "      <td>85</td>\n",
              "      <td>Naked Obsession</td>\n",
              "      <td>Mystery</td>\n",
              "      <td>Katt, William</td>\n",
              "      <td>Ford, Maria</td>\n",
              "      <td>Golden, Dan</td>\n",
              "      <td>26</td>\n",
              "      <td>No</td>\n",
              "    </tr>\n",
              "    <tr>\n",
              "      <th>800</th>\n",
              "      <td>1993</td>\n",
              "      <td>95</td>\n",
              "      <td>Honeymoon in Vegas</td>\n",
              "      <td>Comedy</td>\n",
              "      <td>Caan, James</td>\n",
              "      <td>Parker, Sarah Jessica</td>\n",
              "      <td>Bergman, Andrew</td>\n",
              "      <td>53</td>\n",
              "      <td>No</td>\n",
              "    </tr>\n",
              "    <tr>\n",
              "      <th>72</th>\n",
              "      <td>1996</td>\n",
              "      <td>96</td>\n",
              "      <td>Island of Dr. Moreau, The</td>\n",
              "      <td>Horror</td>\n",
              "      <td>Thewlis, David</td>\n",
              "      <td>Balk, Fairuza</td>\n",
              "      <td>Frankenheimer, John</td>\n",
              "      <td>39</td>\n",
              "      <td>No</td>\n",
              "    </tr>\n",
              "    <tr>\n",
              "      <th>1062</th>\n",
              "      <td>1997</td>\n",
              "      <td>109</td>\n",
              "      <td>Alien: resurrection</td>\n",
              "      <td>Science Fiction</td>\n",
              "      <td>Perlman, Ron</td>\n",
              "      <td>Weaver, Sigourney</td>\n",
              "      <td>Jeunet, Jean-Pierre</td>\n",
              "      <td>60</td>\n",
              "      <td>No</td>\n",
              "    </tr>\n",
              "  </tbody>\n",
              "</table>\n",
              "<p>1128 rows × 9 columns</p>\n",
              "</div>"
            ],
            "text/plain": [
              "      Year  Length  ... Popularity Awards\n",
              "922   1924      95  ...         74     No\n",
              "54    1924     110  ...         79     No\n",
              "405   1925     125  ...         73     No\n",
              "65    1926      66  ...         76     No\n",
              "62    1926     126  ...         55     No\n",
              "...    ...     ...  ...        ...    ...\n",
              "348   1992     108  ...         80     No\n",
              "382   1992      85  ...         26     No\n",
              "800   1993      95  ...         53     No\n",
              "72    1996      96  ...         39     No\n",
              "1062  1997     109  ...         60     No\n",
              "\n",
              "[1128 rows x 9 columns]"
            ]
          },
          "metadata": {
            "tags": []
          },
          "execution_count": 42
        }
      ]
    },
    {
      "cell_type": "code",
      "metadata": {
        "id": "j3Hqcn35Az3M",
        "colab": {
          "base_uri": "https://localhost:8080/",
          "height": 601
        },
        "outputId": "40d31522-867c-446f-f897-a8c1fcc1fa69"
      },
      "source": [
        "films_df.sort_values(by='Popularity', ascending=False)"
      ],
      "execution_count": null,
      "outputs": [
        {
          "output_type": "execute_result",
          "data": {
            "text/html": [
              "<div>\n",
              "<style scoped>\n",
              "    .dataframe tbody tr th:only-of-type {\n",
              "        vertical-align: middle;\n",
              "    }\n",
              "\n",
              "    .dataframe tbody tr th {\n",
              "        vertical-align: top;\n",
              "    }\n",
              "\n",
              "    .dataframe thead th {\n",
              "        text-align: right;\n",
              "    }\n",
              "</style>\n",
              "<table border=\"1\" class=\"dataframe\">\n",
              "  <thead>\n",
              "    <tr style=\"text-align: right;\">\n",
              "      <th></th>\n",
              "      <th>Year</th>\n",
              "      <th>Length</th>\n",
              "      <th>Title</th>\n",
              "      <th>Subject</th>\n",
              "      <th>Actor</th>\n",
              "      <th>Actress</th>\n",
              "      <th>Director</th>\n",
              "      <th>Popularity</th>\n",
              "      <th>Awards</th>\n",
              "    </tr>\n",
              "  </thead>\n",
              "  <tbody>\n",
              "    <tr>\n",
              "      <th>830</th>\n",
              "      <td>1990</td>\n",
              "      <td>95</td>\n",
              "      <td>Dangerous Pursuit</td>\n",
              "      <td>Mystery</td>\n",
              "      <td>Harrison, Gregory</td>\n",
              "      <td>Powers, Alexandra</td>\n",
              "      <td>Stern, Sandor</td>\n",
              "      <td>88</td>\n",
              "      <td>No</td>\n",
              "    </tr>\n",
              "    <tr>\n",
              "      <th>1106</th>\n",
              "      <td>1991</td>\n",
              "      <td>160</td>\n",
              "      <td>Great Race, The</td>\n",
              "      <td>Comedy</td>\n",
              "      <td>Moore, Dudley</td>\n",
              "      <td>Wood, Natalie</td>\n",
              "      <td>Edwards, Blake</td>\n",
              "      <td>88</td>\n",
              "      <td>No</td>\n",
              "    </tr>\n",
              "    <tr>\n",
              "      <th>409</th>\n",
              "      <td>1989</td>\n",
              "      <td>86</td>\n",
              "      <td>Let It Ride</td>\n",
              "      <td>Comedy</td>\n",
              "      <td>Dreyfuss, Richard</td>\n",
              "      <td>Garr, Teri</td>\n",
              "      <td>Pytka, Joe</td>\n",
              "      <td>88</td>\n",
              "      <td>No</td>\n",
              "    </tr>\n",
              "    <tr>\n",
              "      <th>976</th>\n",
              "      <td>1985</td>\n",
              "      <td>161</td>\n",
              "      <td>Out of Africa</td>\n",
              "      <td>Drama</td>\n",
              "      <td>Redford, Robert</td>\n",
              "      <td>Streep, Meryl</td>\n",
              "      <td>Pollack, Sydney</td>\n",
              "      <td>88</td>\n",
              "      <td>Yes</td>\n",
              "    </tr>\n",
              "    <tr>\n",
              "      <th>536</th>\n",
              "      <td>1989</td>\n",
              "      <td>90</td>\n",
              "      <td>New Year's Day</td>\n",
              "      <td>Comedy</td>\n",
              "      <td>Jaglom, Henry</td>\n",
              "      <td>Jakobsen, Maggie</td>\n",
              "      <td>Jaglom, Henry</td>\n",
              "      <td>88</td>\n",
              "      <td>No</td>\n",
              "    </tr>\n",
              "    <tr>\n",
              "      <th>...</th>\n",
              "      <td>...</td>\n",
              "      <td>...</td>\n",
              "      <td>...</td>\n",
              "      <td>...</td>\n",
              "      <td>...</td>\n",
              "      <td>...</td>\n",
              "      <td>...</td>\n",
              "      <td>...</td>\n",
              "      <td>...</td>\n",
              "    </tr>\n",
              "    <tr>\n",
              "      <th>825</th>\n",
              "      <td>1990</td>\n",
              "      <td>89</td>\n",
              "      <td>A Chorus of Disapproval</td>\n",
              "      <td>Comedy</td>\n",
              "      <td>Irons, Jeremy</td>\n",
              "      <td>Pigg, Alexandra</td>\n",
              "      <td>Winner, Michael</td>\n",
              "      <td>0</td>\n",
              "      <td>No</td>\n",
              "    </tr>\n",
              "    <tr>\n",
              "      <th>84</th>\n",
              "      <td>1968</td>\n",
              "      <td>113</td>\n",
              "      <td>Shalako</td>\n",
              "      <td>Westerns</td>\n",
              "      <td>Connery, Sean</td>\n",
              "      <td>Bardot, Brigitte</td>\n",
              "      <td>Dmytryk, Edward</td>\n",
              "      <td>0</td>\n",
              "      <td>No</td>\n",
              "    </tr>\n",
              "    <tr>\n",
              "      <th>479</th>\n",
              "      <td>1987</td>\n",
              "      <td>85</td>\n",
              "      <td>Hot Child in the City</td>\n",
              "      <td>Mystery</td>\n",
              "      <td>Prysirr, Geof</td>\n",
              "      <td>Hendrix, Leah Ayres</td>\n",
              "      <td>Florea, John</td>\n",
              "      <td>0</td>\n",
              "      <td>No</td>\n",
              "    </tr>\n",
              "    <tr>\n",
              "      <th>785</th>\n",
              "      <td>1983</td>\n",
              "      <td>72</td>\n",
              "      <td>After the Rehearsal</td>\n",
              "      <td>Drama</td>\n",
              "      <td>Josephson, Erland</td>\n",
              "      <td>Olin, Lena</td>\n",
              "      <td>Bergman, Ingmar</td>\n",
              "      <td>0</td>\n",
              "      <td>No</td>\n",
              "    </tr>\n",
              "    <tr>\n",
              "      <th>160</th>\n",
              "      <td>1970</td>\n",
              "      <td>137</td>\n",
              "      <td>Airport</td>\n",
              "      <td>Drama</td>\n",
              "      <td>Lancaster, Burt</td>\n",
              "      <td>Bisset, Jacqueline</td>\n",
              "      <td>Seaton, George</td>\n",
              "      <td>0</td>\n",
              "      <td>Yes</td>\n",
              "    </tr>\n",
              "  </tbody>\n",
              "</table>\n",
              "<p>1128 rows × 9 columns</p>\n",
              "</div>"
            ],
            "text/plain": [
              "      Year  Length                    Title  ...         Director Popularity Awards\n",
              "830   1990      95        Dangerous Pursuit  ...    Stern, Sandor         88     No\n",
              "1106  1991     160          Great Race, The  ...   Edwards, Blake         88     No\n",
              "409   1989      86              Let It Ride  ...       Pytka, Joe         88     No\n",
              "976   1985     161            Out of Africa  ...  Pollack, Sydney         88    Yes\n",
              "536   1989      90           New Year's Day  ...    Jaglom, Henry         88     No\n",
              "...    ...     ...                      ...  ...              ...        ...    ...\n",
              "825   1990      89  A Chorus of Disapproval  ...  Winner, Michael          0     No\n",
              "84    1968     113                  Shalako  ...  Dmytryk, Edward          0     No\n",
              "479   1987      85    Hot Child in the City  ...     Florea, John          0     No\n",
              "785   1983      72      After the Rehearsal  ...  Bergman, Ingmar          0     No\n",
              "160   1970     137                  Airport  ...   Seaton, George          0    Yes\n",
              "\n",
              "[1128 rows x 9 columns]"
            ]
          },
          "metadata": {
            "tags": []
          },
          "execution_count": 43
        }
      ]
    },
    {
      "cell_type": "code",
      "metadata": {
        "id": "JUFdqWp_K7zj"
      },
      "source": [
        "pd.DataFrame.sort_values?"
      ],
      "execution_count": null,
      "outputs": []
    },
    {
      "cell_type": "code",
      "metadata": {
        "id": "dm-pobi0A-Na",
        "colab": {
          "base_uri": "https://localhost:8080/",
          "height": 601
        },
        "outputId": "078fc138-8833-4528-c9c8-59e6c1d5a2c0"
      },
      "source": [
        "films_df.sort_values(by='Popularity', ascending=False, ignore_index=True)"
      ],
      "execution_count": null,
      "outputs": [
        {
          "output_type": "execute_result",
          "data": {
            "text/html": [
              "<div>\n",
              "<style scoped>\n",
              "    .dataframe tbody tr th:only-of-type {\n",
              "        vertical-align: middle;\n",
              "    }\n",
              "\n",
              "    .dataframe tbody tr th {\n",
              "        vertical-align: top;\n",
              "    }\n",
              "\n",
              "    .dataframe thead th {\n",
              "        text-align: right;\n",
              "    }\n",
              "</style>\n",
              "<table border=\"1\" class=\"dataframe\">\n",
              "  <thead>\n",
              "    <tr style=\"text-align: right;\">\n",
              "      <th></th>\n",
              "      <th>Year</th>\n",
              "      <th>Length</th>\n",
              "      <th>Title</th>\n",
              "      <th>Subject</th>\n",
              "      <th>Actor</th>\n",
              "      <th>Actress</th>\n",
              "      <th>Director</th>\n",
              "      <th>Popularity</th>\n",
              "      <th>Awards</th>\n",
              "    </tr>\n",
              "  </thead>\n",
              "  <tbody>\n",
              "    <tr>\n",
              "      <th>0</th>\n",
              "      <td>1990</td>\n",
              "      <td>95</td>\n",
              "      <td>Dangerous Pursuit</td>\n",
              "      <td>Mystery</td>\n",
              "      <td>Harrison, Gregory</td>\n",
              "      <td>Powers, Alexandra</td>\n",
              "      <td>Stern, Sandor</td>\n",
              "      <td>88</td>\n",
              "      <td>No</td>\n",
              "    </tr>\n",
              "    <tr>\n",
              "      <th>1</th>\n",
              "      <td>1991</td>\n",
              "      <td>160</td>\n",
              "      <td>Great Race, The</td>\n",
              "      <td>Comedy</td>\n",
              "      <td>Moore, Dudley</td>\n",
              "      <td>Wood, Natalie</td>\n",
              "      <td>Edwards, Blake</td>\n",
              "      <td>88</td>\n",
              "      <td>No</td>\n",
              "    </tr>\n",
              "    <tr>\n",
              "      <th>2</th>\n",
              "      <td>1989</td>\n",
              "      <td>86</td>\n",
              "      <td>Let It Ride</td>\n",
              "      <td>Comedy</td>\n",
              "      <td>Dreyfuss, Richard</td>\n",
              "      <td>Garr, Teri</td>\n",
              "      <td>Pytka, Joe</td>\n",
              "      <td>88</td>\n",
              "      <td>No</td>\n",
              "    </tr>\n",
              "    <tr>\n",
              "      <th>3</th>\n",
              "      <td>1985</td>\n",
              "      <td>161</td>\n",
              "      <td>Out of Africa</td>\n",
              "      <td>Drama</td>\n",
              "      <td>Redford, Robert</td>\n",
              "      <td>Streep, Meryl</td>\n",
              "      <td>Pollack, Sydney</td>\n",
              "      <td>88</td>\n",
              "      <td>Yes</td>\n",
              "    </tr>\n",
              "    <tr>\n",
              "      <th>4</th>\n",
              "      <td>1989</td>\n",
              "      <td>90</td>\n",
              "      <td>New Year's Day</td>\n",
              "      <td>Comedy</td>\n",
              "      <td>Jaglom, Henry</td>\n",
              "      <td>Jakobsen, Maggie</td>\n",
              "      <td>Jaglom, Henry</td>\n",
              "      <td>88</td>\n",
              "      <td>No</td>\n",
              "    </tr>\n",
              "    <tr>\n",
              "      <th>...</th>\n",
              "      <td>...</td>\n",
              "      <td>...</td>\n",
              "      <td>...</td>\n",
              "      <td>...</td>\n",
              "      <td>...</td>\n",
              "      <td>...</td>\n",
              "      <td>...</td>\n",
              "      <td>...</td>\n",
              "      <td>...</td>\n",
              "    </tr>\n",
              "    <tr>\n",
              "      <th>1123</th>\n",
              "      <td>1990</td>\n",
              "      <td>89</td>\n",
              "      <td>A Chorus of Disapproval</td>\n",
              "      <td>Comedy</td>\n",
              "      <td>Irons, Jeremy</td>\n",
              "      <td>Pigg, Alexandra</td>\n",
              "      <td>Winner, Michael</td>\n",
              "      <td>0</td>\n",
              "      <td>No</td>\n",
              "    </tr>\n",
              "    <tr>\n",
              "      <th>1124</th>\n",
              "      <td>1968</td>\n",
              "      <td>113</td>\n",
              "      <td>Shalako</td>\n",
              "      <td>Westerns</td>\n",
              "      <td>Connery, Sean</td>\n",
              "      <td>Bardot, Brigitte</td>\n",
              "      <td>Dmytryk, Edward</td>\n",
              "      <td>0</td>\n",
              "      <td>No</td>\n",
              "    </tr>\n",
              "    <tr>\n",
              "      <th>1125</th>\n",
              "      <td>1987</td>\n",
              "      <td>85</td>\n",
              "      <td>Hot Child in the City</td>\n",
              "      <td>Mystery</td>\n",
              "      <td>Prysirr, Geof</td>\n",
              "      <td>Hendrix, Leah Ayres</td>\n",
              "      <td>Florea, John</td>\n",
              "      <td>0</td>\n",
              "      <td>No</td>\n",
              "    </tr>\n",
              "    <tr>\n",
              "      <th>1126</th>\n",
              "      <td>1983</td>\n",
              "      <td>72</td>\n",
              "      <td>After the Rehearsal</td>\n",
              "      <td>Drama</td>\n",
              "      <td>Josephson, Erland</td>\n",
              "      <td>Olin, Lena</td>\n",
              "      <td>Bergman, Ingmar</td>\n",
              "      <td>0</td>\n",
              "      <td>No</td>\n",
              "    </tr>\n",
              "    <tr>\n",
              "      <th>1127</th>\n",
              "      <td>1970</td>\n",
              "      <td>137</td>\n",
              "      <td>Airport</td>\n",
              "      <td>Drama</td>\n",
              "      <td>Lancaster, Burt</td>\n",
              "      <td>Bisset, Jacqueline</td>\n",
              "      <td>Seaton, George</td>\n",
              "      <td>0</td>\n",
              "      <td>Yes</td>\n",
              "    </tr>\n",
              "  </tbody>\n",
              "</table>\n",
              "<p>1128 rows × 9 columns</p>\n",
              "</div>"
            ],
            "text/plain": [
              "      Year  Length                    Title  ...         Director Popularity Awards\n",
              "0     1990      95        Dangerous Pursuit  ...    Stern, Sandor         88     No\n",
              "1     1991     160          Great Race, The  ...   Edwards, Blake         88     No\n",
              "2     1989      86              Let It Ride  ...       Pytka, Joe         88     No\n",
              "3     1985     161            Out of Africa  ...  Pollack, Sydney         88    Yes\n",
              "4     1989      90           New Year's Day  ...    Jaglom, Henry         88     No\n",
              "...    ...     ...                      ...  ...              ...        ...    ...\n",
              "1123  1990      89  A Chorus of Disapproval  ...  Winner, Michael          0     No\n",
              "1124  1968     113                  Shalako  ...  Dmytryk, Edward          0     No\n",
              "1125  1987      85    Hot Child in the City  ...     Florea, John          0     No\n",
              "1126  1983      72      After the Rehearsal  ...  Bergman, Ingmar          0     No\n",
              "1127  1970     137                  Airport  ...   Seaton, George          0    Yes\n",
              "\n",
              "[1128 rows x 9 columns]"
            ]
          },
          "metadata": {
            "tags": []
          },
          "execution_count": 45
        }
      ]
    },
    {
      "cell_type": "code",
      "metadata": {
        "id": "JT42oUX0BGEN",
        "colab": {
          "base_uri": "https://localhost:8080/",
          "height": 634
        },
        "outputId": "2958424d-6110-4d25-d8ae-a057ad8fc865"
      },
      "source": [
        "films_df.sort_values(by=['Year', 'Popularity'], ascending=[True, False])"
      ],
      "execution_count": null,
      "outputs": [
        {
          "output_type": "execute_result",
          "data": {
            "text/html": [
              "<div>\n",
              "<style scoped>\n",
              "    .dataframe tbody tr th:only-of-type {\n",
              "        vertical-align: middle;\n",
              "    }\n",
              "\n",
              "    .dataframe tbody tr th {\n",
              "        vertical-align: top;\n",
              "    }\n",
              "\n",
              "    .dataframe thead th {\n",
              "        text-align: right;\n",
              "    }\n",
              "</style>\n",
              "<table border=\"1\" class=\"dataframe\">\n",
              "  <thead>\n",
              "    <tr style=\"text-align: right;\">\n",
              "      <th></th>\n",
              "      <th>Year</th>\n",
              "      <th>Length</th>\n",
              "      <th>Title</th>\n",
              "      <th>Subject</th>\n",
              "      <th>Actor</th>\n",
              "      <th>Actress</th>\n",
              "      <th>Director</th>\n",
              "      <th>Popularity</th>\n",
              "      <th>Awards</th>\n",
              "    </tr>\n",
              "  </thead>\n",
              "  <tbody>\n",
              "    <tr>\n",
              "      <th>54</th>\n",
              "      <td>1924</td>\n",
              "      <td>110</td>\n",
              "      <td>Siegfried, The Nibelungenlied</td>\n",
              "      <td>Drama</td>\n",
              "      <td>Richter, Paul</td>\n",
              "      <td>Arnold, Gertrud</td>\n",
              "      <td>Lang, Fritz</td>\n",
              "      <td>79</td>\n",
              "      <td>No</td>\n",
              "    </tr>\n",
              "    <tr>\n",
              "      <th>922</th>\n",
              "      <td>1924</td>\n",
              "      <td>95</td>\n",
              "      <td>Kriemhild's Revenge, The Nibelungenlied</td>\n",
              "      <td>Drama</td>\n",
              "      <td>Loos, Theodor</td>\n",
              "      <td>Schön, Margarete</td>\n",
              "      <td>Lang, Fritz</td>\n",
              "      <td>74</td>\n",
              "      <td>No</td>\n",
              "    </tr>\n",
              "    <tr>\n",
              "      <th>405</th>\n",
              "      <td>1925</td>\n",
              "      <td>125</td>\n",
              "      <td>Joyless Street</td>\n",
              "      <td>Drama</td>\n",
              "      <td>Stuart, Henry</td>\n",
              "      <td>Garbo, Greta</td>\n",
              "      <td>Pabst, Georg Wilhelm</td>\n",
              "      <td>73</td>\n",
              "      <td>No</td>\n",
              "    </tr>\n",
              "    <tr>\n",
              "      <th>65</th>\n",
              "      <td>1926</td>\n",
              "      <td>66</td>\n",
              "      <td>Lodger (Story of the London Fog)</td>\n",
              "      <td>Mystery</td>\n",
              "      <td>Chesney, Arthur</td>\n",
              "      <td>Ault, Marie</td>\n",
              "      <td>Hitchcock, Alfred</td>\n",
              "      <td>76</td>\n",
              "      <td>No</td>\n",
              "    </tr>\n",
              "    <tr>\n",
              "      <th>394</th>\n",
              "      <td>1926</td>\n",
              "      <td>109</td>\n",
              "      <td>Flesh &amp; the Devil, The</td>\n",
              "      <td>Drama</td>\n",
              "      <td>Gilbert, John</td>\n",
              "      <td>Garbo, Greta</td>\n",
              "      <td>Brown, Clarence</td>\n",
              "      <td>72</td>\n",
              "      <td>No</td>\n",
              "    </tr>\n",
              "    <tr>\n",
              "      <th>...</th>\n",
              "      <td>...</td>\n",
              "      <td>...</td>\n",
              "      <td>...</td>\n",
              "      <td>...</td>\n",
              "      <td>...</td>\n",
              "      <td>...</td>\n",
              "      <td>...</td>\n",
              "      <td>...</td>\n",
              "      <td>...</td>\n",
              "    </tr>\n",
              "    <tr>\n",
              "      <th>873</th>\n",
              "      <td>1992</td>\n",
              "      <td>96</td>\n",
              "      <td>Shooting Elizabeth</td>\n",
              "      <td>Mystery</td>\n",
              "      <td>Goldblum, Jeff</td>\n",
              "      <td>Rogers, Mimi</td>\n",
              "      <td>Taylor, Baz</td>\n",
              "      <td>5</td>\n",
              "      <td>No</td>\n",
              "    </tr>\n",
              "    <tr>\n",
              "      <th>49</th>\n",
              "      <td>1992</td>\n",
              "      <td>95</td>\n",
              "      <td>Alan &amp; Naomi</td>\n",
              "      <td>Drama</td>\n",
              "      <td>Haas, Lukas</td>\n",
              "      <td>Aquino, Vanessa</td>\n",
              "      <td>Vanwagenen, Sterling</td>\n",
              "      <td>3</td>\n",
              "      <td>No</td>\n",
              "    </tr>\n",
              "    <tr>\n",
              "      <th>800</th>\n",
              "      <td>1993</td>\n",
              "      <td>95</td>\n",
              "      <td>Honeymoon in Vegas</td>\n",
              "      <td>Comedy</td>\n",
              "      <td>Caan, James</td>\n",
              "      <td>Parker, Sarah Jessica</td>\n",
              "      <td>Bergman, Andrew</td>\n",
              "      <td>53</td>\n",
              "      <td>No</td>\n",
              "    </tr>\n",
              "    <tr>\n",
              "      <th>72</th>\n",
              "      <td>1996</td>\n",
              "      <td>96</td>\n",
              "      <td>Island of Dr. Moreau, The</td>\n",
              "      <td>Horror</td>\n",
              "      <td>Thewlis, David</td>\n",
              "      <td>Balk, Fairuza</td>\n",
              "      <td>Frankenheimer, John</td>\n",
              "      <td>39</td>\n",
              "      <td>No</td>\n",
              "    </tr>\n",
              "    <tr>\n",
              "      <th>1062</th>\n",
              "      <td>1997</td>\n",
              "      <td>109</td>\n",
              "      <td>Alien: resurrection</td>\n",
              "      <td>Science Fiction</td>\n",
              "      <td>Perlman, Ron</td>\n",
              "      <td>Weaver, Sigourney</td>\n",
              "      <td>Jeunet, Jean-Pierre</td>\n",
              "      <td>60</td>\n",
              "      <td>No</td>\n",
              "    </tr>\n",
              "  </tbody>\n",
              "</table>\n",
              "<p>1128 rows × 9 columns</p>\n",
              "</div>"
            ],
            "text/plain": [
              "      Year  Length  ... Popularity Awards\n",
              "54    1924     110  ...         79     No\n",
              "922   1924      95  ...         74     No\n",
              "405   1925     125  ...         73     No\n",
              "65    1926      66  ...         76     No\n",
              "394   1926     109  ...         72     No\n",
              "...    ...     ...  ...        ...    ...\n",
              "873   1992      96  ...          5     No\n",
              "49    1992      95  ...          3     No\n",
              "800   1993      95  ...         53     No\n",
              "72    1996      96  ...         39     No\n",
              "1062  1997     109  ...         60     No\n",
              "\n",
              "[1128 rows x 9 columns]"
            ]
          },
          "metadata": {
            "tags": []
          },
          "execution_count": 46
        }
      ]
    },
    {
      "cell_type": "markdown",
      "metadata": {
        "id": "KYvv7iVfCK-P"
      },
      "source": [
        "We can use `sort_values` with Series' too."
      ]
    },
    {
      "cell_type": "code",
      "metadata": {
        "id": "m9SO1QzYBbdd",
        "colab": {
          "base_uri": "https://localhost:8080/"
        },
        "outputId": "b3d25b20-7e04-44d4-b646-4d28f623c33d"
      },
      "source": [
        "films_df['Length'].sort_values(ascending=False)"
      ],
      "execution_count": null,
      "outputs": [
        {
          "output_type": "execute_result",
          "data": {
            "text/plain": [
              "354    450\n",
              "917    360\n",
              "822    360\n",
              "212    313\n",
              "446    298\n",
              "      ... \n",
              "592     54\n",
              "427     51\n",
              "202     50\n",
              "198     40\n",
              "273     18\n",
              "Name: Length, Length: 1128, dtype: int64"
            ]
          },
          "metadata": {
            "tags": []
          },
          "execution_count": 47
        }
      ]
    },
    {
      "cell_type": "markdown",
      "metadata": {
        "id": "bXQCsr7UCtgK"
      },
      "source": [
        "### NLargest and NSmallest"
      ]
    },
    {
      "cell_type": "markdown",
      "metadata": {
        "id": "4s584tlOEIqQ"
      },
      "source": [
        "**nlargest** returns the first n rows ordered by columns in descending order."
      ]
    },
    {
      "cell_type": "code",
      "metadata": {
        "id": "e1y5FEgALzdS",
        "colab": {
          "base_uri": "https://localhost:8080/"
        },
        "outputId": "fd268276-0a28-4e1d-ed16-b5e5f538dcff"
      },
      "source": [
        "films_df['Length']"
      ],
      "execution_count": null,
      "outputs": [
        {
          "output_type": "execute_result",
          "data": {
            "text/plain": [
              "0       111\n",
              "1       113\n",
              "2       104\n",
              "3       122\n",
              "4        94\n",
              "       ... \n",
              "1123     93\n",
              "1124     90\n",
              "1125    103\n",
              "1126     87\n",
              "1127     92\n",
              "Name: Length, Length: 1128, dtype: int64"
            ]
          },
          "metadata": {
            "tags": []
          },
          "execution_count": 48
        }
      ]
    },
    {
      "cell_type": "code",
      "metadata": {
        "id": "tJ9jz1LYCxHD",
        "colab": {
          "base_uri": "https://localhost:8080/"
        },
        "outputId": "4fdd49c6-8faa-4d90-c07e-8bc75915d835"
      },
      "source": [
        "films_df['Length'].nlargest(10)"
      ],
      "execution_count": null,
      "outputs": [
        {
          "output_type": "execute_result",
          "data": {
            "text/plain": [
              "354     450\n",
              "822     360\n",
              "917     360\n",
              "212     313\n",
              "446     298\n",
              "47      286\n",
              "502     265\n",
              "998     243\n",
              "735     240\n",
              "1008    234\n",
              "Name: Length, dtype: int64"
            ]
          },
          "metadata": {
            "tags": []
          },
          "execution_count": 49
        }
      ]
    },
    {
      "cell_type": "code",
      "metadata": {
        "id": "fzYthAPzDRM7",
        "colab": {
          "base_uri": "https://localhost:8080/",
          "height": 772
        },
        "outputId": "c3ff01f5-4300-4eb6-fcc1-f4cb35424e22"
      },
      "source": [
        "films_df.nlargest(15, ['Popularity', 'Length'])"
      ],
      "execution_count": null,
      "outputs": [
        {
          "output_type": "execute_result",
          "data": {
            "text/html": [
              "<div>\n",
              "<style scoped>\n",
              "    .dataframe tbody tr th:only-of-type {\n",
              "        vertical-align: middle;\n",
              "    }\n",
              "\n",
              "    .dataframe tbody tr th {\n",
              "        vertical-align: top;\n",
              "    }\n",
              "\n",
              "    .dataframe thead th {\n",
              "        text-align: right;\n",
              "    }\n",
              "</style>\n",
              "<table border=\"1\" class=\"dataframe\">\n",
              "  <thead>\n",
              "    <tr style=\"text-align: right;\">\n",
              "      <th></th>\n",
              "      <th>Year</th>\n",
              "      <th>Length</th>\n",
              "      <th>Title</th>\n",
              "      <th>Subject</th>\n",
              "      <th>Actor</th>\n",
              "      <th>Actress</th>\n",
              "      <th>Director</th>\n",
              "      <th>Popularity</th>\n",
              "      <th>Awards</th>\n",
              "    </tr>\n",
              "  </thead>\n",
              "  <tbody>\n",
              "    <tr>\n",
              "      <th>976</th>\n",
              "      <td>1985</td>\n",
              "      <td>161</td>\n",
              "      <td>Out of Africa</td>\n",
              "      <td>Drama</td>\n",
              "      <td>Redford, Robert</td>\n",
              "      <td>Streep, Meryl</td>\n",
              "      <td>Pollack, Sydney</td>\n",
              "      <td>88</td>\n",
              "      <td>Yes</td>\n",
              "    </tr>\n",
              "    <tr>\n",
              "      <th>1106</th>\n",
              "      <td>1991</td>\n",
              "      <td>160</td>\n",
              "      <td>Great Race, The</td>\n",
              "      <td>Comedy</td>\n",
              "      <td>Moore, Dudley</td>\n",
              "      <td>Wood, Natalie</td>\n",
              "      <td>Edwards, Blake</td>\n",
              "      <td>88</td>\n",
              "      <td>No</td>\n",
              "    </tr>\n",
              "    <tr>\n",
              "      <th>565</th>\n",
              "      <td>1970</td>\n",
              "      <td>130</td>\n",
              "      <td>Fellini Satyricon</td>\n",
              "      <td>Drama</td>\n",
              "      <td>Potter, Martin</td>\n",
              "      <td>Keller, Hiram</td>\n",
              "      <td>Fellini, Federico</td>\n",
              "      <td>88</td>\n",
              "      <td>No</td>\n",
              "    </tr>\n",
              "    <tr>\n",
              "      <th>904</th>\n",
              "      <td>1982</td>\n",
              "      <td>128</td>\n",
              "      <td>Ballad of Narayama, The</td>\n",
              "      <td>Drama</td>\n",
              "      <td>Ogata, Ken</td>\n",
              "      <td>Sakamoto, Sumiko</td>\n",
              "      <td>Imamura, Shohei</td>\n",
              "      <td>88</td>\n",
              "      <td>No</td>\n",
              "    </tr>\n",
              "    <tr>\n",
              "      <th>117</th>\n",
              "      <td>1990</td>\n",
              "      <td>105</td>\n",
              "      <td>Guilty by Suspicion</td>\n",
              "      <td>Drama</td>\n",
              "      <td>De Niro, Robert</td>\n",
              "      <td>Bening, Annette</td>\n",
              "      <td>Winkler, Irwin</td>\n",
              "      <td>88</td>\n",
              "      <td>No</td>\n",
              "    </tr>\n",
              "    <tr>\n",
              "      <th>759</th>\n",
              "      <td>1940</td>\n",
              "      <td>105</td>\n",
              "      <td>Long Voyage Home, The</td>\n",
              "      <td>Drama</td>\n",
              "      <td>Wayne, John</td>\n",
              "      <td>Natwick, Mildred</td>\n",
              "      <td>Ford, John</td>\n",
              "      <td>88</td>\n",
              "      <td>No</td>\n",
              "    </tr>\n",
              "    <tr>\n",
              "      <th>858</th>\n",
              "      <td>1986</td>\n",
              "      <td>104</td>\n",
              "      <td>Best of Times, The</td>\n",
              "      <td>Comedy</td>\n",
              "      <td>Williams, Robin</td>\n",
              "      <td>Reed, Pamela</td>\n",
              "      <td>Spottiswoode, Roger</td>\n",
              "      <td>88</td>\n",
              "      <td>No</td>\n",
              "    </tr>\n",
              "    <tr>\n",
              "      <th>728</th>\n",
              "      <td>1960</td>\n",
              "      <td>103</td>\n",
              "      <td>Time Machine, The</td>\n",
              "      <td>Science Fiction</td>\n",
              "      <td>Taylor, Rod</td>\n",
              "      <td>Mimieux, Yvette</td>\n",
              "      <td>Pal, George</td>\n",
              "      <td>88</td>\n",
              "      <td>No</td>\n",
              "    </tr>\n",
              "    <tr>\n",
              "      <th>830</th>\n",
              "      <td>1990</td>\n",
              "      <td>95</td>\n",
              "      <td>Dangerous Pursuit</td>\n",
              "      <td>Mystery</td>\n",
              "      <td>Harrison, Gregory</td>\n",
              "      <td>Powers, Alexandra</td>\n",
              "      <td>Stern, Sandor</td>\n",
              "      <td>88</td>\n",
              "      <td>No</td>\n",
              "    </tr>\n",
              "    <tr>\n",
              "      <th>153</th>\n",
              "      <td>1991</td>\n",
              "      <td>91</td>\n",
              "      <td>Raw Nerve</td>\n",
              "      <td>Mystery</td>\n",
              "      <td>Ford, Glenn</td>\n",
              "      <td>Bergman, Sandahl</td>\n",
              "      <td>Prior, David A.</td>\n",
              "      <td>88</td>\n",
              "      <td>No</td>\n",
              "    </tr>\n",
              "    <tr>\n",
              "      <th>142</th>\n",
              "      <td>1935</td>\n",
              "      <td>90</td>\n",
              "      <td>Swedenhielms</td>\n",
              "      <td>Drama</td>\n",
              "      <td>Westergren, Håkan</td>\n",
              "      <td>Bergman, Ingrid</td>\n",
              "      <td>Molander, Gustaf</td>\n",
              "      <td>88</td>\n",
              "      <td>No</td>\n",
              "    </tr>\n",
              "    <tr>\n",
              "      <th>536</th>\n",
              "      <td>1989</td>\n",
              "      <td>90</td>\n",
              "      <td>New Year's Day</td>\n",
              "      <td>Comedy</td>\n",
              "      <td>Jaglom, Henry</td>\n",
              "      <td>Jakobsen, Maggie</td>\n",
              "      <td>Jaglom, Henry</td>\n",
              "      <td>88</td>\n",
              "      <td>No</td>\n",
              "    </tr>\n",
              "    <tr>\n",
              "      <th>924</th>\n",
              "      <td>1986</td>\n",
              "      <td>90</td>\n",
              "      <td>Head Office</td>\n",
              "      <td>Comedy</td>\n",
              "      <td>Reinhold, Judge</td>\n",
              "      <td>Seymour, Jane</td>\n",
              "      <td>Finkleman, Ken</td>\n",
              "      <td>88</td>\n",
              "      <td>No</td>\n",
              "    </tr>\n",
              "    <tr>\n",
              "      <th>27</th>\n",
              "      <td>1989</td>\n",
              "      <td>88</td>\n",
              "      <td>Final Notice</td>\n",
              "      <td>Mystery</td>\n",
              "      <td>Gerard, Gil</td>\n",
              "      <td>Anderson, Melody</td>\n",
              "      <td>Stern, Steven Hilliard</td>\n",
              "      <td>88</td>\n",
              "      <td>No</td>\n",
              "    </tr>\n",
              "    <tr>\n",
              "      <th>409</th>\n",
              "      <td>1989</td>\n",
              "      <td>86</td>\n",
              "      <td>Let It Ride</td>\n",
              "      <td>Comedy</td>\n",
              "      <td>Dreyfuss, Richard</td>\n",
              "      <td>Garr, Teri</td>\n",
              "      <td>Pytka, Joe</td>\n",
              "      <td>88</td>\n",
              "      <td>No</td>\n",
              "    </tr>\n",
              "  </tbody>\n",
              "</table>\n",
              "</div>"
            ],
            "text/plain": [
              "      Year  Length  ... Popularity Awards\n",
              "976   1985     161  ...         88    Yes\n",
              "1106  1991     160  ...         88     No\n",
              "565   1970     130  ...         88     No\n",
              "904   1982     128  ...         88     No\n",
              "117   1990     105  ...         88     No\n",
              "759   1940     105  ...         88     No\n",
              "858   1986     104  ...         88     No\n",
              "728   1960     103  ...         88     No\n",
              "830   1990      95  ...         88     No\n",
              "153   1991      91  ...         88     No\n",
              "142   1935      90  ...         88     No\n",
              "536   1989      90  ...         88     No\n",
              "924   1986      90  ...         88     No\n",
              "27    1989      88  ...         88     No\n",
              "409   1989      86  ...         88     No\n",
              "\n",
              "[15 rows x 9 columns]"
            ]
          },
          "metadata": {
            "tags": []
          },
          "execution_count": 50
        }
      ]
    },
    {
      "cell_type": "markdown",
      "metadata": {
        "id": "GGEOKdeqEPIH"
      },
      "source": [
        "**nsmallest** returns the first n rows ordered by columns in ascending order."
      ]
    },
    {
      "cell_type": "code",
      "metadata": {
        "id": "_E7hGR-nDMjz",
        "colab": {
          "base_uri": "https://localhost:8080/"
        },
        "outputId": "975c698a-becf-40d6-f916-47f22c2eede4"
      },
      "source": [
        "films_df['Year'].nsmallest(5)"
      ],
      "execution_count": null,
      "outputs": [
        {
          "output_type": "execute_result",
          "data": {
            "text/plain": [
              "54     1924\n",
              "922    1924\n",
              "405    1925\n",
              "62     1926\n",
              "65     1926\n",
              "Name: Year, dtype: int64"
            ]
          },
          "metadata": {
            "tags": []
          },
          "execution_count": 51
        }
      ]
    },
    {
      "cell_type": "code",
      "metadata": {
        "id": "HY-qnoGDD0Wm",
        "colab": {
          "base_uri": "https://localhost:8080/",
          "height": 363
        },
        "outputId": "0e3ed706-aa20-44ee-fc60-4c1492f85820"
      },
      "source": [
        "films_df.nsmallest(5, 'Length')"
      ],
      "execution_count": null,
      "outputs": [
        {
          "output_type": "execute_result",
          "data": {
            "text/html": [
              "<div>\n",
              "<style scoped>\n",
              "    .dataframe tbody tr th:only-of-type {\n",
              "        vertical-align: middle;\n",
              "    }\n",
              "\n",
              "    .dataframe tbody tr th {\n",
              "        vertical-align: top;\n",
              "    }\n",
              "\n",
              "    .dataframe thead th {\n",
              "        text-align: right;\n",
              "    }\n",
              "</style>\n",
              "<table border=\"1\" class=\"dataframe\">\n",
              "  <thead>\n",
              "    <tr style=\"text-align: right;\">\n",
              "      <th></th>\n",
              "      <th>Year</th>\n",
              "      <th>Length</th>\n",
              "      <th>Title</th>\n",
              "      <th>Subject</th>\n",
              "      <th>Actor</th>\n",
              "      <th>Actress</th>\n",
              "      <th>Director</th>\n",
              "      <th>Popularity</th>\n",
              "      <th>Awards</th>\n",
              "    </tr>\n",
              "  </thead>\n",
              "  <tbody>\n",
              "    <tr>\n",
              "      <th>273</th>\n",
              "      <td>1942</td>\n",
              "      <td>18</td>\n",
              "      <td>Battle of Midway, The</td>\n",
              "      <td>War</td>\n",
              "      <td>Crisp, Donald</td>\n",
              "      <td>Darwell, Jane</td>\n",
              "      <td>Ford, John</td>\n",
              "      <td>75</td>\n",
              "      <td>No</td>\n",
              "    </tr>\n",
              "    <tr>\n",
              "      <th>198</th>\n",
              "      <td>1954</td>\n",
              "      <td>40</td>\n",
              "      <td>Inauguration of the Pleasure Dome</td>\n",
              "      <td>Short</td>\n",
              "      <td>De Brier, Sampson</td>\n",
              "      <td>Cameron, Marjorie</td>\n",
              "      <td>Anger, Kenneth</td>\n",
              "      <td>62</td>\n",
              "      <td>No</td>\n",
              "    </tr>\n",
              "    <tr>\n",
              "      <th>202</th>\n",
              "      <td>1983</td>\n",
              "      <td>50</td>\n",
              "      <td>Father Murphy, A Horse from Heaven</td>\n",
              "      <td>Comedy</td>\n",
              "      <td>Olsen, Merlin</td>\n",
              "      <td>Cannon, Katharine</td>\n",
              "      <td>Claxton, William F.</td>\n",
              "      <td>28</td>\n",
              "      <td>No</td>\n",
              "    </tr>\n",
              "    <tr>\n",
              "      <th>427</th>\n",
              "      <td>1964</td>\n",
              "      <td>51</td>\n",
              "      <td>Outer Limits, The</td>\n",
              "      <td>Science Fiction</td>\n",
              "      <td>Perrin, Vic</td>\n",
              "      <td>Grahame, Gloria</td>\n",
              "      <td>Stanley, Paul</td>\n",
              "      <td>27</td>\n",
              "      <td>No</td>\n",
              "    </tr>\n",
              "    <tr>\n",
              "      <th>592</th>\n",
              "      <td>1935</td>\n",
              "      <td>54</td>\n",
              "      <td>Desert Trail, The</td>\n",
              "      <td>Western</td>\n",
              "      <td>Wayne, John</td>\n",
              "      <td>Kornman, Mary</td>\n",
              "      <td>Collins, Lewis D.</td>\n",
              "      <td>50</td>\n",
              "      <td>No</td>\n",
              "    </tr>\n",
              "  </tbody>\n",
              "</table>\n",
              "</div>"
            ],
            "text/plain": [
              "     Year  Length  ... Popularity Awards\n",
              "273  1942      18  ...         75     No\n",
              "198  1954      40  ...         62     No\n",
              "202  1983      50  ...         28     No\n",
              "427  1964      51  ...         27     No\n",
              "592  1935      54  ...         50     No\n",
              "\n",
              "[5 rows x 9 columns]"
            ]
          },
          "metadata": {
            "tags": []
          },
          "execution_count": 52
        }
      ]
    },
    {
      "cell_type": "markdown",
      "metadata": {
        "id": "cGNHIrYl-qhz"
      },
      "source": [
        "# Try It Yourself"
      ]
    },
    {
      "cell_type": "markdown",
      "metadata": {
        "id": "Itj-2htKdtGC"
      },
      "source": [
        "For the following questions, use the **Covid** dataset.\n",
        "\n",
        "0.  Load the dataset into a dataframe using `read_csv`\n",
        "1.  Add a row to the dataset, containing stats for September 5th.\n",
        "2.  Sort the dataset in ascending order of `date` and descending order of `new_cases`. \n",
        "3. Get the top 15 days with the largest number of new_cases.\n",
        "4. Drop the `new_deaths` and `new_tests` columns of the dataset.\n",
        "5. Drop the first 5 rows of the dataset.\n"
      ]
    }
  ]
}